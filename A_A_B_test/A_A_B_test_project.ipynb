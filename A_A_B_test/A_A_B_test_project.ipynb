{
 "cells": [
  {
   "cell_type": "markdown",
   "metadata": {},
   "source": [
    "# Анализ пользовательского поведения в мобильном приложении по продаже продуктов питания"
   ]
  },
  {
   "cell_type": "markdown",
   "metadata": {},
   "source": [
    "### Ход исследования\n",
    "\n",
    "1. [Подготовка данных:](#start)\n",
    "- загрузка данных;\n",
    "- обзор и предобработка выгруженных данных. О качестве данных ничего неизвестно, поэтому перед тем как приступать к целям исследования, потребуется их обзор: *проверим данные на пропуски и оценим их влияние на исследование. Осуществим проверку на явные дубликаты. Затем на этапе предобработки поищем возможность заполнить/удалить пропуски в данных, которые не приведут к искажению конечного результата. Преобразуем типы данных в колонках соответственно сохранённым в них значениям.*\n",
    "2. [Изучение и проверка данных, в т.ч. определение с какого момента данные полные и исключение более старых.](#actual_data)\n",
    "3. [Изучение воронки событий:](#event_funnel)\n",
    "- определение порядка событий и какое из них не стоит учитывать в воронке;\n",
    "- определение доли пользователей для каждого шага, а также долю пользователей, которые дошли от первого события до оплаты.\n",
    "4. [Проверка результатов А/А-теста на корректность работы разбиения на группы:](#a_a_test)\n",
    "- проверка на равенство размеров изучаемых выборок и неперсечения пользователей;\n",
    "- проверка равенства долей.\n",
    "5. [Изучение результатов А/А/В-теста и принятие решения о приостановке эксперимента и определению какой шрифт лучше (или о продолжении эксперимента):](#a_a_b_test)\n",
    "- проверка равенства долей с каждой контрольной группой;\n",
    "- проверка равенства долей с объединенными контрольными группами.\n",
    "6. [Общий вывод.](#conclusion)"
   ]
  },
  {
   "cell_type": "markdown",
   "metadata": {},
   "source": [
    "### Подготовка данных\n",
    "<a id=\"start\"></a> "
   ]
  },
  {
   "cell_type": "code",
   "execution_count": 1,
   "metadata": {},
   "outputs": [],
   "source": [
    "#вызываем функцию игнорирования предупреждений\n",
    "import warnings\n",
    "warnings.filterwarnings('ignore')\n",
    "\n",
    "#импорт библиотек, необходимых для проведения анализа\n",
    "import pandas as pd\n",
    "import matplotlib.pyplot as plt\n",
    "import scipy.stats as st\n",
    "import numpy as np\n",
    "import math as mth"
   ]
  },
  {
   "cell_type": "code",
   "execution_count": 2,
   "metadata": {},
   "outputs": [
    {
     "data": {
      "text/html": [
       "<div>\n",
       "<style scoped>\n",
       "    .dataframe tbody tr th:only-of-type {\n",
       "        vertical-align: middle;\n",
       "    }\n",
       "\n",
       "    .dataframe tbody tr th {\n",
       "        vertical-align: top;\n",
       "    }\n",
       "\n",
       "    .dataframe thead th {\n",
       "        text-align: right;\n",
       "    }\n",
       "</style>\n",
       "<table border=\"1\" class=\"dataframe\">\n",
       "  <thead>\n",
       "    <tr style=\"text-align: right;\">\n",
       "      <th></th>\n",
       "      <th>EventName</th>\n",
       "      <th>DeviceIDHash</th>\n",
       "      <th>EventTimestamp</th>\n",
       "      <th>ExpId</th>\n",
       "    </tr>\n",
       "  </thead>\n",
       "  <tbody>\n",
       "    <tr>\n",
       "      <th>0</th>\n",
       "      <td>MainScreenAppear</td>\n",
       "      <td>4575588528974610257</td>\n",
       "      <td>1564029816</td>\n",
       "      <td>246</td>\n",
       "    </tr>\n",
       "    <tr>\n",
       "      <th>1</th>\n",
       "      <td>MainScreenAppear</td>\n",
       "      <td>7416695313311560658</td>\n",
       "      <td>1564053102</td>\n",
       "      <td>246</td>\n",
       "    </tr>\n",
       "    <tr>\n",
       "      <th>2</th>\n",
       "      <td>PaymentScreenSuccessful</td>\n",
       "      <td>3518123091307005509</td>\n",
       "      <td>1564054127</td>\n",
       "      <td>248</td>\n",
       "    </tr>\n",
       "    <tr>\n",
       "      <th>3</th>\n",
       "      <td>CartScreenAppear</td>\n",
       "      <td>3518123091307005509</td>\n",
       "      <td>1564054127</td>\n",
       "      <td>248</td>\n",
       "    </tr>\n",
       "    <tr>\n",
       "      <th>4</th>\n",
       "      <td>PaymentScreenSuccessful</td>\n",
       "      <td>6217807653094995999</td>\n",
       "      <td>1564055322</td>\n",
       "      <td>248</td>\n",
       "    </tr>\n",
       "  </tbody>\n",
       "</table>\n",
       "</div>"
      ],
      "text/plain": [
       "                 EventName         DeviceIDHash  EventTimestamp  ExpId\n",
       "0         MainScreenAppear  4575588528974610257      1564029816    246\n",
       "1         MainScreenAppear  7416695313311560658      1564053102    246\n",
       "2  PaymentScreenSuccessful  3518123091307005509      1564054127    248\n",
       "3         CartScreenAppear  3518123091307005509      1564054127    248\n",
       "4  PaymentScreenSuccessful  6217807653094995999      1564055322    248"
      ]
     },
     "execution_count": 2,
     "metadata": {},
     "output_type": "execute_result"
    }
   ],
   "source": [
    "#выгружаем файл с данными\n",
    "data = pd.read_csv('https://...', sep='\\t')\n",
    "\n",
    "#выведем на экран первые 5 строк, выгруженного датасета\n",
    "data.head()"
   ]
  },
  {
   "cell_type": "code",
   "execution_count": 3,
   "metadata": {},
   "outputs": [
    {
     "data": {
      "text/html": [
       "<div>\n",
       "<style scoped>\n",
       "    .dataframe tbody tr th:only-of-type {\n",
       "        vertical-align: middle;\n",
       "    }\n",
       "\n",
       "    .dataframe tbody tr th {\n",
       "        vertical-align: top;\n",
       "    }\n",
       "\n",
       "    .dataframe thead th {\n",
       "        text-align: right;\n",
       "    }\n",
       "</style>\n",
       "<table border=\"1\" class=\"dataframe\">\n",
       "  <thead>\n",
       "    <tr style=\"text-align: right;\">\n",
       "      <th></th>\n",
       "      <th>event_name</th>\n",
       "      <th>user_id</th>\n",
       "      <th>event_ts</th>\n",
       "      <th>group</th>\n",
       "    </tr>\n",
       "  </thead>\n",
       "  <tbody>\n",
       "    <tr>\n",
       "      <th>0</th>\n",
       "      <td>MainScreenAppear</td>\n",
       "      <td>4575588528974610257</td>\n",
       "      <td>1564029816</td>\n",
       "      <td>246</td>\n",
       "    </tr>\n",
       "    <tr>\n",
       "      <th>1</th>\n",
       "      <td>MainScreenAppear</td>\n",
       "      <td>7416695313311560658</td>\n",
       "      <td>1564053102</td>\n",
       "      <td>246</td>\n",
       "    </tr>\n",
       "    <tr>\n",
       "      <th>2</th>\n",
       "      <td>PaymentScreenSuccessful</td>\n",
       "      <td>3518123091307005509</td>\n",
       "      <td>1564054127</td>\n",
       "      <td>248</td>\n",
       "    </tr>\n",
       "    <tr>\n",
       "      <th>3</th>\n",
       "      <td>CartScreenAppear</td>\n",
       "      <td>3518123091307005509</td>\n",
       "      <td>1564054127</td>\n",
       "      <td>248</td>\n",
       "    </tr>\n",
       "    <tr>\n",
       "      <th>4</th>\n",
       "      <td>PaymentScreenSuccessful</td>\n",
       "      <td>6217807653094995999</td>\n",
       "      <td>1564055322</td>\n",
       "      <td>248</td>\n",
       "    </tr>\n",
       "  </tbody>\n",
       "</table>\n",
       "</div>"
      ],
      "text/plain": [
       "                event_name              user_id    event_ts  group\n",
       "0         MainScreenAppear  4575588528974610257  1564029816    246\n",
       "1         MainScreenAppear  7416695313311560658  1564053102    246\n",
       "2  PaymentScreenSuccessful  3518123091307005509  1564054127    248\n",
       "3         CartScreenAppear  3518123091307005509  1564054127    248\n",
       "4  PaymentScreenSuccessful  6217807653094995999  1564055322    248"
      ]
     },
     "execution_count": 3,
     "metadata": {},
     "output_type": "execute_result"
    }
   ],
   "source": [
    "#переименуем названия столбцов\n",
    "data = data.rename(\n",
    "    columns={\n",
    "        'EventName' : 'event_name',\n",
    "        'DeviceIDHash' : 'user_id',\n",
    "        'EventTimestamp' : 'event_ts',\n",
    "        'ExpId' : 'group'\n",
    "    }\n",
    ")\n",
    "#выведем на экран первые 5 строк, полученного датасета\n",
    "data.head()"
   ]
  },
  {
   "cell_type": "code",
   "execution_count": 4,
   "metadata": {},
   "outputs": [
    {
     "name": "stdout",
     "output_type": "stream",
     "text": [
      "<class 'pandas.core.frame.DataFrame'>\n",
      "RangeIndex: 244126 entries, 0 to 244125\n",
      "Data columns (total 4 columns):\n",
      " #   Column      Non-Null Count   Dtype \n",
      "---  ------      --------------   ----- \n",
      " 0   event_name  244126 non-null  object\n",
      " 1   user_id     244126 non-null  int64 \n",
      " 2   event_ts    244126 non-null  int64 \n",
      " 3   group       244126 non-null  int64 \n",
      "dtypes: int64(3), object(1)\n",
      "memory usage: 7.5+ MB\n"
     ]
    }
   ],
   "source": [
    "#выведем общую информацию о файле\n",
    "data.info()"
   ]
  },
  {
   "cell_type": "markdown",
   "metadata": {},
   "source": [
    "Выгрузив и изучив данные видим, что пропуски в данных отсутствуют. При этом сами данные столбца event_ts не представлены ввиде даты, в т.ч. и тип данных самого столбца. Как видим в самом столбце данные представлены в формате unix time (количество секунд, прошедших с 00:00:00 1 января 1970 года). Преобразуем его, а также создадим отдельный столбец с датой:"
   ]
  },
  {
   "cell_type": "code",
   "execution_count": 5,
   "metadata": {},
   "outputs": [
    {
     "name": "stdout",
     "output_type": "stream",
     "text": [
      "<class 'pandas.core.frame.DataFrame'>\n",
      "RangeIndex: 244126 entries, 0 to 244125\n",
      "Data columns (total 2 columns):\n",
      " #   Column      Non-Null Count   Dtype         \n",
      "---  ------      --------------   -----         \n",
      " 0   event_ts    244126 non-null  datetime64[ns]\n",
      " 1   event_date  244126 non-null  datetime64[ns]\n",
      "dtypes: datetime64[ns](2)\n",
      "memory usage: 3.7 MB\n"
     ]
    }
   ],
   "source": [
    "#представим данные столбца event_ts в виде даты и времени\n",
    "data['event_ts'] = pd.to_datetime(data['event_ts'], unit='s')\n",
    "\n",
    "#добавим столбец event_date, в котором будет отображены только дата вычлененная из столбца event_ts\n",
    "data['event_date'] = data['event_ts'].dt.date\n",
    "\n",
    "#преобразуем тип данных столбца event_date в datetime\n",
    "data['event_date'] = pd.to_datetime(data['event_date'])\n",
    "\n",
    "#выведем данные о полученных столбцах\n",
    "data[['event_ts', 'event_date']].info()"
   ]
  },
  {
   "cell_type": "markdown",
   "metadata": {},
   "source": [
    "Дату и время получили, столбец с датой вывели. Типы данных в указанных столбцах соотвествуют их значениям.\n",
    "\n",
    "Теперь осуществим проверку на дубликаты:"
   ]
  },
  {
   "cell_type": "code",
   "execution_count": 6,
   "metadata": {},
   "outputs": [
    {
     "data": {
      "text/plain": [
       "413"
      ]
     },
     "execution_count": 6,
     "metadata": {},
     "output_type": "execute_result"
    }
   ],
   "source": [
    "#посчитаем количество дубликатов в нашем датафрейме\n",
    "data.duplicated().sum()"
   ]
  },
  {
   "cell_type": "markdown",
   "metadata": {},
   "source": [
    "Оказывается в датафрейме 413 дубликатов. Удалим их и выведем полученное количество строк, преобразованного датасета:"
   ]
  },
  {
   "cell_type": "code",
   "execution_count": 7,
   "metadata": {
    "scrolled": false
   },
   "outputs": [
    {
     "data": {
      "text/plain": [
       "243713"
      ]
     },
     "execution_count": 7,
     "metadata": {},
     "output_type": "execute_result"
    }
   ],
   "source": [
    "#удалим явные дубликаты и сразу пересчитаем индексы\n",
    "data = data.drop_duplicates().reset_index(drop=True)\n",
    "\n",
    "#выведем полученное итоговое количество строк датафрейма\n",
    "data.shape[0]"
   ]
  },
  {
   "cell_type": "markdown",
   "metadata": {},
   "source": [
    "Количество строк уменьшилось (было 244 126) на количество дубликатов."
   ]
  },
  {
   "cell_type": "markdown",
   "metadata": {},
   "source": [
    "### Изучение и проверка данных\n",
    "<a id=\"actual_data\"></a> "
   ]
  },
  {
   "cell_type": "markdown",
   "metadata": {},
   "source": [
    "**Посмотрим сколько всего событий в логе:**"
   ]
  },
  {
   "cell_type": "code",
   "execution_count": 8,
   "metadata": {},
   "outputs": [
    {
     "data": {
      "text/html": [
       "<div>\n",
       "<style scoped>\n",
       "    .dataframe tbody tr th:only-of-type {\n",
       "        vertical-align: middle;\n",
       "    }\n",
       "\n",
       "    .dataframe tbody tr th {\n",
       "        vertical-align: top;\n",
       "    }\n",
       "\n",
       "    .dataframe thead th {\n",
       "        text-align: right;\n",
       "    }\n",
       "</style>\n",
       "<table border=\"1\" class=\"dataframe\">\n",
       "  <thead>\n",
       "    <tr style=\"text-align: right;\">\n",
       "      <th></th>\n",
       "      <th>event_name</th>\n",
       "      <th>count</th>\n",
       "    </tr>\n",
       "  </thead>\n",
       "  <tbody>\n",
       "    <tr>\n",
       "      <th>0</th>\n",
       "      <td>CartScreenAppear</td>\n",
       "      <td>42668</td>\n",
       "    </tr>\n",
       "    <tr>\n",
       "      <th>1</th>\n",
       "      <td>MainScreenAppear</td>\n",
       "      <td>119101</td>\n",
       "    </tr>\n",
       "    <tr>\n",
       "      <th>2</th>\n",
       "      <td>OffersScreenAppear</td>\n",
       "      <td>46808</td>\n",
       "    </tr>\n",
       "    <tr>\n",
       "      <th>3</th>\n",
       "      <td>PaymentScreenSuccessful</td>\n",
       "      <td>34118</td>\n",
       "    </tr>\n",
       "    <tr>\n",
       "      <th>4</th>\n",
       "      <td>Tutorial</td>\n",
       "      <td>1018</td>\n",
       "    </tr>\n",
       "    <tr>\n",
       "      <th>5</th>\n",
       "      <td>All</td>\n",
       "      <td>243713</td>\n",
       "    </tr>\n",
       "  </tbody>\n",
       "</table>\n",
       "</div>"
      ],
      "text/plain": [
       "                event_name   count\n",
       "0         CartScreenAppear   42668\n",
       "1         MainScreenAppear  119101\n",
       "2       OffersScreenAppear   46808\n",
       "3  PaymentScreenSuccessful   34118\n",
       "4                 Tutorial    1018\n",
       "5                      All  243713"
      ]
     },
     "execution_count": 8,
     "metadata": {},
     "output_type": "execute_result"
    }
   ],
   "source": [
    "#построим сводную таблицу, сгруппировав по столбцу event_name и выведем количество каждого\n",
    "data.pivot_table(\n",
    "    index = 'event_name',\n",
    "    aggfunc = 'count',\n",
    "    margins = 'All' #выведем итоговую сумму, чтобы проверить себя, что мы не ошиблись в вычислениях, общее кол-во строк должно\n",
    ")[                  #получиться равное количеству строк датафрейма или 243 713\n",
    "    'user_id'\n",
    "].reset_index(\n",
    ").rename(\n",
    "    columns={'user_id' : 'count'})"
   ]
  },
  {
   "cell_type": "markdown",
   "metadata": {},
   "source": [
    "Получается у нас всего 5 событий:\n",
    "- MainScreenAppear - Входная страница\n",
    "- PaymentScreenSuccessful - Успешная оплата заказа\n",
    "- CartScreenAppear - Корзина\n",
    "- OffersScreenAppear - Каталог\n",
    "- Tutorial - Инстуркция о функционале приложения."
   ]
  },
  {
   "cell_type": "markdown",
   "metadata": {},
   "source": [
    "**Посчитаем сколько всего пользователей в логе:**"
   ]
  },
  {
   "cell_type": "code",
   "execution_count": 9,
   "metadata": {},
   "outputs": [
    {
     "data": {
      "text/plain": [
       "7551"
      ]
     },
     "execution_count": 9,
     "metadata": {},
     "output_type": "execute_result"
    }
   ],
   "source": [
    "#посчитаем количество уникальных пользоваталей с помощью метода nunique()\n",
    "data['user_id'].nunique()"
   ]
  },
  {
   "cell_type": "markdown",
   "metadata": {},
   "source": [
    "Количество уникальных пользователей в датафрейме - 7 551."
   ]
  },
  {
   "cell_type": "markdown",
   "metadata": {},
   "source": [
    "**Посчитаем сколько в среднем событий приходится на пользователя:**"
   ]
  },
  {
   "cell_type": "code",
   "execution_count": 10,
   "metadata": {},
   "outputs": [
    {
     "data": {
      "text/plain": [
       "'32'"
      ]
     },
     "execution_count": 10,
     "metadata": {},
     "output_type": "execute_result"
    }
   ],
   "source": [
    "\"{0:.0f}\".format( #представим полученные данные в целых числах\n",
    "    data['event_name'].count() / data['user_id'].nunique() #поделим общее кол-во событий на кол-во уникальных пользоваталей\n",
    ")"
   ]
  },
  {
   "cell_type": "markdown",
   "metadata": {},
   "source": [
    "Рассчитав среднееарифметическое получили, что в среднем на 1-го пользователя приходится 32 события."
   ]
  },
  {
   "cell_type": "markdown",
   "metadata": {},
   "source": [
    "Рассмотрим среднее значение через призму гистограммы и медианного значения:"
   ]
  },
  {
   "cell_type": "code",
   "execution_count": 11,
   "metadata": {},
   "outputs": [
    {
     "data": {
      "image/png": "[encoded data removed]",
      "text/plain": [
       "<Figure size 1500x800 with 1 Axes>"
      ]
     },
     "metadata": {},
     "output_type": "display_data"
    }
   ],
   "source": [
    "data.groupby( #сгруппируем датасет по пользователям\n",
    "    'user_id', as_index=False\n",
    ")['event_name'].count( #посчитав сколько событий приходится на каждого пользователя\n",
    ").rename(\n",
    "    columns={'event_name':'events_count'}\n",
    ").drop(\n",
    "    ['user_id'], axis=1\n",
    ").plot(\n",
    "    kind='hist', #построим гистограмму\n",
    "    title='Гистограмма распределения кол-ва событий на пользователя',\n",
    "    legend=True,\n",
    "    figsize=(15,8),\n",
    "    grid=True\n",
    ")\n",
    "\n",
    "#зададим наименования осям\n",
    "plt.xlabel('Количество событий')\n",
    "plt.ylabel('Количество пользователей');"
   ]
  },
  {
   "cell_type": "markdown",
   "metadata": {},
   "source": [
    "В таком формате гистограмма не наглядна и ее сложно интерпритировать, т.к. большое скопление данных в районе от 0 до 200 количеств событий на 1 пользователя и очень длинный хвост в сторону редкого количества событий на одного пользователя в размере 2 000. Построим диаграмму \"ящика с усами\" для наглядности:"
   ]
  },
  {
   "cell_type": "code",
   "execution_count": 12,
   "metadata": {},
   "outputs": [
    {
     "data": {
      "image/png": "[encoded data removed]",
      "text/plain": [
       "<Figure size 1500x800 with 1 Axes>"
      ]
     },
     "metadata": {},
     "output_type": "display_data"
    }
   ],
   "source": [
    "#построим \"ящик с усами\"\n",
    "data.groupby(\n",
    "    'user_id', as_index=False\n",
    ")['event_name'].count(\n",
    ").rename(\n",
    "    columns={'event_name':'events_count'}\n",
    ").drop(\n",
    "    ['user_id'], axis=1\n",
    ").boxplot(\n",
    "    figsize=(15,8)\n",
    ")\n",
    "\n",
    "#добавим подписи к графику\n",
    "plt.title('Ящик с усами количества событий, совершаемых пользователями')\n",
    "plt.ylabel('Количество событий');"
   ]
  },
  {
   "cell_type": "markdown",
   "metadata": {},
   "source": [
    "Видим, что значения свыше 1 000 количества событий на 1 пользователя очень редко повторяются. Основная часть пользователей с повторяющимся количеством событий лежит внизу боксплота.\n",
    "\n",
    "\n",
    "Построим еще раз гистограмму, но уже поменяем границы рассматриваемого интервала количества событий на одного пользователя и добавим \"корзин\":"
   ]
  },
  {
   "cell_type": "code",
   "execution_count": 13,
   "metadata": {},
   "outputs": [
    {
     "data": {
      "image/png": "[encoded data removed]",
      "text/plain": [
       "<Figure size 1500x800 with 1 Axes>"
      ]
     },
     "metadata": {},
     "output_type": "display_data"
    }
   ],
   "source": [
    "#построим гистограмму задав ему интервал от 0 до 100 (range=(0,100)) и количетво \"корзин\" равное 100 (bins=100)\n",
    "data.groupby(\n",
    "    'user_id', as_index=False\n",
    ")['event_name'].count(\n",
    ").rename(\n",
    "    columns={'event_name':'events_count'}\n",
    ").drop(\n",
    "    ['user_id'], axis=1\n",
    ").plot(\n",
    "    kind='hist', #построим гистограмму\n",
    "    title='Гистограмма распределения кол-ва событий на пользователя',\n",
    "    legend=True,\n",
    "    figsize=(15,8),\n",
    "    grid=True,\n",
    "    range=(0,100),\n",
    "    bins=100\n",
    ")\n",
    "\n",
    "#зададим наименования осям\n",
    "plt.xlabel('Количество событий')\n",
    "plt.ylabel('Количество пользователей');"
   ]
  },
  {
   "cell_type": "markdown",
   "metadata": {},
   "source": [
    "На данной гистограмме уже лучше видно распределение количества событий на пользователя. И можно предположить, что медианное значение расположено в районе 20 повторений на одного пользователя. Проверим - посчитаем медиану:"
   ]
  },
  {
   "cell_type": "code",
   "execution_count": 14,
   "metadata": {},
   "outputs": [
    {
     "data": {
      "text/plain": [
       "20.0"
      ]
     },
     "execution_count": 14,
     "metadata": {},
     "output_type": "execute_result"
    }
   ],
   "source": [
    "#рассчитаем медианну\n",
    "data['user_id'].value_counts().median()"
   ]
  },
  {
   "cell_type": "markdown",
   "metadata": {},
   "source": [
    "Т.к. наши данные очень разбросаны от небольшого количества событий на одного пользователя до очень больших, корректнее за среднее значение событий, которое приходится на пользователя, брать не среднее арифметическое, а мединау, то есть **в среднем на одного пользователя приходится около 20 событий.**"
   ]
  },
  {
   "cell_type": "markdown",
   "metadata": {},
   "source": [
    "**Определим данными за какой период мы располагаем.**\n",
    "\n",
    "Сперва найдем минимальную и максимульную даты рассматриваемого периода:"
   ]
  },
  {
   "cell_type": "code",
   "execution_count": 15,
   "metadata": {},
   "outputs": [
    {
     "data": {
      "text/plain": [
       "Timestamp('2019-07-25 00:00:00')"
      ]
     },
     "metadata": {},
     "output_type": "display_data"
    },
    {
     "data": {
      "text/plain": [
       "Timestamp('2019-08-07 00:00:00')"
      ]
     },
     "metadata": {},
     "output_type": "display_data"
    }
   ],
   "source": [
    "display(\n",
    "    data['event_date'].min(),\n",
    "    data['event_date'].max()\n",
    ")"
   ]
  },
  {
   "cell_type": "markdown",
   "metadata": {},
   "source": [
    "Рассматриваемый нами период с 25 июля 2019 года по 7 августа 2019 года или 14 дней."
   ]
  },
  {
   "cell_type": "markdown",
   "metadata": {},
   "source": [
    "Построим график количества событий по дням:"
   ]
  },
  {
   "cell_type": "code",
   "execution_count": 16,
   "metadata": {},
   "outputs": [
    {
     "data": {
      "image/png": "[encoded data removed]",
      "text/plain": [
       "<Figure size 1500x800 with 1 Axes>"
      ]
     },
     "metadata": {},
     "output_type": "display_data"
    }
   ],
   "source": [
    "data.groupby(\n",
    "    'event_date' #сгруппируем данные по датам\n",
    ").agg(\n",
    "    {'event_name' : 'count'} #посчитаем количество событий на каждую дату\n",
    ").rename(  #переименуем столбец\n",
    "    columns={'event_name' : 'count'}\n",
    ").plot(\n",
    "    kind='line',\n",
    "    figsize=(15,8),\n",
    "    grid=True,\n",
    "    xlabel='Дата',\n",
    "    ylabel='Количество событий',\n",
    "    title='График количества событий по дням'\n",
    ");"
   ]
  },
  {
   "cell_type": "markdown",
   "metadata": {},
   "source": [
    "По графику четко видно, что в логи новых дней по некоторым пользователям «доезжают» события из прошлого — это может «перекашивать данные». Поэтому, начиная с 1 августа данные полные. Остальные следует отбросить. Тогда исследуемый период времени будет с 01.08.2019 по 07.08.2019.\n",
    "\n",
    "Измерим сколько событий мы потеряем отбросив период с 25.07.2019 по 31.07.2019:"
   ]
  },
  {
   "cell_type": "code",
   "execution_count": 17,
   "metadata": {
    "scrolled": false
   },
   "outputs": [
    {
     "data": {
      "text/plain": [
       "2826"
      ]
     },
     "metadata": {},
     "output_type": "display_data"
    },
    {
     "data": {
      "text/plain": [
       "'1.2%'"
      ]
     },
     "metadata": {},
     "output_type": "display_data"
    }
   ],
   "source": [
    "#посчитаем количество событий, которые мы потеряем, отсеяв \"доезжающие\" и долю этих событий во всем датафрейме\n",
    "display(\n",
    "    data.query('\"25-07-2019\" <= event_date <= \"31-07-2019\"')['event_name'].count(),\n",
    "    \"{:.1%}\".format(\n",
    "        data.query('\"25-07-2019\" <= event_date <= \"31-07-2019\"')['event_name'].count() / data['event_name'].count()\n",
    "    )\n",
    ")"
   ]
  },
  {
   "cell_type": "markdown",
   "metadata": {},
   "source": [
    "Также узнаем сколько потеряется пользователей за указанный период:"
   ]
  },
  {
   "cell_type": "code",
   "execution_count": 18,
   "metadata": {},
   "outputs": [
    {
     "data": {
      "text/plain": [
       "1451"
      ]
     },
     "execution_count": 18,
     "metadata": {},
     "output_type": "execute_result"
    }
   ],
   "source": [
    "#посчитаем количество уникальных пользователей, которых мы потеряем, отсеяв \"доезжающие\" события\n",
    "data.query('\"25-07-2019\" <= event_date <= \"31-07-2019\"')['user_id'].nunique()"
   ]
  },
  {
   "cell_type": "markdown",
   "metadata": {},
   "source": [
    "Получается, отсеяв данные в период с 25.07.2019 по 31.07.2019, мы потеряем 1,2% всех событий и 1 451 пользователей, оформлявших покупки в этот период."
   ]
  },
  {
   "cell_type": "markdown",
   "metadata": {},
   "source": [
    "Перезапишем данные, которые будем использовать в дальнейшем анализе, оставив данные за период с 01.08.2019 по 07.08.2019:"
   ]
  },
  {
   "cell_type": "code",
   "execution_count": 19,
   "metadata": {},
   "outputs": [],
   "source": [
    "#отсечем все данные, которые меньше 2019-08-01\n",
    "data = data.query('event_date >= \"2019-08-01\"').reset_index(drop=True)"
   ]
  },
  {
   "cell_type": "markdown",
   "metadata": {},
   "source": [
    "### Изучим воронку событий\n",
    "<a id=\"event_funnel\"></a> "
   ]
  },
  {
   "cell_type": "markdown",
   "metadata": {},
   "source": [
    "**Посмотрим, какие события есть в логах и как часто они встречаются:**"
   ]
  },
  {
   "cell_type": "code",
   "execution_count": 20,
   "metadata": {},
   "outputs": [
    {
     "data": {
      "text/html": [
       "<div>\n",
       "<style scoped>\n",
       "    .dataframe tbody tr th:only-of-type {\n",
       "        vertical-align: middle;\n",
       "    }\n",
       "\n",
       "    .dataframe tbody tr th {\n",
       "        vertical-align: top;\n",
       "    }\n",
       "\n",
       "    .dataframe thead th {\n",
       "        text-align: right;\n",
       "    }\n",
       "</style>\n",
       "<table border=\"1\" class=\"dataframe\">\n",
       "  <thead>\n",
       "    <tr style=\"text-align: right;\">\n",
       "      <th></th>\n",
       "      <th>event_name</th>\n",
       "      <th>count</th>\n",
       "    </tr>\n",
       "  </thead>\n",
       "  <tbody>\n",
       "    <tr>\n",
       "      <th>1</th>\n",
       "      <td>MainScreenAppear</td>\n",
       "      <td>117328</td>\n",
       "    </tr>\n",
       "    <tr>\n",
       "      <th>2</th>\n",
       "      <td>OffersScreenAppear</td>\n",
       "      <td>46333</td>\n",
       "    </tr>\n",
       "    <tr>\n",
       "      <th>0</th>\n",
       "      <td>CartScreenAppear</td>\n",
       "      <td>42303</td>\n",
       "    </tr>\n",
       "    <tr>\n",
       "      <th>3</th>\n",
       "      <td>PaymentScreenSuccessful</td>\n",
       "      <td>33918</td>\n",
       "    </tr>\n",
       "    <tr>\n",
       "      <th>4</th>\n",
       "      <td>Tutorial</td>\n",
       "      <td>1005</td>\n",
       "    </tr>\n",
       "  </tbody>\n",
       "</table>\n",
       "</div>"
      ],
      "text/plain": [
       "                event_name   count\n",
       "1         MainScreenAppear  117328\n",
       "2       OffersScreenAppear   46333\n",
       "0         CartScreenAppear   42303\n",
       "3  PaymentScreenSuccessful   33918\n",
       "4                 Tutorial    1005"
      ]
     },
     "execution_count": 20,
     "metadata": {},
     "output_type": "execute_result"
    }
   ],
   "source": [
    "#сгруппируем данные по событиям и посчитаем количество каждого\n",
    "data.groupby(\n",
    "    'event_name', as_index=False\n",
    ").agg(\n",
    "    {'user_id' : 'count'}\n",
    ").sort_values( #отсортируем данные в порядке убывания кол-ва событий\n",
    "    by='user_id', ascending=False\n",
    ").rename(\n",
    "    columns={'user_id' : 'count'}\n",
    ")"
   ]
  },
  {
   "cell_type": "markdown",
   "metadata": {},
   "source": [
    "Видим воронку продаж в следующем порядке:\n",
    "- MainScreenAppear - Входная страница\n",
    "- OffersScreenAppear - Каталог\n",
    "- CartScreenAppear - Корзина\n",
    "- PaymentScreenSuccessful - Успешная оплата заказа\n",
    "- Tutorial - Инстуркция о функционале приложения."
   ]
  },
  {
   "cell_type": "markdown",
   "metadata": {},
   "source": [
    "**Теперь посчитаем сколько пользователей совершали каждое из этих событий:**"
   ]
  },
  {
   "cell_type": "code",
   "execution_count": 21,
   "metadata": {},
   "outputs": [
    {
     "data": {
      "text/html": [
       "<div>\n",
       "<style scoped>\n",
       "    .dataframe tbody tr th:only-of-type {\n",
       "        vertical-align: middle;\n",
       "    }\n",
       "\n",
       "    .dataframe tbody tr th {\n",
       "        vertical-align: top;\n",
       "    }\n",
       "\n",
       "    .dataframe thead th {\n",
       "        text-align: right;\n",
       "    }\n",
       "</style>\n",
       "<table border=\"1\" class=\"dataframe\">\n",
       "  <thead>\n",
       "    <tr style=\"text-align: right;\">\n",
       "      <th></th>\n",
       "      <th>event_name</th>\n",
       "      <th>users</th>\n",
       "    </tr>\n",
       "  </thead>\n",
       "  <tbody>\n",
       "    <tr>\n",
       "      <th>1</th>\n",
       "      <td>MainScreenAppear</td>\n",
       "      <td>7419</td>\n",
       "    </tr>\n",
       "    <tr>\n",
       "      <th>2</th>\n",
       "      <td>OffersScreenAppear</td>\n",
       "      <td>4593</td>\n",
       "    </tr>\n",
       "    <tr>\n",
       "      <th>0</th>\n",
       "      <td>CartScreenAppear</td>\n",
       "      <td>3734</td>\n",
       "    </tr>\n",
       "    <tr>\n",
       "      <th>3</th>\n",
       "      <td>PaymentScreenSuccessful</td>\n",
       "      <td>3539</td>\n",
       "    </tr>\n",
       "    <tr>\n",
       "      <th>4</th>\n",
       "      <td>Tutorial</td>\n",
       "      <td>840</td>\n",
       "    </tr>\n",
       "  </tbody>\n",
       "</table>\n",
       "</div>"
      ],
      "text/plain": [
       "                event_name  users\n",
       "1         MainScreenAppear   7419\n",
       "2       OffersScreenAppear   4593\n",
       "0         CartScreenAppear   3734\n",
       "3  PaymentScreenSuccessful   3539\n",
       "4                 Tutorial    840"
      ]
     },
     "execution_count": 21,
     "metadata": {},
     "output_type": "execute_result"
    }
   ],
   "source": [
    "#сгруппируем данные по событиям и посчитаем количество уникальных пользователей в каждом\n",
    "data.groupby(\n",
    "    'event_name', as_index=False\n",
    ").agg(\n",
    "    {'user_id' : 'nunique'}\n",
    ").sort_values( #отсортируем данные в порядке убывания кол-ва уникальных пользователей\n",
    "    by='user_id', ascending=False \n",
    ").rename(\n",
    "    columns={'user_id' : 'users'}\n",
    ")"
   ]
  },
  {
   "cell_type": "markdown",
   "metadata": {},
   "source": [
    "Видим, что данные по пользователям в каждом из событий расположены в той же очередности, что и по количеству событий. Также сперва основная пользователей посещает главную страницу, затем переходит в каталог, после чего в корзину, затем на страницу успешной оплаты (после совершения оплаты). При этом инструкцию о функционале приложения смотрят лишь некоторые. \n",
    "\n",
    "Посчитаем также долю пользователей, которые хоть раз совершили событие:"
   ]
  },
  {
   "cell_type": "code",
   "execution_count": 22,
   "metadata": {},
   "outputs": [
    {
     "data": {
      "text/plain": [
       "'61.9%'"
      ]
     },
     "execution_count": 22,
     "metadata": {},
     "output_type": "execute_result"
    }
   ],
   "source": [
    "#поделим количество пользователей перешедших из главной страницы в каталог\n",
    "\"{:.1%}\".format(\n",
    "    data[data['event_name'] == 'OffersScreenAppear']['user_id'].nunique() /\\\n",
    "    data[data['event_name'] == 'MainScreenAppear']['user_id'].nunique()\n",
    ")"
   ]
  },
  {
   "cell_type": "markdown",
   "metadata": {},
   "source": [
    "Получается почти 62% пользователей зашедших в приложение переходят в раздел каталог к выбору покупок."
   ]
  },
  {
   "cell_type": "markdown",
   "metadata": {},
   "source": [
    "Как мы увидели ранее все события выстраиваются в воронку продаж в том порядке, в котором убывает количество событий или количество уникальных пользователей, за исключением события Tutorial -  в данный раздел только те пользователи, которые хотели бы разобраться с функционалом приложения и его можно не учитывать при расчете воронки продаж."
   ]
  },
  {
   "cell_type": "markdown",
   "metadata": {},
   "source": [
    "**По воронке событий посчитаем, какая доля пользователей проходит на следующий шаг воронки (от числа пользователей на предыдущем):**"
   ]
  },
  {
   "cell_type": "code",
   "execution_count": 23,
   "metadata": {},
   "outputs": [
    {
     "data": {
      "text/plain": [
       "'Доля пользователей, перешедших с главной страницы в каталог - 62%'"
      ]
     },
     "metadata": {},
     "output_type": "display_data"
    },
    {
     "data": {
      "text/plain": [
       "'Доля пользователей, добавивших из каталога продукты в корзину - 81%'"
      ]
     },
     "metadata": {},
     "output_type": "display_data"
    },
    {
     "data": {
      "text/plain": [
       "'Доля пользователей, совершивших оплату после добавления товаров в корзину - 95%'"
      ]
     },
     "metadata": {},
     "output_type": "display_data"
    }
   ],
   "source": [
    "#посчитаем долю пользователей перешедших с одного шага на другой\n",
    "display(\n",
    "    f\"Доля пользователей, перешедших с главной страницы в каталог - \\\n",
    "{round(data[data['event_name'] == 'OffersScreenAppear']['user_id'].nunique()/data[data['event_name'] == 'MainScreenAppear']['user_id'].nunique()*100)}%\",\n",
    "    f\"Доля пользователей, добавивших из каталога продукты в корзину - \\\n",
    "{round(data[data['event_name'] == 'CartScreenAppear']['user_id'].nunique()/data[data['event_name'] == 'OffersScreenAppear']['user_id'].nunique()*100)}%\",\n",
    "    f\"Доля пользователей, совершивших оплату после добавления товаров в корзину - \\\n",
    "{round(data[data['event_name'] == 'PaymentScreenSuccessful']['user_id'].nunique()/data[data['event_name'] == 'CartScreenAppear']['user_id'].nunique()*100)}%\",\n",
    ")"
   ]
  },
  {
   "cell_type": "markdown",
   "metadata": {},
   "source": [
    "Как видим наибольшее количество пользователей теряется на шаге пользователей перешедших с главной страницы в каталог. По остальным шагам воронки провалов как таковых нет и уровень конверсии довольно высокий.\n",
    "\n",
    "**Посмотрим еще какая доля пользователей дошла от первого события до оплаты:**"
   ]
  },
  {
   "cell_type": "code",
   "execution_count": 24,
   "metadata": {},
   "outputs": [
    {
     "data": {
      "text/plain": [
       "'47.7%'"
      ]
     },
     "execution_count": 24,
     "metadata": {},
     "output_type": "execute_result"
    }
   ],
   "source": [
    "#посчитаем долю пользователей, которые дошли от первого шага до оплаты,\n",
    "#разделив кол-во пользователей из события PaymentScreenSuccessful на тех, кто из MainScreenAppear\n",
    "\"{:.1%}\".format(\n",
    "    data[data['event_name'] == 'PaymentScreenSuccessful']['user_id'].nunique() /\\\n",
    "    data[data['event_name'] == 'MainScreenAppear']['user_id'].nunique()\n",
    ")"
   ]
  },
  {
   "cell_type": "markdown",
   "metadata": {},
   "source": [
    "Получается, что почти каждый второй пользователь, зашедший в приложение совершает покупку - довольно неплохая конверсия в оплату."
   ]
  },
  {
   "cell_type": "markdown",
   "metadata": {},
   "source": [
    "Сформируем сводную таблицу по полученным данным для наглядности:"
   ]
  },
  {
   "cell_type": "code",
   "execution_count": 25,
   "metadata": {},
   "outputs": [
    {
     "data": {
      "text/html": [
       "<div>\n",
       "<style scoped>\n",
       "    .dataframe tbody tr th:only-of-type {\n",
       "        vertical-align: middle;\n",
       "    }\n",
       "\n",
       "    .dataframe tbody tr th {\n",
       "        vertical-align: top;\n",
       "    }\n",
       "\n",
       "    .dataframe thead th {\n",
       "        text-align: right;\n",
       "    }\n",
       "</style>\n",
       "<table border=\"1\" class=\"dataframe\">\n",
       "  <thead>\n",
       "    <tr style=\"text-align: right;\">\n",
       "      <th></th>\n",
       "      <th>uniq_users</th>\n",
       "      <th>part_uniq_users</th>\n",
       "      <th>conv_prev_step</th>\n",
       "      <th>transition_loss</th>\n",
       "    </tr>\n",
       "    <tr>\n",
       "      <th>event_name</th>\n",
       "      <th></th>\n",
       "      <th></th>\n",
       "      <th></th>\n",
       "      <th></th>\n",
       "    </tr>\n",
       "  </thead>\n",
       "  <tbody>\n",
       "    <tr>\n",
       "      <th>MainScreenAppear</th>\n",
       "      <td>7419</td>\n",
       "      <td>0.984736</td>\n",
       "      <td>0.984736</td>\n",
       "      <td>0.015264</td>\n",
       "    </tr>\n",
       "    <tr>\n",
       "      <th>OffersScreenAppear</th>\n",
       "      <td>4593</td>\n",
       "      <td>0.609636</td>\n",
       "      <td>0.619086</td>\n",
       "      <td>0.380914</td>\n",
       "    </tr>\n",
       "    <tr>\n",
       "      <th>CartScreenAppear</th>\n",
       "      <td>3734</td>\n",
       "      <td>0.495620</td>\n",
       "      <td>0.812976</td>\n",
       "      <td>0.187024</td>\n",
       "    </tr>\n",
       "    <tr>\n",
       "      <th>PaymentScreenSuccessful</th>\n",
       "      <td>3539</td>\n",
       "      <td>0.469737</td>\n",
       "      <td>0.947777</td>\n",
       "      <td>0.052223</td>\n",
       "    </tr>\n",
       "  </tbody>\n",
       "</table>\n",
       "</div>"
      ],
      "text/plain": [
       "                         uniq_users  part_uniq_users  conv_prev_step  \\\n",
       "event_name                                                             \n",
       "MainScreenAppear               7419         0.984736        0.984736   \n",
       "OffersScreenAppear             4593         0.609636        0.619086   \n",
       "CartScreenAppear               3734         0.495620        0.812976   \n",
       "PaymentScreenSuccessful        3539         0.469737        0.947777   \n",
       "\n",
       "                         transition_loss  \n",
       "event_name                                \n",
       "MainScreenAppear                0.015264  \n",
       "OffersScreenAppear              0.380914  \n",
       "CartScreenAppear                0.187024  \n",
       "PaymentScreenSuccessful         0.052223  "
      ]
     },
     "execution_count": 25,
     "metadata": {},
     "output_type": "execute_result"
    }
   ],
   "source": [
    "#создадим сводную таблицу сгруппировав данные по событиям и посчитаем кол-во уникальных пользователей в каждой\n",
    "sales_funnel = data.pivot_table(\n",
    "    index='event_name',\n",
    "    values='user_id',\n",
    "    aggfunc='nunique',\n",
    "    margins='All' #выведем тоговую строку\n",
    ").rename(\n",
    "    columns={'user_id':'uniq_users'} #переименуем колонку\n",
    ").drop(\n",
    "    'Tutorial', axis=0 #удалим значения события Tutorial, т.к. они нам не нужны для анализа воронки\n",
    ").reset_index(\n",
    ").sort_values(\n",
    "    by='uniq_users', ascending=False #отсортируем данные по убыванию кол-ва пользователей\n",
    ")\n",
    "\n",
    "#добавим столбец с долей уникальных пользователей от их общего числа\n",
    "sales_funnel['part_uniq_users'] = np.array(sales_funnel['uniq_users'])/\\\n",
    "                                  np.array(sales_funnel[sales_funnel['event_name']=='All']['uniq_users'])\n",
    "\n",
    "#добавим столбец с конверсией в переход с предыдущего шага\n",
    "sales_funnel['conv_prev_step'] = sales_funnel['uniq_users']/sales_funnel['uniq_users'].shift(1)\n",
    "\n",
    "#посчитаем потерю пользователей при переходе\n",
    "sales_funnel['transition_loss'] = 1 - sales_funnel['conv_prev_step']\n",
    "\n",
    "\n",
    "sales_funnel = sales_funnel.set_index('event_name') #сделаем индексами столбец с наименованием событий,\n",
    "sales_funnel = sales_funnel.drop(['All'], axis=0) #чтобы удалить строку со значениями итогов\n",
    "\n",
    "#выведем полученную таблицу\n",
    "sales_funnel"
   ]
  },
  {
   "cell_type": "markdown",
   "metadata": {},
   "source": [
    "**Основные выводы по воронкам событий:**\n",
    "- воронка продаж состоит из 4 событий;\n",
    "- событие tutorial не отнсится к воронке продаж и отображает пользователей, которые хотели бы разобраться с функционалом приложения;\n",
    "- наибольший провал по потере пользователей на первом шаге: переход с главной страницы в каталог продуктов;\n",
    "- почти 50% пользователей, зашедших на главную страницу совершают покупку."
   ]
  },
  {
   "cell_type": "markdown",
   "metadata": {},
   "source": [
    "### Изучение результатов А/А-теста\n",
    "<a id=\"a_a_test\"></a> "
   ]
  },
  {
   "cell_type": "markdown",
   "metadata": {},
   "source": [
    "Вспомним, что 246 и 247 — это контрольные группы, а 248 — экспериментальная.\n",
    "\n",
    "Сперва посмотрим сколько всего пользователей в каждой экспериментальной группе:"
   ]
  },
  {
   "cell_type": "code",
   "execution_count": 26,
   "metadata": {},
   "outputs": [
    {
     "data": {
      "text/html": [
       "<div>\n",
       "<style scoped>\n",
       "    .dataframe tbody tr th:only-of-type {\n",
       "        vertical-align: middle;\n",
       "    }\n",
       "\n",
       "    .dataframe tbody tr th {\n",
       "        vertical-align: top;\n",
       "    }\n",
       "\n",
       "    .dataframe thead th {\n",
       "        text-align: right;\n",
       "    }\n",
       "</style>\n",
       "<table border=\"1\" class=\"dataframe\">\n",
       "  <thead>\n",
       "    <tr style=\"text-align: right;\">\n",
       "      <th></th>\n",
       "      <th>group</th>\n",
       "      <th>users</th>\n",
       "    </tr>\n",
       "  </thead>\n",
       "  <tbody>\n",
       "    <tr>\n",
       "      <th>0</th>\n",
       "      <td>246</td>\n",
       "      <td>2484</td>\n",
       "    </tr>\n",
       "    <tr>\n",
       "      <th>1</th>\n",
       "      <td>247</td>\n",
       "      <td>2513</td>\n",
       "    </tr>\n",
       "    <tr>\n",
       "      <th>2</th>\n",
       "      <td>248</td>\n",
       "      <td>2537</td>\n",
       "    </tr>\n",
       "  </tbody>\n",
       "</table>\n",
       "</div>"
      ],
      "text/plain": [
       "   group  users\n",
       "0    246   2484\n",
       "1    247   2513\n",
       "2    248   2537"
      ]
     },
     "execution_count": 26,
     "metadata": {},
     "output_type": "execute_result"
    }
   ],
   "source": [
    "#сгруппируем данные по анализируемым группам и посчитаем уникальное кол-во пользователей в каждой\n",
    "data.groupby(\n",
    "    'group', as_index=False\n",
    ").agg(\n",
    "    {'user_id' : 'nunique'}\n",
    ").rename(\n",
    "    columns={'user_id' : 'users'}\n",
    ")"
   ]
  },
  {
   "cell_type": "markdown",
   "metadata": {},
   "source": [
    "Пользователи распределены по группам равномерно."
   ]
  },
  {
   "cell_type": "markdown",
   "metadata": {},
   "source": [
    "Рассмотрим корректно ли работает сбор данных, проанализировав результаты А/А-теста.\n",
    "\n",
    "Проверим следующие критерии A/A-теста, которые свидетельствуют о том, что А/А-тест проведен успешно: \n",
    "- попавший в одну из групп посетитель остаётся в этой группе до конца теста;\n",
    "- количество пользователей в различных группах различается не более, чем на 1%;\n",
    "- различие ключевых метрик по группам стат. значимо не отличаются.\n",
    "\n",
    "Начнем с проверки непересечения пользователей в группах 246 и 247:"
   ]
  },
  {
   "cell_type": "code",
   "execution_count": 27,
   "metadata": {},
   "outputs": [
    {
     "data": {
      "text/plain": [
       "0"
      ]
     },
     "execution_count": 27,
     "metadata": {},
     "output_type": "execute_result"
    }
   ],
   "source": [
    "#определим список уникальных пользователей для каждой из групп А/А-теста (246 и 247)\n",
    "uniq_users_246 = pd.Series(data[data['group']==246]['user_id'].unique())\n",
    "uniq_users_247 = pd.Series(data[data['group']==247]['user_id'].unique())\n",
    "\n",
    "#посчитаем количество пересекающихся пользователей\n",
    "uniq_users_246[uniq_users_246.isin(uniq_users_247)].count()"
   ]
  },
  {
   "cell_type": "markdown",
   "metadata": {},
   "source": [
    "Первый критерий выполнен успешно - пересечения по пользователям отсутствуют.\n",
    "\n",
    "Посмотрим насколько отличается количество пользователей в каждой из рассматриваемых групп:"
   ]
  },
  {
   "cell_type": "code",
   "execution_count": 28,
   "metadata": {},
   "outputs": [
    {
     "data": {
      "text/plain": [
       "1.2"
      ]
     },
     "execution_count": 28,
     "metadata": {},
     "output_type": "execute_result"
    }
   ],
   "source": [
    "#найдем насколько кол-во пользователей группы 247 больше кол-ва пользователей 246 группы,\n",
    "#полученное значение округлим до одного знака после запятой\n",
    "round(\n",
    "    (data[data['group']==247]['user_id'].nunique()/\\\n",
    "     data[data['group']==246]['user_id'].nunique()-1)*100,\n",
    "    1\n",
    ")"
   ]
  },
  {
   "cell_type": "markdown",
   "metadata": {},
   "source": [
    "Отличие рассматриваемых группы составляет приблизительно 1,2%, можно принять, что критерий тоже пройден.\n",
    "\n",
    "Перейдем к 3-ему критерию: проверим отличаются ли статистически значимо доли в каждой из групп А/А-теста."
   ]
  },
  {
   "cell_type": "markdown",
   "metadata": {},
   "source": [
    "**Проверим каждую группу на равенство долей.**\n",
    "\n",
    "Сперва сформируем датасет, в котором посчитаем для каждой группы количество уникальных пользователей в разрезе событий, исключив событие Tutorial, т.к. оно осуществляется пользователями не в процессе воронки продаж: "
   ]
  },
  {
   "cell_type": "code",
   "execution_count": 29,
   "metadata": {},
   "outputs": [
    {
     "data": {
      "text/html": [
       "<div>\n",
       "<style scoped>\n",
       "    .dataframe tbody tr th:only-of-type {\n",
       "        vertical-align: middle;\n",
       "    }\n",
       "\n",
       "    .dataframe tbody tr th {\n",
       "        vertical-align: top;\n",
       "    }\n",
       "\n",
       "    .dataframe thead th {\n",
       "        text-align: right;\n",
       "    }\n",
       "</style>\n",
       "<table border=\"1\" class=\"dataframe\">\n",
       "  <thead>\n",
       "    <tr style=\"text-align: right;\">\n",
       "      <th>event_name</th>\n",
       "      <th>MainScreenAppear</th>\n",
       "      <th>OffersScreenAppear</th>\n",
       "      <th>CartScreenAppear</th>\n",
       "      <th>PaymentScreenSuccessful</th>\n",
       "      <th>All</th>\n",
       "    </tr>\n",
       "    <tr>\n",
       "      <th>group</th>\n",
       "      <th></th>\n",
       "      <th></th>\n",
       "      <th></th>\n",
       "      <th></th>\n",
       "      <th></th>\n",
       "    </tr>\n",
       "  </thead>\n",
       "  <tbody>\n",
       "    <tr>\n",
       "      <th>246</th>\n",
       "      <td>2450</td>\n",
       "      <td>1542</td>\n",
       "      <td>1266</td>\n",
       "      <td>1200</td>\n",
       "      <td>2484</td>\n",
       "    </tr>\n",
       "    <tr>\n",
       "      <th>247</th>\n",
       "      <td>2476</td>\n",
       "      <td>1520</td>\n",
       "      <td>1238</td>\n",
       "      <td>1158</td>\n",
       "      <td>2513</td>\n",
       "    </tr>\n",
       "    <tr>\n",
       "      <th>248</th>\n",
       "      <td>2493</td>\n",
       "      <td>1531</td>\n",
       "      <td>1230</td>\n",
       "      <td>1181</td>\n",
       "      <td>2537</td>\n",
       "    </tr>\n",
       "  </tbody>\n",
       "</table>\n",
       "</div>"
      ],
      "text/plain": [
       "event_name  MainScreenAppear  OffersScreenAppear  CartScreenAppear  \\\n",
       "group                                                                \n",
       "246                     2450                1542              1266   \n",
       "247                     2476                1520              1238   \n",
       "248                     2493                1531              1230   \n",
       "\n",
       "event_name  PaymentScreenSuccessful   All  \n",
       "group                                      \n",
       "246                            1200  2484  \n",
       "247                            1158  2513  \n",
       "248                            1181  2537  "
      ]
     },
     "execution_count": 29,
     "metadata": {},
     "output_type": "execute_result"
    }
   ],
   "source": [
    "#сделаем сводную таблицу по группам на каждое событие и посчитаем уникальное количество пользователей\n",
    "users_per_event = data.pivot_table(\n",
    "    index='group',\n",
    "    columns='event_name',\n",
    "    values='user_id',\n",
    "    aggfunc='nunique',\n",
    "    margins='All' #выведем общее кол-во\n",
    ")\n",
    "\n",
    "#изменим порядок столбцов, заодно исключив столбец с событием Tutorial\n",
    "users_per_event=users_per_event[\n",
    "    [\n",
    "        'MainScreenAppear',\n",
    "        'OffersScreenAppear',\n",
    "        'CartScreenAppear',\n",
    "        'PaymentScreenSuccessful',\n",
    "        'All'\n",
    "    ]\n",
    "].drop('All') #и удалим строку с подитогами\n",
    "\n",
    "#выведем полученную таблицу\n",
    "users_per_event"
   ]
  },
  {
   "cell_type": "markdown",
   "metadata": {},
   "source": [
    "Расчитаем для каждой группы долю уникальных пользователей совершивших то или иное событие от общего числа уникальных пользователей: "
   ]
  },
  {
   "cell_type": "code",
   "execution_count": 30,
   "metadata": {},
   "outputs": [
    {
     "data": {
      "text/html": [
       "<div>\n",
       "<style scoped>\n",
       "    .dataframe tbody tr th:only-of-type {\n",
       "        vertical-align: middle;\n",
       "    }\n",
       "\n",
       "    .dataframe tbody tr th {\n",
       "        vertical-align: top;\n",
       "    }\n",
       "\n",
       "    .dataframe thead th {\n",
       "        text-align: right;\n",
       "    }\n",
       "</style>\n",
       "<table border=\"1\" class=\"dataframe\">\n",
       "  <thead>\n",
       "    <tr style=\"text-align: right;\">\n",
       "      <th>event_name</th>\n",
       "      <th>MainScreenAppear</th>\n",
       "      <th>OffersScreenAppear</th>\n",
       "      <th>CartScreenAppear</th>\n",
       "      <th>PaymentScreenSuccessful</th>\n",
       "    </tr>\n",
       "    <tr>\n",
       "      <th>group</th>\n",
       "      <th></th>\n",
       "      <th></th>\n",
       "      <th></th>\n",
       "      <th></th>\n",
       "    </tr>\n",
       "  </thead>\n",
       "  <tbody>\n",
       "    <tr>\n",
       "      <th>246</th>\n",
       "      <td>0.986312</td>\n",
       "      <td>0.620773</td>\n",
       "      <td>0.509662</td>\n",
       "      <td>0.483092</td>\n",
       "    </tr>\n",
       "    <tr>\n",
       "      <th>247</th>\n",
       "      <td>0.985277</td>\n",
       "      <td>0.604855</td>\n",
       "      <td>0.492638</td>\n",
       "      <td>0.460804</td>\n",
       "    </tr>\n",
       "    <tr>\n",
       "      <th>248</th>\n",
       "      <td>0.982657</td>\n",
       "      <td>0.603469</td>\n",
       "      <td>0.484825</td>\n",
       "      <td>0.465510</td>\n",
       "    </tr>\n",
       "  </tbody>\n",
       "</table>\n",
       "</div>"
      ],
      "text/plain": [
       "event_name  MainScreenAppear  OffersScreenAppear  CartScreenAppear  \\\n",
       "group                                                                \n",
       "246                 0.986312            0.620773          0.509662   \n",
       "247                 0.985277            0.604855          0.492638   \n",
       "248                 0.982657            0.603469          0.484825   \n",
       "\n",
       "event_name  PaymentScreenSuccessful  \n",
       "group                                \n",
       "246                        0.483092  \n",
       "247                        0.460804  \n",
       "248                        0.465510  "
      ]
     },
     "execution_count": 30,
     "metadata": {},
     "output_type": "execute_result"
    }
   ],
   "source": [
    "#поделим все значения users_per_event на столбец 'All'\n",
    "users_per_event_percent = users_per_event.div(\n",
    "    users_per_event['All'], axis=0\n",
    ").drop( #удалим полученный столбец 'All', т.к. он будет равен 1 и не потребуется в дальнейшем анализе\n",
    "    ['All'], axis=1\n",
    ")\n",
    "\n",
    "#выведем полученную таблицу\n",
    "users_per_event_percent"
   ]
  },
  {
   "cell_type": "markdown",
   "metadata": {},
   "source": [
    "Напишем функцию по определению наличия разницы между долями в сравниваемых группах со следующими гипотезами:\n",
    "- нулевая: разница в долях отсутствует;\n",
    "- альтернативная: между долями есть значимая разница.\n",
    "\n",
    "При определении критического уровня значимости учтем поправку Бонферрони. Т.к. в следующем разделе мы будем также сравнивать равность долей каждой контрольной группы с экспериментальной, а также с объединенными контрольными группами, то всего будет 4 проверки по 4 гипотезы, т.о., чтобы избежать ложного результата при проверке гипотез разделим уровень значимости, который примем равным 5%, на 16 - количество событий, в рамках которых сравниваем пропорции."
   ]
  },
  {
   "cell_type": "code",
   "execution_count": 31,
   "metadata": {},
   "outputs": [
    {
     "data": {
      "text/plain": [
       "0           MainScreenAppear\n",
       "1         OffersScreenAppear\n",
       "2           CartScreenAppear\n",
       "3    PaymentScreenSuccessful\n",
       "Name: event_name, dtype: object"
      ]
     },
     "execution_count": 31,
     "metadata": {},
     "output_type": "execute_result"
    }
   ],
   "source": [
    "users_per_event_percent.T.reset_index()['event_name']"
   ]
  },
  {
   "cell_type": "code",
   "execution_count": 32,
   "metadata": {},
   "outputs": [],
   "source": [
    "def hypotesis_part(group1, group2):\n",
    "    \n",
    "    #определим список событий, доли пользователей в которых будем проверять\n",
    "    list_event = users_per_event_percent.T.reset_index()['event_name']\n",
    "    \n",
    "    #установим критический уровень статистической значимости с учетом поправки Бонферрони (делим на 4, т.к. 4 события)\n",
    "    alpha = 0.05/(len(list_event)*4)\n",
    "        \n",
    "    print()\n",
    "    print('Сравнение групп', group1, group2, ':')\n",
    "    print()\n",
    "    \n",
    "    for event in list_event:\n",
    "        \n",
    "        print('Проверим будет ли отличие по группам в событии {} статистически достоверным.'.format(event))\n",
    "        \n",
    "        # пропорция успехов в первой группе:\n",
    "        p1 = np.array(users_per_event_percent.query('group==@group1')[event])\n",
    "        \n",
    "        # пропорция успехов в первой группе:\n",
    "        p2 = np.array(users_per_event_percent.query('group==@group2')[event])\n",
    "            \n",
    "        # пропорция успехов в комбинированном датасете:\n",
    "        p_combined = (\n",
    "            np.array(users_per_event.query('group==@group1')[event]) + \\\n",
    "            np.array(users_per_event.query('group==@group2')[event])\n",
    "        ) / \\\n",
    "        (\n",
    "            np.array(users_per_event.query('group==@group1')['All']) + \\\n",
    "            np.array(users_per_event.query('group==@group2')['All'])\n",
    "        )\n",
    "\n",
    "        # разница пропорций в датасетах\n",
    "        difference = p1 - p2 \n",
    "\n",
    "        # считаем статистику в ст.отклонениях стандартного нормального распределения\n",
    "        z_value = difference / \\\n",
    "        mth.sqrt(\n",
    "            p_combined * (1 - p_combined) * (\n",
    "                1/np.array(users_per_event.query('group==@group1')['All']) + \\\n",
    "                1/np.array(users_per_event.query('group==@group2')['All'])\n",
    "            )\n",
    "        )\n",
    "        \n",
    "        # задаем стандартное нормальное распределение (среднее 0, ст.отклонение 1)\n",
    "        distr = st.norm(0, 1)  \n",
    "\n",
    "        p_value = (1 - distr.cdf(abs(z_value))) * 2\n",
    "\n",
    "        print('p-значение: ', p_value)\n",
    "\n",
    "        if p_value < alpha:\n",
    "            print('Отвергаем нулевую гипотезу: между долями есть значимая разница.')\n",
    "        else:\n",
    "            print(\n",
    "            'Не получилось отвергнуть нулевую гипотезу, нет оснований считать доли разными.'\n",
    "        )\n",
    "        print()"
   ]
  },
  {
   "cell_type": "markdown",
   "metadata": {},
   "source": [
    "Функция написана. Теперь сравним группы из А/А теста (246 и 247):"
   ]
  },
  {
   "cell_type": "code",
   "execution_count": 33,
   "metadata": {},
   "outputs": [
    {
     "name": "stdout",
     "output_type": "stream",
     "text": [
      "\n",
      "Сравнение групп 246 247 :\n",
      "\n",
      "Проверим будет ли отличие по группам в событии MainScreenAppear статистически достоверным.\n",
      "p-значение:  [0.75705972]\n",
      "Не получилось отвергнуть нулевую гипотезу, нет оснований считать доли разными.\n",
      "\n",
      "Проверим будет ли отличие по группам в событии OffersScreenAppear статистически достоверным.\n",
      "p-значение:  [0.24809546]\n",
      "Не получилось отвергнуть нулевую гипотезу, нет оснований считать доли разными.\n",
      "\n",
      "Проверим будет ли отличие по группам в событии CartScreenAppear статистически достоверным.\n",
      "p-значение:  [0.22883372]\n",
      "Не получилось отвергнуть нулевую гипотезу, нет оснований считать доли разными.\n",
      "\n",
      "Проверим будет ли отличие по группам в событии PaymentScreenSuccessful статистически достоверным.\n",
      "p-значение:  [0.11456679]\n",
      "Не получилось отвергнуть нулевую гипотезу, нет оснований считать доли разными.\n",
      "\n"
     ]
    }
   ],
   "source": [
    "#сравним группы 246 и 247\n",
    "hypotesis_part(246, 247)"
   ]
  },
  {
   "cell_type": "markdown",
   "metadata": {},
   "source": [
    "**Вывод:** ни в одном из сравнений долей групп из А/А-теста в разбивке по событиям не удалось отвергнуть нулевую гипотезу - основания для того, чтобы считать доли разными, отсутствуют. Значит разбиение на группы работает корректно."
   ]
  },
  {
   "cell_type": "markdown",
   "metadata": {},
   "source": [
    "### Изучение результатов А/А/В-теста\n",
    "<a id=\"a_a_b_test\"></a> "
   ]
  },
  {
   "cell_type": "markdown",
   "metadata": {},
   "source": [
    "Воспользуемся кодом из предыдущего раздела и осществим проверку на равность долей каждой контрольной группы с экспериментальной, а также с объединенными контрольными группами.\n",
    "\n",
    "Сравним 246 и 248 группы:"
   ]
  },
  {
   "cell_type": "code",
   "execution_count": 34,
   "metadata": {},
   "outputs": [
    {
     "name": "stdout",
     "output_type": "stream",
     "text": [
      "\n",
      "Сравнение групп 246 248 :\n",
      "\n",
      "Проверим будет ли отличие по группам в событии MainScreenAppear статистически достоверным.\n",
      "p-значение:  [0.29497219]\n",
      "Не получилось отвергнуть нулевую гипотезу, нет оснований считать доли разными.\n",
      "\n",
      "Проверим будет ли отличие по группам в событии OffersScreenAppear статистически достоверным.\n",
      "p-значение:  [0.20836205]\n",
      "Не получилось отвергнуть нулевую гипотезу, нет оснований считать доли разными.\n",
      "\n",
      "Проверим будет ли отличие по группам в событии CartScreenAppear статистически достоверным.\n",
      "p-значение:  [0.07842923]\n",
      "Не получилось отвергнуть нулевую гипотезу, нет оснований считать доли разными.\n",
      "\n",
      "Проверим будет ли отличие по группам в событии PaymentScreenSuccessful статистически достоверным.\n",
      "p-значение:  [0.21225533]\n",
      "Не получилось отвергнуть нулевую гипотезу, нет оснований считать доли разными.\n",
      "\n"
     ]
    }
   ],
   "source": [
    "#сравним группы 246 и 248\n",
    "hypotesis_part(246, 248)"
   ]
  },
  {
   "cell_type": "markdown",
   "metadata": {},
   "source": [
    "При сравнении долей экспериментальной группы с контрольной группой 246 во всех событиях нет оснований считать доли разными.\n",
    "\n",
    "Сравним 247 и 248 группы:"
   ]
  },
  {
   "cell_type": "code",
   "execution_count": 35,
   "metadata": {},
   "outputs": [
    {
     "name": "stdout",
     "output_type": "stream",
     "text": [
      "\n",
      "Сравнение групп 247 248 :\n",
      "\n",
      "Проверим будет ли отличие по группам в событии MainScreenAppear статистически достоверным.\n",
      "p-значение:  [0.45870536]\n",
      "Не получилось отвергнуть нулевую гипотезу, нет оснований считать доли разными.\n",
      "\n",
      "Проверим будет ли отличие по группам в событии OffersScreenAppear статистически достоверным.\n",
      "p-значение:  [0.91978178]\n",
      "Не получилось отвергнуть нулевую гипотезу, нет оснований считать доли разными.\n",
      "\n",
      "Проверим будет ли отличие по группам в событии CartScreenAppear статистически достоверным.\n",
      "p-значение:  [0.57861979]\n",
      "Не получилось отвергнуть нулевую гипотезу, нет оснований считать доли разными.\n",
      "\n",
      "Проверим будет ли отличие по группам в событии PaymentScreenSuccessful статистически достоверным.\n",
      "p-значение:  [0.73734151]\n",
      "Не получилось отвергнуть нулевую гипотезу, нет оснований считать доли разными.\n",
      "\n"
     ]
    }
   ],
   "source": [
    "#сравним группы 247 и 248\n",
    "hypotesis_part(247, 248)"
   ]
  },
  {
   "cell_type": "markdown",
   "metadata": {},
   "source": [
    "При сравнении долей экспериментальной группы с контрольной группой 247 во всех событиях тоже нет оснований считать доли разными.\n",
    "\n",
    "Объединим контрольные группы и сравним полученную выборку с экспериментальной:"
   ]
  },
  {
   "cell_type": "code",
   "execution_count": 36,
   "metadata": {},
   "outputs": [
    {
     "data": {
      "text/html": [
       "<div>\n",
       "<style scoped>\n",
       "    .dataframe tbody tr th:only-of-type {\n",
       "        vertical-align: middle;\n",
       "    }\n",
       "\n",
       "    .dataframe tbody tr th {\n",
       "        vertical-align: top;\n",
       "    }\n",
       "\n",
       "    .dataframe thead th {\n",
       "        text-align: right;\n",
       "    }\n",
       "</style>\n",
       "<table border=\"1\" class=\"dataframe\">\n",
       "  <thead>\n",
       "    <tr style=\"text-align: right;\">\n",
       "      <th>event_name</th>\n",
       "      <th>MainScreenAppear</th>\n",
       "      <th>OffersScreenAppear</th>\n",
       "      <th>CartScreenAppear</th>\n",
       "      <th>PaymentScreenSuccessful</th>\n",
       "      <th>All</th>\n",
       "    </tr>\n",
       "    <tr>\n",
       "      <th>group</th>\n",
       "      <th></th>\n",
       "      <th></th>\n",
       "      <th></th>\n",
       "      <th></th>\n",
       "      <th></th>\n",
       "    </tr>\n",
       "  </thead>\n",
       "  <tbody>\n",
       "    <tr>\n",
       "      <th>246</th>\n",
       "      <td>2450</td>\n",
       "      <td>1542</td>\n",
       "      <td>1266</td>\n",
       "      <td>1200</td>\n",
       "      <td>2484</td>\n",
       "    </tr>\n",
       "    <tr>\n",
       "      <th>247</th>\n",
       "      <td>2476</td>\n",
       "      <td>1520</td>\n",
       "      <td>1238</td>\n",
       "      <td>1158</td>\n",
       "      <td>2513</td>\n",
       "    </tr>\n",
       "    <tr>\n",
       "      <th>248</th>\n",
       "      <td>2493</td>\n",
       "      <td>1531</td>\n",
       "      <td>1230</td>\n",
       "      <td>1181</td>\n",
       "      <td>2537</td>\n",
       "    </tr>\n",
       "    <tr>\n",
       "      <th>246+247</th>\n",
       "      <td>4926</td>\n",
       "      <td>3062</td>\n",
       "      <td>2504</td>\n",
       "      <td>2358</td>\n",
       "      <td>4997</td>\n",
       "    </tr>\n",
       "  </tbody>\n",
       "</table>\n",
       "</div>"
      ],
      "text/plain": [
       "event_name  MainScreenAppear  OffersScreenAppear  CartScreenAppear  \\\n",
       "group                                                                \n",
       "246                     2450                1542              1266   \n",
       "247                     2476                1520              1238   \n",
       "248                     2493                1531              1230   \n",
       "246+247                 4926                3062              2504   \n",
       "\n",
       "event_name  PaymentScreenSuccessful   All  \n",
       "group                                      \n",
       "246                            1200  2484  \n",
       "247                            1158  2513  \n",
       "248                            1181  2537  \n",
       "246+247                        2358  4997  "
      ]
     },
     "execution_count": 36,
     "metadata": {},
     "output_type": "execute_result"
    }
   ],
   "source": [
    "#транспонируем датасет users_per_event для дальнейших расчетов\n",
    "users_per_event = users_per_event.T\n",
    "\n",
    "#создадим новый столбец '246+247' где значение соответсвующих групп будут объеденины/сложены\n",
    "users_per_event['246+247'] = users_per_event[246] + users_per_event[247]\n",
    "\n",
    "#транспонируем обратно полученный датасет\n",
    "users_per_event = users_per_event.T\n",
    "\n",
    "#выведем полученный датасет\n",
    "users_per_event"
   ]
  },
  {
   "cell_type": "code",
   "execution_count": 37,
   "metadata": {},
   "outputs": [
    {
     "data": {
      "text/html": [
       "<div>\n",
       "<style scoped>\n",
       "    .dataframe tbody tr th:only-of-type {\n",
       "        vertical-align: middle;\n",
       "    }\n",
       "\n",
       "    .dataframe tbody tr th {\n",
       "        vertical-align: top;\n",
       "    }\n",
       "\n",
       "    .dataframe thead th {\n",
       "        text-align: right;\n",
       "    }\n",
       "</style>\n",
       "<table border=\"1\" class=\"dataframe\">\n",
       "  <thead>\n",
       "    <tr style=\"text-align: right;\">\n",
       "      <th>event_name</th>\n",
       "      <th>MainScreenAppear</th>\n",
       "      <th>OffersScreenAppear</th>\n",
       "      <th>CartScreenAppear</th>\n",
       "      <th>PaymentScreenSuccessful</th>\n",
       "    </tr>\n",
       "    <tr>\n",
       "      <th>group</th>\n",
       "      <th></th>\n",
       "      <th></th>\n",
       "      <th></th>\n",
       "      <th></th>\n",
       "    </tr>\n",
       "  </thead>\n",
       "  <tbody>\n",
       "    <tr>\n",
       "      <th>246</th>\n",
       "      <td>0.986312</td>\n",
       "      <td>0.620773</td>\n",
       "      <td>0.509662</td>\n",
       "      <td>0.483092</td>\n",
       "    </tr>\n",
       "    <tr>\n",
       "      <th>247</th>\n",
       "      <td>0.985277</td>\n",
       "      <td>0.604855</td>\n",
       "      <td>0.492638</td>\n",
       "      <td>0.460804</td>\n",
       "    </tr>\n",
       "    <tr>\n",
       "      <th>248</th>\n",
       "      <td>0.982657</td>\n",
       "      <td>0.603469</td>\n",
       "      <td>0.484825</td>\n",
       "      <td>0.465510</td>\n",
       "    </tr>\n",
       "    <tr>\n",
       "      <th>246+247</th>\n",
       "      <td>0.985791</td>\n",
       "      <td>0.612768</td>\n",
       "      <td>0.501101</td>\n",
       "      <td>0.471883</td>\n",
       "    </tr>\n",
       "  </tbody>\n",
       "</table>\n",
       "</div>"
      ],
      "text/plain": [
       "event_name  MainScreenAppear  OffersScreenAppear  CartScreenAppear  \\\n",
       "group                                                                \n",
       "246                 0.986312            0.620773          0.509662   \n",
       "247                 0.985277            0.604855          0.492638   \n",
       "248                 0.982657            0.603469          0.484825   \n",
       "246+247             0.985791            0.612768          0.501101   \n",
       "\n",
       "event_name  PaymentScreenSuccessful  \n",
       "group                                \n",
       "246                        0.483092  \n",
       "247                        0.460804  \n",
       "248                        0.465510  \n",
       "246+247                    0.471883  "
      ]
     },
     "execution_count": 37,
     "metadata": {},
     "output_type": "execute_result"
    }
   ],
   "source": [
    "#также перезапишем датасет users_per_event_percent, рассчитав доли по объединенным контрольным группам\n",
    "users_per_event_percent = users_per_event.div(\n",
    "    users_per_event['All'], axis=0\n",
    ").drop( #удалим полученный столбец 'All', т.к. он будет равен 1 и не потребуется в дальнейшем анализе\n",
    "    ['All'], axis=1\n",
    ")\n",
    "\n",
    "#выведем полученный датасет\n",
    "users_per_event_percent"
   ]
  },
  {
   "cell_type": "code",
   "execution_count": 38,
   "metadata": {},
   "outputs": [
    {
     "name": "stdout",
     "output_type": "stream",
     "text": [
      "\n",
      "Сравнение групп 246+247 248 :\n",
      "\n",
      "Проверим будет ли отличие по группам в событии MainScreenAppear статистически достоверным.\n",
      "p-значение:  [0.29424527]\n",
      "Не получилось отвергнуть нулевую гипотезу, нет оснований считать доли разными.\n",
      "\n",
      "Проверим будет ли отличие по группам в событии OffersScreenAppear статистически достоверным.\n",
      "p-значение:  [0.4342555]\n",
      "Не получилось отвергнуть нулевую гипотезу, нет оснований считать доли разными.\n",
      "\n",
      "Проверим будет ли отличие по группам в событии CartScreenAppear статистически достоверным.\n",
      "p-значение:  [0.18175875]\n",
      "Не получилось отвергнуть нулевую гипотезу, нет оснований считать доли разными.\n",
      "\n",
      "Проверим будет ли отличие по группам в событии PaymentScreenSuccessful статистически достоверным.\n",
      "p-значение:  [0.60042943]\n",
      "Не получилось отвергнуть нулевую гипотезу, нет оснований считать доли разными.\n",
      "\n"
     ]
    }
   ],
   "source": [
    "#сравним объединенные контрольные группы с экспериментальной\n",
    "hypotesis_part('246+247', 248)"
   ]
  },
  {
   "cell_type": "markdown",
   "metadata": {},
   "source": [
    "И в данном сравнении тоже отсутствует статистически значимое отличие.\n",
    "\n",
    "**Вывод:** получается, что изменение шрифтов никак не повлияло на распределение доли пользователей в каждой из групп между событиями. Пользователи как делали покупки, так и делают, ни статистически значимо больше, ни статистически значимо меньше. Тест можно приостановить и признать, что статистически значимое различие между группами отсутствует. "
   ]
  },
  {
   "cell_type": "markdown",
   "metadata": {},
   "source": [
    "### Вывод\n",
    "<a id=\"conclusion\"></a> \n",
    "\n",
    "**В этоим исследовании мы провели 2 анализа:**\n",
    "1. Изучили воронку продаж:\n",
    "```\n",
    " - определили порядок, в котором происходят события;\n",
    " - определили, что событие Tutorial не входит в воронку продаж;\n",
    " - определили долю пользователей перешедших в каждый шаг воронки;\n",
    " - узнали в каком шаге \"провал\" по пользователям;\n",
    " - узнали долю пользователей, которые доходят от первого до последнего шага в воронке.\n",
    "```\n",
    "2. Проанализировали результаты A/A/B-теста:\n",
    "```\n",
    " - проанализировав результаты А/А-теста проверили корректность всех механизмов и расчётов, а также что разбиение на группы работает корректно, для этого мы осуществили проверку гипотезы о равенстве долей в разбивке по каждому событию.\n",
    " - аналогчно А/А-тесту в части проверки гипотезы о рваенстве долей в разбивке по каждому событию, осуществели проверку для экспериментальной группы с:\n",
    "         каждой из контрольных групп;\n",
    "         с объединенными контрольными группами.\n",
    "```\n",
    "\n",
    "**И пришли к следующим выводам:**\n",
    "1. Из рассматриваемого периода с 25.07.2019 по 07.08.2019 исследуемый период времени - с 01.08.2019 по 07.08.2019. Остальные данные - это \"доезжающие\" события из прошлого.\n",
    "\n",
    "\n",
    "2. Воронка продаж состоит из следующих событий:\n",
    "- MainScreenAppear - Входная страница\n",
    "- OffersScreenAppear - Каталог\n",
    "- CartScreenAppear - Корзина\n",
    "- PaymentScreenSuccessful - Успешная оплата заказа.\n",
    "Событие Tutorial - Инстуркция о функционале приложения, не входит в воронку продаж, а ознакамливает пользователей с функционалом приложения.\n",
    "\n",
    "\n",
    "3. Выявили, что наибольшее количество пользователей теряется на шаге перехода с главной страницы в каталог (конверсия 62%). По остальным шагам воронки таких провалов не наблюдается и уровень конверсии довольно высокий.\n",
    "\n",
    "\n",
    "4. Почти каждый второй пользователь, зашедший в приложение, совершает покупку.\n",
    "\n",
    "\n",
    "5. Проведя сравнения в контрольных группах (A/A-тест) на статистически значимые различия в равенстве долей пришли к выводу, что механизмы и расчеты, а также разбиение на группы работают корректно.\n",
    "\n",
    "\n",
    "6. Проведя сравнение на статистически значимое различие долей экспериментальной группы с каждой из контрольной, а также с объединенными контрольными (А/А/В-тест), пришли к выводу, что основания считать доли между группами разными - отсутствуют, и, следовательно, изменение шрифта не изменило конверсию пользователей на каждом шаге воронки. Статистически значимого различия воронки продаж приложения с новым шрифтом и воронки продаж со старым шрифтом не наблюдается. Тест можно остановить."
   ]
  }
 ],
 "metadata": {
  "ExecuteTimeLog": [
   {
    "duration": 427,
    "start_time": "2023-05-09T09:33:32.110Z"
   },
   {
    "duration": 526,
    "start_time": "2023-05-09T09:34:50.830Z"
   },
   {
    "duration": 44,
    "start_time": "2023-05-09T09:35:14.645Z"
   },
   {
    "duration": 703,
    "start_time": "2023-05-09T09:37:11.896Z"
   },
   {
    "duration": 45,
    "start_time": "2023-05-09T09:37:32.696Z"
   },
   {
    "duration": 44,
    "start_time": "2023-05-09T09:39:03.042Z"
   },
   {
    "duration": 760,
    "start_time": "2023-05-09T09:39:11.929Z"
   },
   {
    "duration": 56,
    "start_time": "2023-05-09T09:39:27.827Z"
   },
   {
    "duration": 436,
    "start_time": "2023-05-09T09:39:34.769Z"
   },
   {
    "duration": 418,
    "start_time": "2023-05-09T09:39:47.047Z"
   },
   {
    "duration": 74,
    "start_time": "2023-05-09T09:40:03.597Z"
   },
   {
    "duration": 477,
    "start_time": "2023-05-09T09:40:06.768Z"
   },
   {
    "duration": 443,
    "start_time": "2023-05-09T09:40:43.353Z"
   },
   {
    "duration": 759,
    "start_time": "2023-05-09T09:43:24.384Z"
   },
   {
    "duration": 567,
    "start_time": "2023-05-09T09:43:28.931Z"
   },
   {
    "duration": 550,
    "start_time": "2023-05-09T09:43:43.868Z"
   },
   {
    "duration": 381,
    "start_time": "2023-05-09T09:44:04.074Z"
   },
   {
    "duration": 1023,
    "start_time": "2023-05-09T09:44:36.489Z"
   },
   {
    "duration": 389,
    "start_time": "2023-05-09T09:46:51.803Z"
   },
   {
    "duration": 399,
    "start_time": "2023-05-09T09:47:06.767Z"
   },
   {
    "duration": 26,
    "start_time": "2023-05-09T09:48:57.906Z"
   },
   {
    "duration": 76,
    "start_time": "2023-05-09T10:02:42.709Z"
   },
   {
    "duration": 22,
    "start_time": "2023-05-09T10:03:16.384Z"
   },
   {
    "duration": 338,
    "start_time": "2023-05-09T10:03:27.823Z"
   },
   {
    "duration": 10,
    "start_time": "2023-05-09T10:04:01.738Z"
   },
   {
    "duration": 75,
    "start_time": "2023-05-09T10:04:08.251Z"
   },
   {
    "duration": 32,
    "start_time": "2023-05-09T10:07:54.597Z"
   },
   {
    "duration": 403,
    "start_time": "2023-05-09T10:08:14.105Z"
   },
   {
    "duration": 474,
    "start_time": "2023-05-09T10:08:14.510Z"
   },
   {
    "duration": 28,
    "start_time": "2023-05-09T10:08:14.985Z"
   },
   {
    "duration": 280,
    "start_time": "2023-05-09T10:08:15.015Z"
   },
   {
    "duration": 167,
    "start_time": "2023-05-09T10:08:22.207Z"
   },
   {
    "duration": 17,
    "start_time": "2023-05-09T10:09:54.793Z"
   },
   {
    "duration": 69,
    "start_time": "2023-05-09T10:10:31.909Z"
   },
   {
    "duration": 35,
    "start_time": "2023-05-09T10:10:43.268Z"
   },
   {
    "duration": 90,
    "start_time": "2023-05-09T10:17:35.292Z"
   },
   {
    "duration": 150,
    "start_time": "2023-05-09T10:20:38.533Z"
   },
   {
    "duration": 73,
    "start_time": "2023-05-09T10:21:21.753Z"
   },
   {
    "duration": 103,
    "start_time": "2023-05-09T10:22:26.611Z"
   },
   {
    "duration": 79,
    "start_time": "2023-05-09T10:22:32.537Z"
   },
   {
    "duration": 149,
    "start_time": "2023-05-09T10:22:51.777Z"
   },
   {
    "duration": 194,
    "start_time": "2023-05-09T10:23:57.476Z"
   },
   {
    "duration": 16,
    "start_time": "2023-05-09T10:24:04.908Z"
   },
   {
    "duration": 8,
    "start_time": "2023-05-09T10:27:16.217Z"
   },
   {
    "duration": 59,
    "start_time": "2023-05-09T10:27:30.734Z"
   },
   {
    "duration": 87,
    "start_time": "2023-05-09T10:27:33.988Z"
   },
   {
    "duration": 11,
    "start_time": "2023-05-09T10:30:17.051Z"
   },
   {
    "duration": 7,
    "start_time": "2023-05-09T10:30:23.330Z"
   },
   {
    "duration": 8,
    "start_time": "2023-05-09T10:30:33.069Z"
   },
   {
    "duration": 7,
    "start_time": "2023-05-09T10:30:44.835Z"
   },
   {
    "duration": 9,
    "start_time": "2023-05-09T10:31:02.719Z"
   },
   {
    "duration": 9,
    "start_time": "2023-05-09T10:31:14.221Z"
   },
   {
    "duration": 59,
    "start_time": "2023-05-09T10:31:59.756Z"
   },
   {
    "duration": 81,
    "start_time": "2023-05-09T10:32:10.223Z"
   },
   {
    "duration": 73,
    "start_time": "2023-05-09T10:32:30.114Z"
   },
   {
    "duration": 77,
    "start_time": "2023-05-09T10:33:47.221Z"
   },
   {
    "duration": 170,
    "start_time": "2023-05-09T10:33:57.891Z"
   },
   {
    "duration": 94,
    "start_time": "2023-05-09T10:34:47.693Z"
   },
   {
    "duration": 132,
    "start_time": "2023-05-09T10:34:57.273Z"
   },
   {
    "duration": 192,
    "start_time": "2023-05-09T10:35:01.544Z"
   },
   {
    "duration": 207,
    "start_time": "2023-05-09T10:35:11.265Z"
   },
   {
    "duration": 181,
    "start_time": "2023-05-09T10:35:32.220Z"
   },
   {
    "duration": 197,
    "start_time": "2023-05-09T10:35:47.809Z"
   },
   {
    "duration": 449,
    "start_time": "2023-05-09T10:36:05.049Z"
   },
   {
    "duration": 568,
    "start_time": "2023-05-09T10:36:05.503Z"
   },
   {
    "duration": 39,
    "start_time": "2023-05-09T10:36:06.074Z"
   },
   {
    "duration": 200,
    "start_time": "2023-05-09T10:36:06.115Z"
   },
   {
    "duration": 102,
    "start_time": "2023-05-09T10:36:06.318Z"
   },
   {
    "duration": 108,
    "start_time": "2023-05-09T10:36:06.422Z"
   },
   {
    "duration": 134,
    "start_time": "2023-05-09T10:36:11.323Z"
   },
   {
    "duration": 378,
    "start_time": "2023-05-09T11:08:39.636Z"
   },
   {
    "duration": 828,
    "start_time": "2023-05-09T11:08:40.016Z"
   },
   {
    "duration": 21,
    "start_time": "2023-05-09T11:08:40.846Z"
   },
   {
    "duration": 156,
    "start_time": "2023-05-09T11:08:40.869Z"
   },
   {
    "duration": 71,
    "start_time": "2023-05-09T11:08:41.027Z"
   },
   {
    "duration": 65,
    "start_time": "2023-05-09T11:08:41.099Z"
   },
   {
    "duration": 57,
    "start_time": "2023-05-09T11:08:41.166Z"
   },
   {
    "duration": 16,
    "start_time": "2023-05-09T11:08:52.257Z"
   },
   {
    "duration": 21,
    "start_time": "2023-05-09T11:09:01.004Z"
   },
   {
    "duration": 16,
    "start_time": "2023-05-09T11:09:04.387Z"
   },
   {
    "duration": 22,
    "start_time": "2023-05-09T11:09:56.124Z"
   },
   {
    "duration": 20,
    "start_time": "2023-05-09T11:10:03.711Z"
   },
   {
    "duration": 16,
    "start_time": "2023-05-09T11:10:16.822Z"
   },
   {
    "duration": 16,
    "start_time": "2023-05-09T11:12:59.871Z"
   },
   {
    "duration": 2,
    "start_time": "2023-05-09T11:14:21.772Z"
   },
   {
    "duration": 414,
    "start_time": "2023-05-09T11:14:28.879Z"
   },
   {
    "duration": 335,
    "start_time": "2023-05-09T11:14:29.295Z"
   },
   {
    "duration": 18,
    "start_time": "2023-05-09T11:14:29.631Z"
   },
   {
    "duration": 140,
    "start_time": "2023-05-09T11:14:29.651Z"
   },
   {
    "duration": 58,
    "start_time": "2023-05-09T11:14:29.793Z"
   },
   {
    "duration": 75,
    "start_time": "2023-05-09T11:14:29.853Z"
   },
   {
    "duration": 3,
    "start_time": "2023-05-09T11:14:29.929Z"
   },
   {
    "duration": 20,
    "start_time": "2023-05-09T11:14:29.933Z"
   },
   {
    "duration": 79,
    "start_time": "2023-05-09T11:15:13.273Z"
   },
   {
    "duration": 22,
    "start_time": "2023-05-09T11:15:16.279Z"
   },
   {
    "duration": 361,
    "start_time": "2023-05-09T11:15:28.520Z"
   },
   {
    "duration": 334,
    "start_time": "2023-05-09T11:15:28.883Z"
   },
   {
    "duration": 18,
    "start_time": "2023-05-09T11:15:29.219Z"
   },
   {
    "duration": 125,
    "start_time": "2023-05-09T11:15:29.239Z"
   },
   {
    "duration": 73,
    "start_time": "2023-05-09T11:15:29.365Z"
   },
   {
    "duration": 67,
    "start_time": "2023-05-09T11:15:29.439Z"
   },
   {
    "duration": 2,
    "start_time": "2023-05-09T11:15:29.507Z"
   },
   {
    "duration": 19,
    "start_time": "2023-05-09T11:15:29.511Z"
   },
   {
    "duration": 66,
    "start_time": "2023-05-09T11:18:37.367Z"
   },
   {
    "duration": 112,
    "start_time": "2023-05-09T11:18:46.118Z"
   },
   {
    "duration": 107,
    "start_time": "2023-05-09T11:19:12.878Z"
   },
   {
    "duration": 79,
    "start_time": "2023-05-09T11:21:44.967Z"
   },
   {
    "duration": 28,
    "start_time": "2023-05-09T11:21:49.658Z"
   },
   {
    "duration": 63,
    "start_time": "2023-05-09T11:22:08.262Z"
   },
   {
    "duration": 765,
    "start_time": "2023-05-09T11:23:01.347Z"
   },
   {
    "duration": 54,
    "start_time": "2023-05-09T11:23:10.351Z"
   },
   {
    "duration": 51,
    "start_time": "2023-05-09T11:30:29.158Z"
   },
   {
    "duration": 56,
    "start_time": "2023-05-09T11:30:55.443Z"
   },
   {
    "duration": 58,
    "start_time": "2023-05-09T11:31:44.606Z"
   },
   {
    "duration": 53,
    "start_time": "2023-05-09T11:32:28.933Z"
   },
   {
    "duration": 53,
    "start_time": "2023-05-09T11:32:50.102Z"
   },
   {
    "duration": 51,
    "start_time": "2023-05-09T11:32:53.612Z"
   },
   {
    "duration": 70,
    "start_time": "2023-05-09T11:33:12.997Z"
   },
   {
    "duration": 76,
    "start_time": "2023-05-09T11:33:21.269Z"
   },
   {
    "duration": 54,
    "start_time": "2023-05-09T11:33:25.165Z"
   },
   {
    "duration": 7,
    "start_time": "2023-05-09T11:33:58.005Z"
   },
   {
    "duration": 75,
    "start_time": "2023-05-09T11:34:00.780Z"
   },
   {
    "duration": 7,
    "start_time": "2023-05-09T11:34:02.981Z"
   },
   {
    "duration": 17,
    "start_time": "2023-05-09T11:35:06.273Z"
   },
   {
    "duration": 26,
    "start_time": "2023-05-09T11:39:20.506Z"
   },
   {
    "duration": 26,
    "start_time": "2023-05-09T11:39:53.210Z"
   },
   {
    "duration": 26,
    "start_time": "2023-05-09T11:40:18.729Z"
   },
   {
    "duration": 27,
    "start_time": "2023-05-09T11:40:29.333Z"
   },
   {
    "duration": 49,
    "start_time": "2023-05-09T11:40:58.075Z"
   },
   {
    "duration": 55,
    "start_time": "2023-05-09T11:41:02.147Z"
   },
   {
    "duration": 61,
    "start_time": "2023-05-09T11:41:30.500Z"
   },
   {
    "duration": 59,
    "start_time": "2023-05-09T11:41:51.401Z"
   },
   {
    "duration": 52,
    "start_time": "2023-05-09T11:42:03.246Z"
   },
   {
    "duration": 382,
    "start_time": "2023-05-09T11:42:10.818Z"
   },
   {
    "duration": 1119,
    "start_time": "2023-05-09T11:42:11.201Z"
   },
   {
    "duration": 19,
    "start_time": "2023-05-09T11:42:12.322Z"
   },
   {
    "duration": 141,
    "start_time": "2023-05-09T11:42:12.343Z"
   },
   {
    "duration": 65,
    "start_time": "2023-05-09T11:42:12.486Z"
   },
   {
    "duration": 75,
    "start_time": "2023-05-09T11:42:12.552Z"
   },
   {
    "duration": 78,
    "start_time": "2023-05-09T11:42:12.629Z"
   },
   {
    "duration": 11,
    "start_time": "2023-05-09T11:42:12.709Z"
   },
   {
    "duration": 59,
    "start_time": "2023-05-09T11:42:17.111Z"
   },
   {
    "duration": 53,
    "start_time": "2023-05-09T11:44:47.255Z"
   },
   {
    "duration": 16,
    "start_time": "2023-05-09T11:45:43.749Z"
   },
   {
    "duration": 8,
    "start_time": "2023-05-09T11:46:15.745Z"
   },
   {
    "duration": 7,
    "start_time": "2023-05-09T11:47:09.548Z"
   },
   {
    "duration": 14,
    "start_time": "2023-05-09T11:48:35.412Z"
   },
   {
    "duration": 87,
    "start_time": "2023-05-09T11:48:48.560Z"
   },
   {
    "duration": 13,
    "start_time": "2023-05-09T11:48:58.667Z"
   },
   {
    "duration": 17,
    "start_time": "2023-05-09T11:49:07.088Z"
   },
   {
    "duration": 13,
    "start_time": "2023-05-09T11:49:15.093Z"
   },
   {
    "duration": 16,
    "start_time": "2023-05-09T11:50:38.907Z"
   },
   {
    "duration": 15,
    "start_time": "2023-05-09T11:50:42.702Z"
   },
   {
    "duration": 18,
    "start_time": "2023-05-09T11:50:50.685Z"
   },
   {
    "duration": 15,
    "start_time": "2023-05-09T11:50:54.865Z"
   },
   {
    "duration": 16,
    "start_time": "2023-05-09T11:52:54.138Z"
   },
   {
    "duration": 9,
    "start_time": "2023-05-09T11:54:40.765Z"
   },
   {
    "duration": 22,
    "start_time": "2023-05-09T11:54:51.479Z"
   },
   {
    "duration": 17,
    "start_time": "2023-05-09T11:55:03.155Z"
   },
   {
    "duration": 4,
    "start_time": "2023-05-09T11:55:17.851Z"
   },
   {
    "duration": 15,
    "start_time": "2023-05-09T11:56:49.592Z"
   },
   {
    "duration": 5,
    "start_time": "2023-05-09T11:57:04.008Z"
   },
   {
    "duration": 7,
    "start_time": "2023-05-09T11:57:28.149Z"
   },
   {
    "duration": 6,
    "start_time": "2023-05-09T11:58:00.193Z"
   },
   {
    "duration": 197,
    "start_time": "2023-05-09T12:00:21.774Z"
   },
   {
    "duration": 323,
    "start_time": "2023-05-09T12:01:11.850Z"
   },
   {
    "duration": 528,
    "start_time": "2023-05-09T12:04:44.139Z"
   },
   {
    "duration": 9,
    "start_time": "2023-05-09T12:05:36.688Z"
   },
   {
    "duration": 180,
    "start_time": "2023-05-09T12:05:40.510Z"
   },
   {
    "duration": 20,
    "start_time": "2023-05-09T12:07:05.202Z"
   },
   {
    "duration": 22,
    "start_time": "2023-05-09T12:08:04.111Z"
   },
   {
    "duration": 235,
    "start_time": "2023-05-09T12:08:23.526Z"
   },
   {
    "duration": 953,
    "start_time": "2023-05-09T13:57:03.052Z"
   },
   {
    "duration": 777,
    "start_time": "2023-05-09T13:57:04.008Z"
   },
   {
    "duration": 39,
    "start_time": "2023-05-09T13:57:04.787Z"
   },
   {
    "duration": 159,
    "start_time": "2023-05-09T13:57:04.829Z"
   },
   {
    "duration": 88,
    "start_time": "2023-05-09T13:57:04.991Z"
   },
   {
    "duration": 94,
    "start_time": "2023-05-09T13:57:05.081Z"
   },
   {
    "duration": 99,
    "start_time": "2023-05-09T13:57:05.177Z"
   },
   {
    "duration": 9,
    "start_time": "2023-05-09T13:57:05.279Z"
   },
   {
    "duration": 42,
    "start_time": "2023-05-09T13:57:05.290Z"
   },
   {
    "duration": 9,
    "start_time": "2023-05-09T13:57:05.334Z"
   },
   {
    "duration": 400,
    "start_time": "2023-05-09T13:57:05.345Z"
   },
   {
    "duration": 22,
    "start_time": "2023-05-09T13:57:05.747Z"
   },
   {
    "duration": 274,
    "start_time": "2023-05-09T13:57:34.214Z"
   },
   {
    "duration": 352,
    "start_time": "2023-05-09T13:57:46.306Z"
   },
   {
    "duration": 349,
    "start_time": "2023-05-09T14:02:10.003Z"
   },
   {
    "duration": 305,
    "start_time": "2023-05-09T14:03:24.310Z"
   },
   {
    "duration": 326,
    "start_time": "2023-05-09T14:03:33.517Z"
   },
   {
    "duration": 426,
    "start_time": "2023-05-09T14:03:40.218Z"
   },
   {
    "duration": 275,
    "start_time": "2023-05-09T14:04:01.701Z"
   },
   {
    "duration": 312,
    "start_time": "2023-05-09T14:05:07.664Z"
   },
   {
    "duration": 398,
    "start_time": "2023-05-09T14:05:28.892Z"
   },
   {
    "duration": 26,
    "start_time": "2023-05-09T14:06:01.778Z"
   },
   {
    "duration": 377,
    "start_time": "2023-05-09T14:12:39.413Z"
   },
   {
    "duration": 324,
    "start_time": "2023-05-09T14:13:30.236Z"
   },
   {
    "duration": 1657,
    "start_time": "2023-05-09T14:15:10.911Z"
   },
   {
    "duration": 10,
    "start_time": "2023-05-09T14:17:00.002Z"
   },
   {
    "duration": 286,
    "start_time": "2023-05-09T14:21:18.526Z"
   },
   {
    "duration": 304,
    "start_time": "2023-05-09T14:21:41.161Z"
   },
   {
    "duration": 52,
    "start_time": "2023-05-09T14:21:58.620Z"
   },
   {
    "duration": 285,
    "start_time": "2023-05-09T14:22:01.808Z"
   },
   {
    "duration": 7,
    "start_time": "2023-05-09T14:22:29.976Z"
   },
   {
    "duration": 313,
    "start_time": "2023-05-09T14:22:35.177Z"
   },
   {
    "duration": 327,
    "start_time": "2023-05-09T14:22:42.104Z"
   },
   {
    "duration": 286,
    "start_time": "2023-05-09T14:22:51.267Z"
   },
   {
    "duration": 268,
    "start_time": "2023-05-09T14:22:57.812Z"
   },
   {
    "duration": 289,
    "start_time": "2023-05-09T14:23:14.305Z"
   },
   {
    "duration": 461,
    "start_time": "2023-05-09T14:23:18.551Z"
   },
   {
    "duration": 50,
    "start_time": "2023-05-09T14:26:21.103Z"
   },
   {
    "duration": 5,
    "start_time": "2023-05-09T14:26:59.127Z"
   },
   {
    "duration": 23,
    "start_time": "2023-05-09T14:27:03.249Z"
   },
   {
    "duration": 24,
    "start_time": "2023-05-09T14:27:10.636Z"
   },
   {
    "duration": 42,
    "start_time": "2023-05-09T14:28:41.888Z"
   },
   {
    "duration": 38,
    "start_time": "2023-05-09T14:29:21.507Z"
   },
   {
    "duration": 28,
    "start_time": "2023-05-09T14:41:10.543Z"
   },
   {
    "duration": 23,
    "start_time": "2023-05-09T14:41:19.741Z"
   },
   {
    "duration": 9,
    "start_time": "2023-05-09T14:41:46.239Z"
   },
   {
    "duration": 18,
    "start_time": "2023-05-09T14:43:40.950Z"
   },
   {
    "duration": 12,
    "start_time": "2023-05-09T14:49:36.600Z"
   },
   {
    "duration": 10,
    "start_time": "2023-05-09T14:50:01.180Z"
   },
   {
    "duration": 9,
    "start_time": "2023-05-09T14:54:53.488Z"
   },
   {
    "duration": 46,
    "start_time": "2023-05-09T14:56:03.430Z"
   },
   {
    "duration": 16,
    "start_time": "2023-05-09T14:56:16.350Z"
   },
   {
    "duration": 8,
    "start_time": "2023-05-09T14:57:08.477Z"
   },
   {
    "duration": 45,
    "start_time": "2023-05-09T14:59:39.462Z"
   },
   {
    "duration": 10,
    "start_time": "2023-05-09T14:59:50.280Z"
   },
   {
    "duration": 28,
    "start_time": "2023-05-09T15:01:05.327Z"
   },
   {
    "duration": 25,
    "start_time": "2023-05-09T15:02:10.045Z"
   },
   {
    "duration": 13,
    "start_time": "2023-05-09T15:04:38.079Z"
   },
   {
    "duration": 11,
    "start_time": "2023-05-09T15:04:46.069Z"
   },
   {
    "duration": 19,
    "start_time": "2023-05-09T15:04:58.214Z"
   },
   {
    "duration": 10,
    "start_time": "2023-05-09T15:05:03.178Z"
   },
   {
    "duration": 14,
    "start_time": "2023-05-09T15:05:08.838Z"
   },
   {
    "duration": 29,
    "start_time": "2023-05-09T15:06:54.133Z"
   },
   {
    "duration": 38,
    "start_time": "2023-05-09T15:11:54.402Z"
   },
   {
    "duration": 46,
    "start_time": "2023-05-09T15:12:38.750Z"
   },
   {
    "duration": 14,
    "start_time": "2023-05-09T15:12:43.673Z"
   },
   {
    "duration": 24,
    "start_time": "2023-05-09T15:12:54.097Z"
   },
   {
    "duration": 35,
    "start_time": "2023-05-09T15:14:26.484Z"
   },
   {
    "duration": 15,
    "start_time": "2023-05-09T15:14:55.283Z"
   },
   {
    "duration": 18,
    "start_time": "2023-05-09T15:15:16.389Z"
   },
   {
    "duration": 19,
    "start_time": "2023-05-09T15:25:15.903Z"
   },
   {
    "duration": 20,
    "start_time": "2023-05-09T15:27:10.829Z"
   },
   {
    "duration": 20,
    "start_time": "2023-05-09T15:27:13.413Z"
   },
   {
    "duration": 25,
    "start_time": "2023-05-09T15:27:36.463Z"
   },
   {
    "duration": 35,
    "start_time": "2023-05-09T15:27:40.562Z"
   },
   {
    "duration": 23,
    "start_time": "2023-05-09T15:27:42.623Z"
   },
   {
    "duration": 642,
    "start_time": "2023-05-09T15:27:55.864Z"
   },
   {
    "duration": 937,
    "start_time": "2023-05-09T15:27:56.508Z"
   },
   {
    "duration": 26,
    "start_time": "2023-05-09T15:27:57.446Z"
   },
   {
    "duration": 183,
    "start_time": "2023-05-09T15:27:57.474Z"
   },
   {
    "duration": 106,
    "start_time": "2023-05-09T15:27:57.660Z"
   },
   {
    "duration": 75,
    "start_time": "2023-05-09T15:27:57.768Z"
   },
   {
    "duration": 91,
    "start_time": "2023-05-09T15:27:57.844Z"
   },
   {
    "duration": 8,
    "start_time": "2023-05-09T15:27:57.936Z"
   },
   {
    "duration": 35,
    "start_time": "2023-05-09T15:27:57.947Z"
   },
   {
    "duration": 28,
    "start_time": "2023-05-09T15:27:57.985Z"
   },
   {
    "duration": 370,
    "start_time": "2023-05-09T15:27:58.015Z"
   },
   {
    "duration": 38,
    "start_time": "2023-05-09T15:27:58.386Z"
   },
   {
    "duration": 27,
    "start_time": "2023-05-09T15:27:58.427Z"
   },
   {
    "duration": 18,
    "start_time": "2023-05-09T15:27:58.457Z"
   },
   {
    "duration": 51,
    "start_time": "2023-05-09T15:27:58.477Z"
   },
   {
    "duration": 101,
    "start_time": "2023-05-09T15:27:58.531Z"
   },
   {
    "duration": 0,
    "start_time": "2023-05-09T15:27:58.635Z"
   },
   {
    "duration": 25,
    "start_time": "2023-05-09T15:28:03.830Z"
   },
   {
    "duration": 44,
    "start_time": "2023-05-09T15:29:06.145Z"
   },
   {
    "duration": 44,
    "start_time": "2023-05-09T15:29:27.798Z"
   },
   {
    "duration": 41,
    "start_time": "2023-05-09T15:29:46.001Z"
   },
   {
    "duration": 20,
    "start_time": "2023-05-09T15:30:03.594Z"
   },
   {
    "duration": 713,
    "start_time": "2023-05-09T15:30:15.496Z"
   },
   {
    "duration": 20,
    "start_time": "2023-05-09T15:30:38.845Z"
   },
   {
    "duration": 45,
    "start_time": "2023-05-09T15:31:25.333Z"
   },
   {
    "duration": 49,
    "start_time": "2023-05-09T15:32:07.389Z"
   },
   {
    "duration": 50,
    "start_time": "2023-05-09T15:32:14.196Z"
   },
   {
    "duration": 47,
    "start_time": "2023-05-09T15:34:15.485Z"
   },
   {
    "duration": 40,
    "start_time": "2023-05-09T15:34:32.057Z"
   },
   {
    "duration": 76,
    "start_time": "2023-05-09T15:34:48.723Z"
   },
   {
    "duration": 37,
    "start_time": "2023-05-09T15:35:48.784Z"
   },
   {
    "duration": 36,
    "start_time": "2023-05-09T15:36:23.939Z"
   },
   {
    "duration": 33,
    "start_time": "2023-05-09T15:36:27.133Z"
   },
   {
    "duration": 46,
    "start_time": "2023-05-09T15:37:21.634Z"
   },
   {
    "duration": 33,
    "start_time": "2023-05-09T15:38:29.557Z"
   },
   {
    "duration": 15,
    "start_time": "2023-05-09T15:54:16.932Z"
   },
   {
    "duration": 82,
    "start_time": "2023-05-09T15:54:52.399Z"
   },
   {
    "duration": 40,
    "start_time": "2023-05-09T15:55:56.394Z"
   },
   {
    "duration": 74,
    "start_time": "2023-05-09T15:57:13.449Z"
   },
   {
    "duration": 69,
    "start_time": "2023-05-09T15:57:18.696Z"
   },
   {
    "duration": 55,
    "start_time": "2023-05-09T15:59:22.038Z"
   },
   {
    "duration": 12,
    "start_time": "2023-05-09T16:06:34.502Z"
   },
   {
    "duration": 665,
    "start_time": "2023-05-09T16:06:41.810Z"
   },
   {
    "duration": 516,
    "start_time": "2023-05-09T16:06:42.477Z"
   },
   {
    "duration": 26,
    "start_time": "2023-05-09T16:06:42.995Z"
   },
   {
    "duration": 168,
    "start_time": "2023-05-09T16:06:43.023Z"
   },
   {
    "duration": 80,
    "start_time": "2023-05-09T16:06:43.192Z"
   },
   {
    "duration": 112,
    "start_time": "2023-05-09T16:06:43.274Z"
   },
   {
    "duration": 83,
    "start_time": "2023-05-09T16:06:43.388Z"
   },
   {
    "duration": 9,
    "start_time": "2023-05-09T16:06:43.473Z"
   },
   {
    "duration": 35,
    "start_time": "2023-05-09T16:06:43.485Z"
   },
   {
    "duration": 7,
    "start_time": "2023-05-09T16:06:43.523Z"
   },
   {
    "duration": 384,
    "start_time": "2023-05-09T16:06:43.532Z"
   },
   {
    "duration": 23,
    "start_time": "2023-05-09T16:06:43.918Z"
   },
   {
    "duration": 24,
    "start_time": "2023-05-09T16:06:43.943Z"
   },
   {
    "duration": 10,
    "start_time": "2023-05-09T16:06:43.970Z"
   },
   {
    "duration": 17,
    "start_time": "2023-05-09T16:06:44.012Z"
   },
   {
    "duration": 30,
    "start_time": "2023-05-09T16:06:44.030Z"
   },
   {
    "duration": 89,
    "start_time": "2023-05-09T16:06:44.062Z"
   },
   {
    "duration": 56,
    "start_time": "2023-05-09T16:15:31.187Z"
   },
   {
    "duration": 47,
    "start_time": "2023-05-09T16:16:02.925Z"
   },
   {
    "duration": 124,
    "start_time": "2023-05-09T16:16:13.457Z"
   },
   {
    "duration": 11,
    "start_time": "2023-05-09T16:16:29.484Z"
   },
   {
    "duration": 9,
    "start_time": "2023-05-09T16:16:49.584Z"
   },
   {
    "duration": 29,
    "start_time": "2023-05-09T16:17:05.642Z"
   },
   {
    "duration": 27,
    "start_time": "2023-05-09T16:17:15.449Z"
   },
   {
    "duration": 677,
    "start_time": "2023-05-09T16:17:51.706Z"
   },
   {
    "duration": 606,
    "start_time": "2023-05-09T16:17:52.385Z"
   },
   {
    "duration": 30,
    "start_time": "2023-05-09T16:17:52.993Z"
   },
   {
    "duration": 154,
    "start_time": "2023-05-09T16:17:53.026Z"
   },
   {
    "duration": 78,
    "start_time": "2023-05-09T16:17:53.182Z"
   },
   {
    "duration": 75,
    "start_time": "2023-05-09T16:17:53.262Z"
   },
   {
    "duration": 99,
    "start_time": "2023-05-09T16:17:53.339Z"
   },
   {
    "duration": 10,
    "start_time": "2023-05-09T16:17:53.440Z"
   },
   {
    "duration": 30,
    "start_time": "2023-05-09T16:17:53.452Z"
   },
   {
    "duration": 35,
    "start_time": "2023-05-09T16:17:53.485Z"
   },
   {
    "duration": 389,
    "start_time": "2023-05-09T16:17:53.523Z"
   },
   {
    "duration": 27,
    "start_time": "2023-05-09T16:17:53.914Z"
   },
   {
    "duration": 36,
    "start_time": "2023-05-09T16:17:53.943Z"
   },
   {
    "duration": 37,
    "start_time": "2023-05-09T16:17:53.981Z"
   },
   {
    "duration": 17,
    "start_time": "2023-05-09T16:17:54.020Z"
   },
   {
    "duration": 31,
    "start_time": "2023-05-09T16:17:54.039Z"
   },
   {
    "duration": 88,
    "start_time": "2023-05-09T16:17:54.072Z"
   },
   {
    "duration": 89,
    "start_time": "2023-05-09T16:17:54.163Z"
   },
   {
    "duration": 0,
    "start_time": "2023-05-09T16:17:54.254Z"
   },
   {
    "duration": 0,
    "start_time": "2023-05-09T16:17:54.255Z"
   },
   {
    "duration": 46,
    "start_time": "2023-05-09T16:18:23.185Z"
   },
   {
    "duration": 61,
    "start_time": "2023-05-09T16:18:44.430Z"
   },
   {
    "duration": 7,
    "start_time": "2023-05-09T16:54:27.972Z"
   },
   {
    "duration": 25,
    "start_time": "2023-05-09T17:03:35.074Z"
   },
   {
    "duration": 29,
    "start_time": "2023-05-09T17:04:00.202Z"
   },
   {
    "duration": 15,
    "start_time": "2023-05-09T17:16:02.478Z"
   },
   {
    "duration": 36,
    "start_time": "2023-05-09T17:18:25.350Z"
   },
   {
    "duration": 49,
    "start_time": "2023-05-09T17:18:36.754Z"
   },
   {
    "duration": 23,
    "start_time": "2023-05-09T17:18:45.296Z"
   },
   {
    "duration": 222,
    "start_time": "2023-05-09T17:21:37.770Z"
   },
   {
    "duration": 53,
    "start_time": "2023-05-09T17:22:21.205Z"
   },
   {
    "duration": 84,
    "start_time": "2023-05-09T17:25:52.414Z"
   },
   {
    "duration": 44,
    "start_time": "2023-05-09T17:31:28.290Z"
   },
   {
    "duration": 39,
    "start_time": "2023-05-09T18:05:11.366Z"
   },
   {
    "duration": 46,
    "start_time": "2023-05-09T18:07:23.683Z"
   },
   {
    "duration": 78,
    "start_time": "2023-05-09T18:09:27.604Z"
   },
   {
    "duration": 50,
    "start_time": "2023-05-09T18:09:54.983Z"
   },
   {
    "duration": 49,
    "start_time": "2023-05-09T18:12:30.439Z"
   },
   {
    "duration": 48,
    "start_time": "2023-05-09T18:12:41.049Z"
   },
   {
    "duration": 72,
    "start_time": "2023-05-09T18:12:53.004Z"
   },
   {
    "duration": 76,
    "start_time": "2023-05-09T18:13:01.876Z"
   },
   {
    "duration": 61,
    "start_time": "2023-05-09T18:13:04.706Z"
   },
   {
    "duration": 46,
    "start_time": "2023-05-09T18:13:13.837Z"
   },
   {
    "duration": 41,
    "start_time": "2023-05-09T18:13:30.960Z"
   },
   {
    "duration": 40,
    "start_time": "2023-05-09T18:13:40.384Z"
   },
   {
    "duration": 44,
    "start_time": "2023-05-09T18:13:43.426Z"
   },
   {
    "duration": 48,
    "start_time": "2023-05-09T18:15:34.761Z"
   },
   {
    "duration": 94,
    "start_time": "2023-05-09T18:15:40.419Z"
   },
   {
    "duration": 133,
    "start_time": "2023-05-09T18:18:25.134Z"
   },
   {
    "duration": 42,
    "start_time": "2023-05-09T18:26:21.366Z"
   },
   {
    "duration": 119,
    "start_time": "2023-05-09T18:27:15.375Z"
   },
   {
    "duration": 64,
    "start_time": "2023-05-10T06:23:17.650Z"
   },
   {
    "duration": 1149,
    "start_time": "2023-05-10T06:23:26.099Z"
   },
   {
    "duration": 506,
    "start_time": "2023-05-10T06:23:27.251Z"
   },
   {
    "duration": 50,
    "start_time": "2023-05-10T06:23:27.759Z"
   },
   {
    "duration": 159,
    "start_time": "2023-05-10T06:23:27.819Z"
   },
   {
    "duration": 81,
    "start_time": "2023-05-10T06:23:27.980Z"
   },
   {
    "duration": 91,
    "start_time": "2023-05-10T06:23:28.062Z"
   },
   {
    "duration": 110,
    "start_time": "2023-05-10T06:23:28.155Z"
   },
   {
    "duration": 10,
    "start_time": "2023-05-10T06:23:28.267Z"
   },
   {
    "duration": 40,
    "start_time": "2023-05-10T06:23:28.279Z"
   },
   {
    "duration": 14,
    "start_time": "2023-05-10T06:23:28.321Z"
   },
   {
    "duration": 395,
    "start_time": "2023-05-10T06:23:28.337Z"
   },
   {
    "duration": 28,
    "start_time": "2023-05-10T06:23:28.734Z"
   },
   {
    "duration": 55,
    "start_time": "2023-05-10T06:23:28.764Z"
   },
   {
    "duration": 11,
    "start_time": "2023-05-10T06:23:28.822Z"
   },
   {
    "duration": 13,
    "start_time": "2023-05-10T06:23:28.834Z"
   },
   {
    "duration": 52,
    "start_time": "2023-05-10T06:23:28.849Z"
   },
   {
    "duration": 63,
    "start_time": "2023-05-10T06:23:28.907Z"
   },
   {
    "duration": 70,
    "start_time": "2023-05-10T06:23:28.972Z"
   },
   {
    "duration": 136,
    "start_time": "2023-05-10T06:23:29.043Z"
   },
   {
    "duration": 60,
    "start_time": "2023-05-10T06:23:29.184Z"
   },
   {
    "duration": 107,
    "start_time": "2023-05-10T06:23:29.246Z"
   },
   {
    "duration": 0,
    "start_time": "2023-05-10T06:23:29.354Z"
   },
   {
    "duration": 23,
    "start_time": "2023-05-10T06:23:33.523Z"
   },
   {
    "duration": 12,
    "start_time": "2023-05-10T06:24:41.546Z"
   },
   {
    "duration": 48,
    "start_time": "2023-05-10T06:25:24.973Z"
   },
   {
    "duration": 35,
    "start_time": "2023-05-10T07:41:26.299Z"
   },
   {
    "duration": 9,
    "start_time": "2023-05-10T07:42:31.220Z"
   },
   {
    "duration": 5,
    "start_time": "2023-05-10T07:42:36.400Z"
   },
   {
    "duration": 13,
    "start_time": "2023-05-10T07:42:53.103Z"
   },
   {
    "duration": 7,
    "start_time": "2023-05-10T07:42:55.332Z"
   },
   {
    "duration": 21,
    "start_time": "2023-05-10T07:43:42.618Z"
   },
   {
    "duration": 21,
    "start_time": "2023-05-10T07:45:43.929Z"
   },
   {
    "duration": 15,
    "start_time": "2023-05-10T07:45:49.297Z"
   },
   {
    "duration": 16,
    "start_time": "2023-05-10T07:47:27.425Z"
   },
   {
    "duration": 15,
    "start_time": "2023-05-10T07:48:30.100Z"
   },
   {
    "duration": 20,
    "start_time": "2023-05-10T07:48:43.554Z"
   },
   {
    "duration": 15,
    "start_time": "2023-05-10T07:49:05.570Z"
   },
   {
    "duration": 18,
    "start_time": "2023-05-10T07:50:28.858Z"
   },
   {
    "duration": 19,
    "start_time": "2023-05-10T07:50:39.480Z"
   },
   {
    "duration": 21,
    "start_time": "2023-05-10T07:50:43.535Z"
   },
   {
    "duration": 21,
    "start_time": "2023-05-10T07:50:49.254Z"
   },
   {
    "duration": 104,
    "start_time": "2023-05-10T08:30:03.030Z"
   },
   {
    "duration": 105,
    "start_time": "2023-05-10T08:30:06.253Z"
   },
   {
    "duration": 56,
    "start_time": "2023-05-10T08:30:33.094Z"
   },
   {
    "duration": 69,
    "start_time": "2023-05-10T08:30:53.172Z"
   },
   {
    "duration": 8,
    "start_time": "2023-05-10T08:31:13.811Z"
   },
   {
    "duration": 92,
    "start_time": "2023-05-10T08:31:36.962Z"
   },
   {
    "duration": 83,
    "start_time": "2023-05-10T08:32:42.042Z"
   },
   {
    "duration": 208,
    "start_time": "2023-05-10T08:33:43.232Z"
   },
   {
    "duration": 226,
    "start_time": "2023-05-10T08:34:11.951Z"
   },
   {
    "duration": 214,
    "start_time": "2023-05-10T08:34:21.134Z"
   },
   {
    "duration": 266,
    "start_time": "2023-05-10T08:34:57.085Z"
   },
   {
    "duration": 227,
    "start_time": "2023-05-10T08:35:37.227Z"
   },
   {
    "duration": 214,
    "start_time": "2023-05-10T08:35:45.563Z"
   },
   {
    "duration": 221,
    "start_time": "2023-05-10T08:36:16.763Z"
   },
   {
    "duration": 205,
    "start_time": "2023-05-10T08:37:07.874Z"
   },
   {
    "duration": 229,
    "start_time": "2023-05-10T08:39:05.602Z"
   },
   {
    "duration": 292,
    "start_time": "2023-05-10T08:41:49.379Z"
   },
   {
    "duration": 235,
    "start_time": "2023-05-10T08:51:08.095Z"
   },
   {
    "duration": 38,
    "start_time": "2023-05-10T08:56:53.986Z"
   },
   {
    "duration": 27,
    "start_time": "2023-05-10T09:02:14.808Z"
   },
   {
    "duration": 12,
    "start_time": "2023-05-10T09:02:19.097Z"
   },
   {
    "duration": 14,
    "start_time": "2023-05-10T09:30:11.353Z"
   },
   {
    "duration": 14,
    "start_time": "2023-05-10T09:33:11.098Z"
   },
   {
    "duration": 5,
    "start_time": "2023-05-10T09:33:12.573Z"
   },
   {
    "duration": 18,
    "start_time": "2023-05-10T09:33:40.355Z"
   },
   {
    "duration": 19,
    "start_time": "2023-05-10T09:33:42.713Z"
   },
   {
    "duration": 14,
    "start_time": "2023-05-10T09:35:06.848Z"
   },
   {
    "duration": 39,
    "start_time": "2023-05-10T09:35:14.256Z"
   },
   {
    "duration": 29,
    "start_time": "2023-05-10T09:35:18.001Z"
   },
   {
    "duration": 44,
    "start_time": "2023-05-10T09:35:50.159Z"
   },
   {
    "duration": 20,
    "start_time": "2023-05-10T09:35:52.465Z"
   },
   {
    "duration": 31,
    "start_time": "2023-05-10T09:36:03.215Z"
   },
   {
    "duration": 16,
    "start_time": "2023-05-10T09:36:04.206Z"
   },
   {
    "duration": 30,
    "start_time": "2023-05-10T09:36:42.102Z"
   },
   {
    "duration": 32,
    "start_time": "2023-05-10T09:36:50.775Z"
   },
   {
    "duration": 27,
    "start_time": "2023-05-10T09:37:04.048Z"
   },
   {
    "duration": 812,
    "start_time": "2023-05-10T09:37:32.890Z"
   },
   {
    "duration": 16,
    "start_time": "2023-05-10T09:37:43.262Z"
   },
   {
    "duration": 6,
    "start_time": "2023-05-10T09:38:02.124Z"
   },
   {
    "duration": 5,
    "start_time": "2023-05-10T09:38:09.141Z"
   },
   {
    "duration": 54,
    "start_time": "2023-05-10T09:39:08.764Z"
   },
   {
    "duration": 14,
    "start_time": "2023-05-10T09:39:30.971Z"
   },
   {
    "duration": 35,
    "start_time": "2023-05-10T09:39:44.580Z"
   },
   {
    "duration": 22,
    "start_time": "2023-05-10T09:40:19.056Z"
   },
   {
    "duration": 62,
    "start_time": "2023-05-10T09:40:46.477Z"
   },
   {
    "duration": 17,
    "start_time": "2023-05-10T09:40:49.380Z"
   },
   {
    "duration": 61,
    "start_time": "2023-05-10T09:41:04.455Z"
   },
   {
    "duration": 9,
    "start_time": "2023-05-10T09:42:10.117Z"
   },
   {
    "duration": 470,
    "start_time": "2023-05-10T09:42:18.884Z"
   },
   {
    "duration": 898,
    "start_time": "2023-05-10T09:42:22.244Z"
   },
   {
    "duration": 877,
    "start_time": "2023-05-10T09:42:40.638Z"
   },
   {
    "duration": 6,
    "start_time": "2023-05-10T09:42:48.325Z"
   },
   {
    "duration": 5,
    "start_time": "2023-05-10T09:42:56.349Z"
   },
   {
    "duration": 5,
    "start_time": "2023-05-10T09:43:12.444Z"
   },
   {
    "duration": 935,
    "start_time": "2023-05-10T09:52:13.462Z"
   },
   {
    "duration": 115,
    "start_time": "2023-05-10T09:52:22.858Z"
   },
   {
    "duration": 113,
    "start_time": "2023-05-10T09:52:39.842Z"
   },
   {
    "duration": 122,
    "start_time": "2023-05-10T09:52:44.933Z"
   },
   {
    "duration": 162,
    "start_time": "2023-05-10T10:23:30.156Z"
   },
   {
    "duration": 188,
    "start_time": "2023-05-10T10:27:54.504Z"
   },
   {
    "duration": 1209,
    "start_time": "2023-05-10T10:30:46.919Z"
   },
   {
    "duration": 762,
    "start_time": "2023-05-10T10:30:48.133Z"
   },
   {
    "duration": 35,
    "start_time": "2023-05-10T10:30:48.904Z"
   },
   {
    "duration": 211,
    "start_time": "2023-05-10T10:30:48.942Z"
   },
   {
    "duration": 109,
    "start_time": "2023-05-10T10:30:49.158Z"
   },
   {
    "duration": 106,
    "start_time": "2023-05-10T10:30:49.270Z"
   },
   {
    "duration": 122,
    "start_time": "2023-05-10T10:30:49.384Z"
   },
   {
    "duration": 12,
    "start_time": "2023-05-10T10:30:49.508Z"
   },
   {
    "duration": 28,
    "start_time": "2023-05-10T10:30:49.527Z"
   },
   {
    "duration": 43,
    "start_time": "2023-05-10T10:30:49.558Z"
   },
   {
    "duration": 484,
    "start_time": "2023-05-10T10:30:49.613Z"
   },
   {
    "duration": 36,
    "start_time": "2023-05-10T10:30:50.100Z"
   },
   {
    "duration": 67,
    "start_time": "2023-05-10T10:30:50.137Z"
   },
   {
    "duration": 15,
    "start_time": "2023-05-10T10:30:50.207Z"
   },
   {
    "duration": 24,
    "start_time": "2023-05-10T10:30:50.226Z"
   },
   {
    "duration": 76,
    "start_time": "2023-05-10T10:30:50.252Z"
   },
   {
    "duration": 99,
    "start_time": "2023-05-10T10:30:50.330Z"
   },
   {
    "duration": 70,
    "start_time": "2023-05-10T10:30:50.433Z"
   },
   {
    "duration": 162,
    "start_time": "2023-05-10T10:30:50.508Z"
   },
   {
    "duration": 59,
    "start_time": "2023-05-10T10:30:50.673Z"
   },
   {
    "duration": 81,
    "start_time": "2023-05-10T10:30:50.734Z"
   },
   {
    "duration": 26,
    "start_time": "2023-05-10T10:30:50.821Z"
   },
   {
    "duration": 25,
    "start_time": "2023-05-10T10:30:50.850Z"
   },
   {
    "duration": 183,
    "start_time": "2023-05-10T10:30:50.880Z"
   },
   {
    "duration": 168,
    "start_time": "2023-05-10T10:31:36.968Z"
   },
   {
    "duration": 100,
    "start_time": "2023-05-10T10:53:09.260Z"
   },
   {
    "duration": 218,
    "start_time": "2023-05-10T10:54:18.807Z"
   },
   {
    "duration": 87,
    "start_time": "2023-05-10T10:54:31.309Z"
   },
   {
    "duration": 74,
    "start_time": "2023-05-10T10:55:15.377Z"
   },
   {
    "duration": 26,
    "start_time": "2023-05-10T10:57:00.014Z"
   },
   {
    "duration": 36,
    "start_time": "2023-05-10T10:58:09.012Z"
   },
   {
    "duration": 59,
    "start_time": "2023-05-10T10:59:19.346Z"
   },
   {
    "duration": 36,
    "start_time": "2023-05-10T11:01:02.143Z"
   },
   {
    "duration": 46,
    "start_time": "2023-05-10T11:01:14.933Z"
   },
   {
    "duration": 10,
    "start_time": "2023-05-10T11:08:09.537Z"
   },
   {
    "duration": 379,
    "start_time": "2023-05-10T11:08:42.025Z"
   },
   {
    "duration": 210,
    "start_time": "2023-05-10T11:09:05.745Z"
   },
   {
    "duration": 291,
    "start_time": "2023-05-10T11:09:35.718Z"
   },
   {
    "duration": 238,
    "start_time": "2023-05-10T11:12:15.773Z"
   },
   {
    "duration": 8,
    "start_time": "2023-05-10T11:20:25.861Z"
   },
   {
    "duration": 217,
    "start_time": "2023-05-10T11:23:40.818Z"
   },
   {
    "duration": 194,
    "start_time": "2023-05-10T11:23:49.634Z"
   },
   {
    "duration": 239,
    "start_time": "2023-05-10T11:24:14.097Z"
   },
   {
    "duration": 189,
    "start_time": "2023-05-10T11:24:50.615Z"
   },
   {
    "duration": 11,
    "start_time": "2023-05-10T11:24:55.614Z"
   },
   {
    "duration": 196,
    "start_time": "2023-05-10T11:25:11.473Z"
   },
   {
    "duration": 7,
    "start_time": "2023-05-10T11:25:13.567Z"
   },
   {
    "duration": 14,
    "start_time": "2023-05-10T11:25:54.453Z"
   },
   {
    "duration": 833,
    "start_time": "2023-05-10T11:26:01.904Z"
   },
   {
    "duration": 8,
    "start_time": "2023-05-10T11:26:06.103Z"
   },
   {
    "duration": 11,
    "start_time": "2023-05-10T11:26:26.108Z"
   },
   {
    "duration": 7,
    "start_time": "2023-05-10T11:26:41.627Z"
   },
   {
    "duration": 6,
    "start_time": "2023-05-10T11:31:14.349Z"
   },
   {
    "duration": 15,
    "start_time": "2023-05-10T11:31:45.084Z"
   },
   {
    "duration": 17,
    "start_time": "2023-05-10T12:08:58.844Z"
   },
   {
    "duration": 8,
    "start_time": "2023-05-10T12:09:30.477Z"
   },
   {
    "duration": 8,
    "start_time": "2023-05-10T12:09:51.472Z"
   },
   {
    "duration": 8,
    "start_time": "2023-05-10T12:10:11.619Z"
   },
   {
    "duration": 13,
    "start_time": "2023-05-10T12:10:27.445Z"
   },
   {
    "duration": 11,
    "start_time": "2023-05-10T12:12:07.680Z"
   },
   {
    "duration": 11,
    "start_time": "2023-05-10T12:12:23.596Z"
   },
   {
    "duration": 1280,
    "start_time": "2023-05-10T12:16:59.419Z"
   },
   {
    "duration": 603,
    "start_time": "2023-05-10T12:17:00.701Z"
   },
   {
    "duration": 28,
    "start_time": "2023-05-10T12:17:01.306Z"
   },
   {
    "duration": 236,
    "start_time": "2023-05-10T12:17:01.336Z"
   },
   {
    "duration": 80,
    "start_time": "2023-05-10T12:17:01.575Z"
   },
   {
    "duration": 82,
    "start_time": "2023-05-10T12:17:01.657Z"
   },
   {
    "duration": 87,
    "start_time": "2023-05-10T12:17:01.741Z"
   },
   {
    "duration": 10,
    "start_time": "2023-05-10T12:17:01.831Z"
   },
   {
    "duration": 25,
    "start_time": "2023-05-10T12:17:01.843Z"
   },
   {
    "duration": 19,
    "start_time": "2023-05-10T12:17:01.885Z"
   },
   {
    "duration": 412,
    "start_time": "2023-05-10T12:17:01.906Z"
   },
   {
    "duration": 28,
    "start_time": "2023-05-10T12:17:02.320Z"
   },
   {
    "duration": 57,
    "start_time": "2023-05-10T12:17:02.351Z"
   },
   {
    "duration": 11,
    "start_time": "2023-05-10T12:17:02.413Z"
   },
   {
    "duration": 28,
    "start_time": "2023-05-10T12:17:02.425Z"
   },
   {
    "duration": 49,
    "start_time": "2023-05-10T12:17:02.455Z"
   },
   {
    "duration": 93,
    "start_time": "2023-05-10T12:17:02.506Z"
   },
   {
    "duration": 44,
    "start_time": "2023-05-10T12:17:02.604Z"
   },
   {
    "duration": 161,
    "start_time": "2023-05-10T12:17:02.650Z"
   },
   {
    "duration": 42,
    "start_time": "2023-05-10T12:17:02.813Z"
   },
   {
    "duration": 50,
    "start_time": "2023-05-10T12:17:02.857Z"
   },
   {
    "duration": 20,
    "start_time": "2023-05-10T12:17:02.909Z"
   },
   {
    "duration": 38,
    "start_time": "2023-05-10T12:17:02.930Z"
   },
   {
    "duration": 146,
    "start_time": "2023-05-10T12:17:02.970Z"
   },
   {
    "duration": 47,
    "start_time": "2023-05-10T12:17:03.118Z"
   },
   {
    "duration": 57,
    "start_time": "2023-05-10T12:17:03.167Z"
   },
   {
    "duration": 49,
    "start_time": "2023-05-10T12:17:03.226Z"
   },
   {
    "duration": 268,
    "start_time": "2023-05-10T12:17:03.286Z"
   },
   {
    "duration": 12,
    "start_time": "2023-05-10T12:17:03.557Z"
   },
   {
    "duration": 36,
    "start_time": "2023-05-10T12:17:03.573Z"
   },
   {
    "duration": 24,
    "start_time": "2023-05-10T12:17:03.611Z"
   },
   {
    "duration": 49,
    "start_time": "2023-05-10T12:17:03.637Z"
   },
   {
    "duration": 13,
    "start_time": "2023-05-10T12:17:03.688Z"
   },
   {
    "duration": 140,
    "start_time": "2023-05-10T12:20:29.480Z"
   },
   {
    "duration": 31,
    "start_time": "2023-05-10T12:20:43.201Z"
   },
   {
    "duration": 45,
    "start_time": "2023-05-10T12:22:32.906Z"
   },
   {
    "duration": 1272,
    "start_time": "2023-05-10T12:25:45.857Z"
   },
   {
    "duration": 516,
    "start_time": "2023-05-10T12:25:47.132Z"
   },
   {
    "duration": 33,
    "start_time": "2023-05-10T12:25:47.650Z"
   },
   {
    "duration": 162,
    "start_time": "2023-05-10T12:25:47.691Z"
   },
   {
    "duration": 101,
    "start_time": "2023-05-10T12:25:47.856Z"
   },
   {
    "duration": 87,
    "start_time": "2023-05-10T12:25:47.960Z"
   },
   {
    "duration": 116,
    "start_time": "2023-05-10T12:25:48.049Z"
   },
   {
    "duration": 10,
    "start_time": "2023-05-10T12:25:48.167Z"
   },
   {
    "duration": 27,
    "start_time": "2023-05-10T12:25:48.195Z"
   },
   {
    "duration": 9,
    "start_time": "2023-05-10T12:25:48.224Z"
   },
   {
    "duration": 521,
    "start_time": "2023-05-10T12:25:48.235Z"
   },
   {
    "duration": 42,
    "start_time": "2023-05-10T12:25:48.759Z"
   },
   {
    "duration": 40,
    "start_time": "2023-05-10T12:25:48.803Z"
   },
   {
    "duration": 11,
    "start_time": "2023-05-10T12:25:48.847Z"
   },
   {
    "duration": 41,
    "start_time": "2023-05-10T12:25:48.861Z"
   },
   {
    "duration": 44,
    "start_time": "2023-05-10T12:25:48.904Z"
   },
   {
    "duration": 101,
    "start_time": "2023-05-10T12:25:48.950Z"
   },
   {
    "duration": 74,
    "start_time": "2023-05-10T12:25:49.053Z"
   },
   {
    "duration": 135,
    "start_time": "2023-05-10T12:25:49.129Z"
   },
   {
    "duration": 62,
    "start_time": "2023-05-10T12:25:49.265Z"
   },
   {
    "duration": 39,
    "start_time": "2023-05-10T12:25:49.329Z"
   },
   {
    "duration": 52,
    "start_time": "2023-05-10T12:25:49.370Z"
   },
   {
    "duration": 17,
    "start_time": "2023-05-10T12:25:49.424Z"
   },
   {
    "duration": 150,
    "start_time": "2023-05-10T12:25:49.443Z"
   },
   {
    "duration": 59,
    "start_time": "2023-05-10T12:25:49.595Z"
   },
   {
    "duration": 76,
    "start_time": "2023-05-10T12:25:49.656Z"
   },
   {
    "duration": 39,
    "start_time": "2023-05-10T12:25:49.734Z"
   },
   {
    "duration": 249,
    "start_time": "2023-05-10T12:25:49.774Z"
   },
   {
    "duration": 9,
    "start_time": "2023-05-10T12:25:50.025Z"
   },
   {
    "duration": 24,
    "start_time": "2023-05-10T12:25:50.036Z"
   },
   {
    "duration": 159,
    "start_time": "2023-05-10T12:25:50.062Z"
   },
   {
    "duration": 0,
    "start_time": "2023-05-10T12:25:50.232Z"
   },
   {
    "duration": 0,
    "start_time": "2023-05-10T12:25:50.232Z"
   },
   {
    "duration": 28,
    "start_time": "2023-05-10T12:27:03.428Z"
   },
   {
    "duration": 41,
    "start_time": "2023-05-10T12:27:15.106Z"
   },
   {
    "duration": 19,
    "start_time": "2023-05-10T12:28:13.173Z"
   },
   {
    "duration": 264,
    "start_time": "2023-05-10T12:28:54.540Z"
   },
   {
    "duration": 256,
    "start_time": "2023-05-10T12:29:13.516Z"
   },
   {
    "duration": 221,
    "start_time": "2023-05-10T12:29:29.037Z"
   },
   {
    "duration": 26,
    "start_time": "2023-05-10T12:29:29.782Z"
   },
   {
    "duration": 218,
    "start_time": "2023-05-10T12:29:50.550Z"
   },
   {
    "duration": 15,
    "start_time": "2023-05-10T12:29:52.314Z"
   },
   {
    "duration": 2142,
    "start_time": "2023-05-10T12:30:03.218Z"
   },
   {
    "duration": 7,
    "start_time": "2023-05-10T12:30:36.611Z"
   },
   {
    "duration": 10,
    "start_time": "2023-05-10T12:30:52.307Z"
   },
   {
    "duration": 6,
    "start_time": "2023-05-10T12:30:59.322Z"
   },
   {
    "duration": 5,
    "start_time": "2023-05-10T12:31:29.354Z"
   },
   {
    "duration": 14,
    "start_time": "2023-05-10T12:31:37.977Z"
   },
   {
    "duration": 207,
    "start_time": "2023-05-10T12:34:08.701Z"
   },
   {
    "duration": 9,
    "start_time": "2023-05-10T12:34:10.428Z"
   },
   {
    "duration": 4,
    "start_time": "2023-05-10T12:43:27.294Z"
   },
   {
    "duration": 11,
    "start_time": "2023-05-10T12:43:34.684Z"
   },
   {
    "duration": 8,
    "start_time": "2023-05-10T12:43:40.605Z"
   },
   {
    "duration": 5,
    "start_time": "2023-05-10T12:43:52.040Z"
   },
   {
    "duration": 13,
    "start_time": "2023-05-10T12:43:53.750Z"
   },
   {
    "duration": 13,
    "start_time": "2023-05-10T12:47:03.833Z"
   },
   {
    "duration": 15,
    "start_time": "2023-05-10T12:47:10.883Z"
   },
   {
    "duration": 9,
    "start_time": "2023-05-10T12:47:32.759Z"
   },
   {
    "duration": 192,
    "start_time": "2023-05-10T12:47:51.149Z"
   },
   {
    "duration": 8,
    "start_time": "2023-05-10T12:47:52.950Z"
   },
   {
    "duration": 9,
    "start_time": "2023-05-10T12:47:55.902Z"
   },
   {
    "duration": 42,
    "start_time": "2023-05-10T12:52:45.430Z"
   },
   {
    "duration": 58,
    "start_time": "2023-05-10T12:53:31.984Z"
   },
   {
    "duration": 11,
    "start_time": "2023-05-10T12:54:03.797Z"
   },
   {
    "duration": 56,
    "start_time": "2023-05-10T12:54:05.932Z"
   },
   {
    "duration": 10,
    "start_time": "2023-05-10T12:54:40.741Z"
   },
   {
    "duration": 14,
    "start_time": "2023-05-10T12:55:36.834Z"
   },
   {
    "duration": 13,
    "start_time": "2023-05-10T12:55:57.341Z"
   },
   {
    "duration": 11,
    "start_time": "2023-05-10T12:56:00.057Z"
   },
   {
    "duration": 4,
    "start_time": "2023-05-10T12:56:37.553Z"
   },
   {
    "duration": 15,
    "start_time": "2023-05-10T12:56:42.983Z"
   },
   {
    "duration": 10,
    "start_time": "2023-05-10T12:57:14.170Z"
   },
   {
    "duration": 15,
    "start_time": "2023-05-10T12:57:51.386Z"
   },
   {
    "duration": 197,
    "start_time": "2023-05-10T12:58:01.126Z"
   },
   {
    "duration": 8,
    "start_time": "2023-05-10T12:58:03.725Z"
   },
   {
    "duration": 9,
    "start_time": "2023-05-10T12:58:20.672Z"
   },
   {
    "duration": 15,
    "start_time": "2023-05-10T13:00:04.723Z"
   },
   {
    "duration": 15,
    "start_time": "2023-05-10T13:00:14.716Z"
   },
   {
    "duration": 13,
    "start_time": "2023-05-10T13:00:23.875Z"
   },
   {
    "duration": 16,
    "start_time": "2023-05-10T13:00:36.897Z"
   },
   {
    "duration": 4,
    "start_time": "2023-05-10T13:04:06.478Z"
   },
   {
    "duration": 3,
    "start_time": "2023-05-10T13:05:31.107Z"
   },
   {
    "duration": 10,
    "start_time": "2023-05-10T13:05:35.437Z"
   },
   {
    "duration": 7,
    "start_time": "2023-05-10T13:05:38.642Z"
   },
   {
    "duration": 9,
    "start_time": "2023-05-10T13:05:41.735Z"
   },
   {
    "duration": 14,
    "start_time": "2023-05-10T13:06:10.064Z"
   },
   {
    "duration": 9,
    "start_time": "2023-05-10T13:14:02.851Z"
   },
   {
    "duration": 8,
    "start_time": "2023-05-10T13:14:27.901Z"
   },
   {
    "duration": 9,
    "start_time": "2023-05-10T13:14:37.330Z"
   },
   {
    "duration": 4,
    "start_time": "2023-05-10T13:20:16.650Z"
   },
   {
    "duration": 9,
    "start_time": "2023-05-10T13:20:20.369Z"
   },
   {
    "duration": 15,
    "start_time": "2023-05-10T13:20:51.080Z"
   },
   {
    "duration": 14,
    "start_time": "2023-05-10T13:21:17.680Z"
   },
   {
    "duration": 1152,
    "start_time": "2023-05-10T13:21:29.257Z"
   },
   {
    "duration": 623,
    "start_time": "2023-05-10T13:21:30.411Z"
   },
   {
    "duration": 21,
    "start_time": "2023-05-10T13:21:31.036Z"
   },
   {
    "duration": 172,
    "start_time": "2023-05-10T13:21:31.060Z"
   },
   {
    "duration": 78,
    "start_time": "2023-05-10T13:21:31.233Z"
   },
   {
    "duration": 89,
    "start_time": "2023-05-10T13:21:31.313Z"
   },
   {
    "duration": 90,
    "start_time": "2023-05-10T13:21:31.403Z"
   },
   {
    "duration": 9,
    "start_time": "2023-05-10T13:21:31.497Z"
   },
   {
    "duration": 48,
    "start_time": "2023-05-10T13:21:31.509Z"
   },
   {
    "duration": 44,
    "start_time": "2023-05-10T13:21:31.561Z"
   },
   {
    "duration": 367,
    "start_time": "2023-05-10T13:21:31.608Z"
   },
   {
    "duration": 29,
    "start_time": "2023-05-10T13:21:31.976Z"
   },
   {
    "duration": 41,
    "start_time": "2023-05-10T13:21:32.007Z"
   },
   {
    "duration": 8,
    "start_time": "2023-05-10T13:21:32.050Z"
   },
   {
    "duration": 40,
    "start_time": "2023-05-10T13:21:32.060Z"
   },
   {
    "duration": 28,
    "start_time": "2023-05-10T13:21:32.102Z"
   },
   {
    "duration": 75,
    "start_time": "2023-05-10T13:21:32.132Z"
   },
   {
    "duration": 40,
    "start_time": "2023-05-10T13:21:32.209Z"
   },
   {
    "duration": 153,
    "start_time": "2023-05-10T13:21:32.250Z"
   },
   {
    "duration": 46,
    "start_time": "2023-05-10T13:21:32.405Z"
   },
   {
    "duration": 56,
    "start_time": "2023-05-10T13:21:32.453Z"
   },
   {
    "duration": 16,
    "start_time": "2023-05-10T13:21:32.511Z"
   },
   {
    "duration": 31,
    "start_time": "2023-05-10T13:21:32.528Z"
   },
   {
    "duration": 163,
    "start_time": "2023-05-10T13:21:32.561Z"
   },
   {
    "duration": 35,
    "start_time": "2023-05-10T13:21:32.726Z"
   },
   {
    "duration": 52,
    "start_time": "2023-05-10T13:21:32.763Z"
   },
   {
    "duration": 34,
    "start_time": "2023-05-10T13:21:32.817Z"
   },
   {
    "duration": 240,
    "start_time": "2023-05-10T13:21:32.855Z"
   },
   {
    "duration": 11,
    "start_time": "2023-05-10T13:21:33.101Z"
   },
   {
    "duration": 8,
    "start_time": "2023-05-10T13:21:33.114Z"
   },
   {
    "duration": 45,
    "start_time": "2023-05-10T13:21:33.123Z"
   },
   {
    "duration": 0,
    "start_time": "2023-05-10T13:21:33.170Z"
   },
   {
    "duration": 0,
    "start_time": "2023-05-10T13:21:33.172Z"
   },
   {
    "duration": 0,
    "start_time": "2023-05-10T13:21:33.173Z"
   },
   {
    "duration": 0,
    "start_time": "2023-05-10T13:21:33.174Z"
   },
   {
    "duration": 0,
    "start_time": "2023-05-10T13:21:33.175Z"
   },
   {
    "duration": 12,
    "start_time": "2023-05-10T13:22:21.030Z"
   },
   {
    "duration": 6,
    "start_time": "2023-05-10T13:22:49.109Z"
   },
   {
    "duration": 15,
    "start_time": "2023-05-10T13:23:03.182Z"
   },
   {
    "duration": 11,
    "start_time": "2023-05-10T13:23:18.002Z"
   },
   {
    "duration": 15,
    "start_time": "2023-05-10T13:25:27.082Z"
   },
   {
    "duration": 12,
    "start_time": "2023-05-10T13:25:45.570Z"
   },
   {
    "duration": 3,
    "start_time": "2023-05-10T13:28:16.801Z"
   },
   {
    "duration": 5,
    "start_time": "2023-05-10T13:28:22.469Z"
   },
   {
    "duration": 6,
    "start_time": "2023-05-10T13:28:41.036Z"
   },
   {
    "duration": 8,
    "start_time": "2023-05-10T13:28:50.811Z"
   },
   {
    "duration": 9,
    "start_time": "2023-05-10T13:29:02.940Z"
   },
   {
    "duration": 6,
    "start_time": "2023-05-10T13:29:50.027Z"
   },
   {
    "duration": 7,
    "start_time": "2023-05-10T13:30:24.274Z"
   },
   {
    "duration": 8,
    "start_time": "2023-05-10T13:30:37.251Z"
   },
   {
    "duration": 65,
    "start_time": "2023-05-10T13:32:17.302Z"
   },
   {
    "duration": 52,
    "start_time": "2023-05-10T13:32:21.202Z"
   },
   {
    "duration": 23,
    "start_time": "2023-05-10T13:32:38.185Z"
   },
   {
    "duration": 1171,
    "start_time": "2023-05-10T13:32:45.751Z"
   },
   {
    "duration": 546,
    "start_time": "2023-05-10T13:32:46.923Z"
   },
   {
    "duration": 29,
    "start_time": "2023-05-10T13:32:47.470Z"
   },
   {
    "duration": 175,
    "start_time": "2023-05-10T13:32:47.501Z"
   },
   {
    "duration": 79,
    "start_time": "2023-05-10T13:32:47.678Z"
   },
   {
    "duration": 91,
    "start_time": "2023-05-10T13:32:47.759Z"
   },
   {
    "duration": 97,
    "start_time": "2023-05-10T13:32:47.851Z"
   },
   {
    "duration": 7,
    "start_time": "2023-05-10T13:32:47.949Z"
   },
   {
    "duration": 41,
    "start_time": "2023-05-10T13:32:47.957Z"
   },
   {
    "duration": 9,
    "start_time": "2023-05-10T13:32:48.000Z"
   },
   {
    "duration": 366,
    "start_time": "2023-05-10T13:32:48.011Z"
   },
   {
    "duration": 34,
    "start_time": "2023-05-10T13:32:48.378Z"
   },
   {
    "duration": 49,
    "start_time": "2023-05-10T13:32:48.413Z"
   },
   {
    "duration": 34,
    "start_time": "2023-05-10T13:32:48.466Z"
   },
   {
    "duration": 15,
    "start_time": "2023-05-10T13:32:48.502Z"
   },
   {
    "duration": 28,
    "start_time": "2023-05-10T13:32:48.519Z"
   },
   {
    "duration": 78,
    "start_time": "2023-05-10T13:32:48.549Z"
   },
   {
    "duration": 41,
    "start_time": "2023-05-10T13:32:48.629Z"
   },
   {
    "duration": 148,
    "start_time": "2023-05-10T13:32:48.672Z"
   },
   {
    "duration": 41,
    "start_time": "2023-05-10T13:32:48.822Z"
   },
   {
    "duration": 65,
    "start_time": "2023-05-10T13:32:48.865Z"
   },
   {
    "duration": 24,
    "start_time": "2023-05-10T13:32:48.932Z"
   },
   {
    "duration": 39,
    "start_time": "2023-05-10T13:32:48.959Z"
   },
   {
    "duration": 144,
    "start_time": "2023-05-10T13:32:49.000Z"
   },
   {
    "duration": 55,
    "start_time": "2023-05-10T13:32:49.146Z"
   },
   {
    "duration": 35,
    "start_time": "2023-05-10T13:32:49.203Z"
   },
   {
    "duration": 50,
    "start_time": "2023-05-10T13:32:49.240Z"
   },
   {
    "duration": 209,
    "start_time": "2023-05-10T13:32:49.291Z"
   },
   {
    "duration": 10,
    "start_time": "2023-05-10T13:32:49.502Z"
   },
   {
    "duration": 18,
    "start_time": "2023-05-10T13:32:49.514Z"
   },
   {
    "duration": 19,
    "start_time": "2023-05-10T13:32:49.534Z"
   },
   {
    "duration": 47,
    "start_time": "2023-05-10T13:32:49.555Z"
   },
   {
    "duration": 79,
    "start_time": "2023-05-10T13:32:49.604Z"
   },
   {
    "duration": 0,
    "start_time": "2023-05-10T13:32:49.684Z"
   },
   {
    "duration": 0,
    "start_time": "2023-05-10T13:32:49.685Z"
   },
   {
    "duration": 0,
    "start_time": "2023-05-10T13:32:49.686Z"
   },
   {
    "duration": 0,
    "start_time": "2023-05-10T13:32:49.686Z"
   },
   {
    "duration": 0,
    "start_time": "2023-05-10T13:32:49.687Z"
   },
   {
    "duration": 0,
    "start_time": "2023-05-10T13:32:49.688Z"
   },
   {
    "duration": 49,
    "start_time": "2023-05-10T13:33:04.525Z"
   },
   {
    "duration": 4,
    "start_time": "2023-05-10T13:33:27.612Z"
   },
   {
    "duration": 5,
    "start_time": "2023-05-10T13:33:38.403Z"
   },
   {
    "duration": 57,
    "start_time": "2023-05-10T13:33:47.917Z"
   },
   {
    "duration": 131,
    "start_time": "2023-05-10T13:34:21.658Z"
   },
   {
    "duration": 8,
    "start_time": "2023-05-10T13:34:41.185Z"
   },
   {
    "duration": 26,
    "start_time": "2023-05-10T13:34:46.514Z"
   },
   {
    "duration": 24,
    "start_time": "2023-05-10T13:34:58.083Z"
   },
   {
    "duration": 22,
    "start_time": "2023-05-10T13:35:15.241Z"
   },
   {
    "duration": 3,
    "start_time": "2023-05-10T13:40:21.305Z"
   },
   {
    "duration": 35,
    "start_time": "2023-05-10T13:40:43.299Z"
   },
   {
    "duration": 35,
    "start_time": "2023-05-10T13:40:49.068Z"
   },
   {
    "duration": 29,
    "start_time": "2023-05-10T13:41:13.909Z"
   },
   {
    "duration": 3,
    "start_time": "2023-05-10T13:42:12.398Z"
   },
   {
    "duration": 36,
    "start_time": "2023-05-10T13:42:14.901Z"
   },
   {
    "duration": 3,
    "start_time": "2023-05-10T13:43:46.209Z"
   },
   {
    "duration": 29,
    "start_time": "2023-05-10T13:43:54.650Z"
   },
   {
    "duration": 4,
    "start_time": "2023-05-10T13:45:02.785Z"
   },
   {
    "duration": 5,
    "start_time": "2023-05-10T13:45:08.678Z"
   },
   {
    "duration": 3,
    "start_time": "2023-05-10T13:45:20.167Z"
   },
   {
    "duration": 8,
    "start_time": "2023-05-10T13:45:21.751Z"
   },
   {
    "duration": 3,
    "start_time": "2023-05-10T13:45:35.096Z"
   },
   {
    "duration": 5,
    "start_time": "2023-05-10T13:45:37.230Z"
   },
   {
    "duration": 10,
    "start_time": "2023-05-10T13:46:21.894Z"
   },
   {
    "duration": 3,
    "start_time": "2023-05-10T13:46:29.054Z"
   },
   {
    "duration": 6,
    "start_time": "2023-05-10T13:46:30.973Z"
   },
   {
    "duration": 10,
    "start_time": "2023-05-10T13:46:39.374Z"
   },
   {
    "duration": 4,
    "start_time": "2023-05-10T13:46:50.693Z"
   },
   {
    "duration": 9,
    "start_time": "2023-05-10T13:46:52.678Z"
   },
   {
    "duration": 712,
    "start_time": "2023-05-10T13:46:59.126Z"
   },
   {
    "duration": 3,
    "start_time": "2023-05-10T13:47:06.870Z"
   },
   {
    "duration": 5,
    "start_time": "2023-05-10T13:47:09.158Z"
   },
   {
    "duration": 4,
    "start_time": "2023-05-10T13:47:29.756Z"
   },
   {
    "duration": 4,
    "start_time": "2023-05-10T13:47:38.212Z"
   },
   {
    "duration": 4,
    "start_time": "2023-05-10T13:48:03.375Z"
   },
   {
    "duration": 8,
    "start_time": "2023-05-10T13:48:04.980Z"
   },
   {
    "duration": 4,
    "start_time": "2023-05-10T13:48:16.156Z"
   },
   {
    "duration": 1155,
    "start_time": "2023-05-10T13:48:24.597Z"
   },
   {
    "duration": 395,
    "start_time": "2023-05-10T13:48:25.756Z"
   },
   {
    "duration": 20,
    "start_time": "2023-05-10T13:48:26.153Z"
   },
   {
    "duration": 140,
    "start_time": "2023-05-10T13:48:26.174Z"
   },
   {
    "duration": 74,
    "start_time": "2023-05-10T13:48:26.315Z"
   },
   {
    "duration": 66,
    "start_time": "2023-05-10T13:48:26.391Z"
   },
   {
    "duration": 89,
    "start_time": "2023-05-10T13:48:26.459Z"
   },
   {
    "duration": 8,
    "start_time": "2023-05-10T13:48:26.549Z"
   },
   {
    "duration": 39,
    "start_time": "2023-05-10T13:48:26.559Z"
   },
   {
    "duration": 7,
    "start_time": "2023-05-10T13:48:26.599Z"
   },
   {
    "duration": 375,
    "start_time": "2023-05-10T13:48:26.607Z"
   },
   {
    "duration": 23,
    "start_time": "2023-05-10T13:48:26.985Z"
   },
   {
    "duration": 28,
    "start_time": "2023-05-10T13:48:27.010Z"
   },
   {
    "duration": 48,
    "start_time": "2023-05-10T13:48:27.042Z"
   },
   {
    "duration": 14,
    "start_time": "2023-05-10T13:48:27.092Z"
   },
   {
    "duration": 29,
    "start_time": "2023-05-10T13:48:27.108Z"
   },
   {
    "duration": 114,
    "start_time": "2023-05-10T13:48:27.138Z"
   },
   {
    "duration": 52,
    "start_time": "2023-05-10T13:48:27.254Z"
   },
   {
    "duration": 138,
    "start_time": "2023-05-10T13:48:27.308Z"
   },
   {
    "duration": 67,
    "start_time": "2023-05-10T13:48:27.448Z"
   },
   {
    "duration": 42,
    "start_time": "2023-05-10T13:48:27.517Z"
   },
   {
    "duration": 35,
    "start_time": "2023-05-10T13:48:27.561Z"
   },
   {
    "duration": 17,
    "start_time": "2023-05-10T13:48:27.598Z"
   },
   {
    "duration": 170,
    "start_time": "2023-05-10T13:48:27.616Z"
   },
   {
    "duration": 35,
    "start_time": "2023-05-10T13:48:27.787Z"
   },
   {
    "duration": 63,
    "start_time": "2023-05-10T13:48:27.824Z"
   },
   {
    "duration": 39,
    "start_time": "2023-05-10T13:48:27.890Z"
   },
   {
    "duration": 232,
    "start_time": "2023-05-10T13:48:27.931Z"
   },
   {
    "duration": 8,
    "start_time": "2023-05-10T13:48:28.164Z"
   },
   {
    "duration": 27,
    "start_time": "2023-05-10T13:48:28.173Z"
   },
   {
    "duration": 15,
    "start_time": "2023-05-10T13:48:28.202Z"
   },
   {
    "duration": 27,
    "start_time": "2023-05-10T13:48:28.219Z"
   },
   {
    "duration": 49,
    "start_time": "2023-05-10T13:48:28.249Z"
   },
   {
    "duration": 6,
    "start_time": "2023-05-10T13:48:28.300Z"
   },
   {
    "duration": 12,
    "start_time": "2023-05-10T13:48:28.308Z"
   },
   {
    "duration": 13,
    "start_time": "2023-05-10T13:48:28.322Z"
   },
   {
    "duration": 15,
    "start_time": "2023-05-10T13:48:28.336Z"
   },
   {
    "duration": 9,
    "start_time": "2023-05-10T13:48:28.352Z"
   },
   {
    "duration": 46,
    "start_time": "2023-05-10T13:48:28.362Z"
   },
   {
    "duration": 0,
    "start_time": "2023-05-10T13:48:28.410Z"
   },
   {
    "duration": 0,
    "start_time": "2023-05-10T13:48:28.411Z"
   },
   {
    "duration": 0,
    "start_time": "2023-05-10T13:48:28.412Z"
   },
   {
    "duration": 0,
    "start_time": "2023-05-10T13:48:28.413Z"
   },
   {
    "duration": 6,
    "start_time": "2023-05-10T13:51:30.150Z"
   },
   {
    "duration": 18,
    "start_time": "2023-05-10T13:51:33.910Z"
   },
   {
    "duration": 210,
    "start_time": "2023-05-10T13:55:01.536Z"
   },
   {
    "duration": 302,
    "start_time": "2023-05-10T14:00:30.535Z"
   },
   {
    "duration": 234,
    "start_time": "2023-05-10T14:00:36.183Z"
   },
   {
    "duration": 16,
    "start_time": "2023-05-10T14:03:21.296Z"
   },
   {
    "duration": 6,
    "start_time": "2023-05-10T14:18:01.274Z"
   },
   {
    "duration": 17,
    "start_time": "2023-05-10T14:18:03.305Z"
   },
   {
    "duration": 1185,
    "start_time": "2023-05-10T16:48:01.915Z"
   },
   {
    "duration": 420,
    "start_time": "2023-05-10T16:48:03.102Z"
   },
   {
    "duration": 17,
    "start_time": "2023-05-10T16:48:03.523Z"
   },
   {
    "duration": 115,
    "start_time": "2023-05-10T16:48:03.542Z"
   },
   {
    "duration": 58,
    "start_time": "2023-05-10T16:48:03.659Z"
   },
   {
    "duration": 71,
    "start_time": "2023-05-10T16:48:03.719Z"
   },
   {
    "duration": 57,
    "start_time": "2023-05-10T16:48:03.792Z"
   },
   {
    "duration": 5,
    "start_time": "2023-05-10T16:48:03.850Z"
   },
   {
    "duration": 13,
    "start_time": "2023-05-10T16:48:03.871Z"
   },
   {
    "duration": 6,
    "start_time": "2023-05-10T16:48:03.885Z"
   },
   {
    "duration": 273,
    "start_time": "2023-05-10T16:48:03.893Z"
   },
   {
    "duration": 26,
    "start_time": "2023-05-10T16:48:04.168Z"
   },
   {
    "duration": 30,
    "start_time": "2023-05-10T16:48:04.196Z"
   },
   {
    "duration": 9,
    "start_time": "2023-05-10T16:48:04.230Z"
   },
   {
    "duration": 37,
    "start_time": "2023-05-10T16:48:04.241Z"
   },
   {
    "duration": 37,
    "start_time": "2023-05-10T16:48:04.280Z"
   },
   {
    "duration": 66,
    "start_time": "2023-05-10T16:48:04.318Z"
   },
   {
    "duration": 33,
    "start_time": "2023-05-10T16:48:04.386Z"
   },
   {
    "duration": 104,
    "start_time": "2023-05-10T16:48:04.422Z"
   },
   {
    "duration": 45,
    "start_time": "2023-05-10T16:48:04.527Z"
   },
   {
    "duration": 35,
    "start_time": "2023-05-10T16:48:04.574Z"
   },
   {
    "duration": 14,
    "start_time": "2023-05-10T16:48:04.611Z"
   },
   {
    "duration": 13,
    "start_time": "2023-05-10T16:48:04.627Z"
   },
   {
    "duration": 147,
    "start_time": "2023-05-10T16:48:04.641Z"
   },
   {
    "duration": 171,
    "start_time": "2023-05-10T16:48:04.790Z"
   },
   {
    "duration": 11,
    "start_time": "2023-05-10T16:48:04.962Z"
   },
   {
    "duration": 40,
    "start_time": "2023-05-10T16:48:04.975Z"
   },
   {
    "duration": 10,
    "start_time": "2023-05-10T16:48:05.017Z"
   },
   {
    "duration": 7,
    "start_time": "2023-05-10T16:48:05.028Z"
   },
   {
    "duration": 37,
    "start_time": "2023-05-10T16:48:05.036Z"
   },
   {
    "duration": 23,
    "start_time": "2023-05-10T16:48:05.076Z"
   },
   {
    "duration": 1475,
    "start_time": "2023-05-10T16:48:05.101Z"
   },
   {
    "duration": 0,
    "start_time": "2023-05-10T16:48:06.577Z"
   },
   {
    "duration": 0,
    "start_time": "2023-05-10T16:48:06.579Z"
   },
   {
    "duration": 0,
    "start_time": "2023-05-10T16:48:06.580Z"
   },
   {
    "duration": 0,
    "start_time": "2023-05-10T16:48:06.581Z"
   },
   {
    "duration": 0,
    "start_time": "2023-05-10T16:48:06.582Z"
   },
   {
    "duration": 0,
    "start_time": "2023-05-10T16:48:06.583Z"
   },
   {
    "duration": 150,
    "start_time": "2023-05-10T16:56:03.706Z"
   },
   {
    "duration": 115,
    "start_time": "2023-05-10T16:59:54.944Z"
   },
   {
    "duration": 4,
    "start_time": "2023-05-10T17:00:27.961Z"
   },
   {
    "duration": 9,
    "start_time": "2023-05-10T17:01:23.538Z"
   },
   {
    "duration": 2084,
    "start_time": "2023-05-10T17:01:32.144Z"
   },
   {
    "duration": 2018,
    "start_time": "2023-05-10T17:01:49.007Z"
   },
   {
    "duration": 2020,
    "start_time": "2023-05-10T17:02:07.834Z"
   },
   {
    "duration": 2295,
    "start_time": "2023-05-10T17:02:41.651Z"
   },
   {
    "duration": 8,
    "start_time": "2023-05-10T17:03:01.579Z"
   },
   {
    "duration": 3,
    "start_time": "2023-05-10T17:03:18.842Z"
   },
   {
    "duration": 9,
    "start_time": "2023-05-10T17:03:21.604Z"
   },
   {
    "duration": 9,
    "start_time": "2023-05-10T17:03:35.437Z"
   },
   {
    "duration": 6,
    "start_time": "2023-05-10T17:03:49.238Z"
   },
   {
    "duration": 10,
    "start_time": "2023-05-10T17:04:34.013Z"
   },
   {
    "duration": 8,
    "start_time": "2023-05-10T17:04:45.945Z"
   },
   {
    "duration": 12,
    "start_time": "2023-05-10T17:04:56.377Z"
   },
   {
    "duration": 13,
    "start_time": "2023-05-10T17:05:04.919Z"
   },
   {
    "duration": 10,
    "start_time": "2023-05-10T17:05:11.096Z"
   },
   {
    "duration": 10,
    "start_time": "2023-05-10T17:05:28.140Z"
   },
   {
    "duration": 10,
    "start_time": "2023-05-10T17:05:32.190Z"
   },
   {
    "duration": 10,
    "start_time": "2023-05-10T17:05:56.119Z"
   },
   {
    "duration": 11,
    "start_time": "2023-05-10T17:06:52.636Z"
   },
   {
    "duration": 6,
    "start_time": "2023-05-10T17:08:34.100Z"
   },
   {
    "duration": 13,
    "start_time": "2023-05-10T17:09:32.287Z"
   },
   {
    "duration": 5,
    "start_time": "2023-05-10T17:09:51.589Z"
   },
   {
    "duration": 69,
    "start_time": "2023-05-10T17:09:53.970Z"
   },
   {
    "duration": 8,
    "start_time": "2023-05-10T17:11:47.072Z"
   },
   {
    "duration": 59,
    "start_time": "2023-05-10T17:11:49.236Z"
   },
   {
    "duration": 8,
    "start_time": "2023-05-10T17:12:17.345Z"
   },
   {
    "duration": 13,
    "start_time": "2023-05-10T17:12:25.471Z"
   },
   {
    "duration": 59,
    "start_time": "2023-05-10T17:12:28.353Z"
   },
   {
    "duration": 7,
    "start_time": "2023-05-10T17:12:34.799Z"
   },
   {
    "duration": 75,
    "start_time": "2023-05-10T17:12:35.742Z"
   },
   {
    "duration": 9,
    "start_time": "2023-05-10T17:12:42.291Z"
   },
   {
    "duration": 63,
    "start_time": "2023-05-10T17:12:45.033Z"
   },
   {
    "duration": 8,
    "start_time": "2023-05-10T17:12:48.589Z"
   },
   {
    "duration": 60,
    "start_time": "2023-05-10T17:12:50.035Z"
   },
   {
    "duration": 5,
    "start_time": "2023-05-10T17:13:07.938Z"
   },
   {
    "duration": 65,
    "start_time": "2023-05-10T17:13:09.967Z"
   },
   {
    "duration": 6,
    "start_time": "2023-05-10T17:20:46.872Z"
   },
   {
    "duration": 64,
    "start_time": "2023-05-10T17:20:48.740Z"
   },
   {
    "duration": 6,
    "start_time": "2023-05-10T17:20:59.661Z"
   },
   {
    "duration": 57,
    "start_time": "2023-05-10T17:21:01.525Z"
   },
   {
    "duration": 8,
    "start_time": "2023-05-10T17:21:15.308Z"
   },
   {
    "duration": 65,
    "start_time": "2023-05-10T17:21:16.511Z"
   },
   {
    "duration": 6,
    "start_time": "2023-05-10T17:21:29.225Z"
   },
   {
    "duration": 7,
    "start_time": "2023-05-10T17:27:00.833Z"
   },
   {
    "duration": 67,
    "start_time": "2023-05-10T17:27:01.773Z"
   },
   {
    "duration": 5,
    "start_time": "2023-05-10T17:32:03.551Z"
   },
   {
    "duration": 72,
    "start_time": "2023-05-10T17:32:06.099Z"
   },
   {
    "duration": 189,
    "start_time": "2023-05-10T17:51:01.850Z"
   },
   {
    "duration": 9,
    "start_time": "2023-05-10T17:51:09.346Z"
   },
   {
    "duration": 6,
    "start_time": "2023-05-10T17:51:30.931Z"
   },
   {
    "duration": 45,
    "start_time": "2023-05-10T17:51:33.067Z"
   },
   {
    "duration": 6,
    "start_time": "2023-05-10T17:51:55.875Z"
   },
   {
    "duration": 50,
    "start_time": "2023-05-10T17:51:56.776Z"
   },
   {
    "duration": 7,
    "start_time": "2023-05-10T18:00:57.769Z"
   },
   {
    "duration": 50,
    "start_time": "2023-05-10T18:01:06.730Z"
   },
   {
    "duration": 10,
    "start_time": "2023-05-10T18:07:30.423Z"
   },
   {
    "duration": 50,
    "start_time": "2023-05-10T18:07:32.668Z"
   },
   {
    "duration": 282,
    "start_time": "2023-05-10T18:11:13.201Z"
   },
   {
    "duration": 5,
    "start_time": "2023-05-10T18:11:44.359Z"
   },
   {
    "duration": 13,
    "start_time": "2023-05-10T18:12:04.238Z"
   },
   {
    "duration": 7,
    "start_time": "2023-05-10T18:12:30.473Z"
   },
   {
    "duration": 46,
    "start_time": "2023-05-10T18:12:32.540Z"
   },
   {
    "duration": 53,
    "start_time": "2023-05-10T18:12:43.769Z"
   },
   {
    "duration": 6,
    "start_time": "2023-05-10T18:13:05.571Z"
   },
   {
    "duration": 47,
    "start_time": "2023-05-10T18:13:07.903Z"
   },
   {
    "duration": 8,
    "start_time": "2023-05-10T18:13:25.519Z"
   },
   {
    "duration": 54,
    "start_time": "2023-05-10T18:13:28.144Z"
   },
   {
    "duration": 54,
    "start_time": "2023-05-10T18:16:02.215Z"
   },
   {
    "duration": 7,
    "start_time": "2023-05-10T18:20:03.459Z"
   },
   {
    "duration": 9,
    "start_time": "2023-05-10T18:23:50.302Z"
   },
   {
    "duration": 1366,
    "start_time": "2023-05-10T18:24:21.615Z"
   },
   {
    "duration": 1356,
    "start_time": "2023-05-10T18:24:37.761Z"
   },
   {
    "duration": 77,
    "start_time": "2023-05-10T18:24:55.200Z"
   },
   {
    "duration": 2056,
    "start_time": "2023-05-10T18:24:59.817Z"
   },
   {
    "duration": 3,
    "start_time": "2023-05-10T18:25:13.744Z"
   },
   {
    "duration": 1505,
    "start_time": "2023-05-10T18:25:17.065Z"
   },
   {
    "duration": 1485,
    "start_time": "2023-05-10T18:25:35.729Z"
   },
   {
    "duration": 1586,
    "start_time": "2023-05-10T18:26:26.757Z"
   },
   {
    "duration": 3,
    "start_time": "2023-05-10T18:26:47.180Z"
   },
   {
    "duration": 7,
    "start_time": "2023-05-10T18:26:50.931Z"
   },
   {
    "duration": 9,
    "start_time": "2023-05-10T18:27:29.493Z"
   },
   {
    "duration": 9,
    "start_time": "2023-05-10T18:27:45.136Z"
   },
   {
    "duration": 176,
    "start_time": "2023-05-10T18:28:51.641Z"
   },
   {
    "duration": 156,
    "start_time": "2023-05-10T18:29:14.409Z"
   },
   {
    "duration": 12,
    "start_time": "2023-05-10T18:29:20.820Z"
   },
   {
    "duration": 6,
    "start_time": "2023-05-10T18:29:26.057Z"
   },
   {
    "duration": 12,
    "start_time": "2023-05-10T18:31:56.968Z"
   },
   {
    "duration": 8,
    "start_time": "2023-05-10T18:32:49.983Z"
   },
   {
    "duration": 11,
    "start_time": "2023-05-10T18:34:26.344Z"
   },
   {
    "duration": 49,
    "start_time": "2023-05-10T18:35:57.698Z"
   },
   {
    "duration": 1005,
    "start_time": "2023-05-10T19:27:11.780Z"
   },
   {
    "duration": 425,
    "start_time": "2023-05-10T19:27:12.787Z"
   },
   {
    "duration": 19,
    "start_time": "2023-05-10T19:27:13.213Z"
   },
   {
    "duration": 115,
    "start_time": "2023-05-10T19:27:13.235Z"
   },
   {
    "duration": 58,
    "start_time": "2023-05-10T19:27:13.352Z"
   },
   {
    "duration": 57,
    "start_time": "2023-05-10T19:27:13.412Z"
   },
   {
    "duration": 68,
    "start_time": "2023-05-10T19:27:13.470Z"
   },
   {
    "duration": 6,
    "start_time": "2023-05-10T19:27:13.539Z"
   },
   {
    "duration": 28,
    "start_time": "2023-05-10T19:27:13.546Z"
   },
   {
    "duration": 22,
    "start_time": "2023-05-10T19:27:13.584Z"
   },
   {
    "duration": 320,
    "start_time": "2023-05-10T19:27:13.607Z"
   },
   {
    "duration": 18,
    "start_time": "2023-05-10T19:27:13.928Z"
   },
   {
    "duration": 58,
    "start_time": "2023-05-10T19:27:13.947Z"
   },
   {
    "duration": 8,
    "start_time": "2023-05-10T19:27:14.006Z"
   },
   {
    "duration": 40,
    "start_time": "2023-05-10T19:27:14.016Z"
   },
   {
    "duration": 44,
    "start_time": "2023-05-10T19:27:14.058Z"
   },
   {
    "duration": 58,
    "start_time": "2023-05-10T19:27:14.103Z"
   },
   {
    "duration": 41,
    "start_time": "2023-05-10T19:27:14.162Z"
   },
   {
    "duration": 118,
    "start_time": "2023-05-10T19:27:14.204Z"
   },
   {
    "duration": 34,
    "start_time": "2023-05-10T19:27:14.323Z"
   },
   {
    "duration": 46,
    "start_time": "2023-05-10T19:27:14.359Z"
   },
   {
    "duration": 27,
    "start_time": "2023-05-10T19:27:14.406Z"
   },
   {
    "duration": 14,
    "start_time": "2023-05-10T19:27:14.435Z"
   },
   {
    "duration": 122,
    "start_time": "2023-05-10T19:27:14.451Z"
   },
   {
    "duration": 163,
    "start_time": "2023-05-10T19:27:14.574Z"
   },
   {
    "duration": 9,
    "start_time": "2023-05-10T19:27:14.738Z"
   },
   {
    "duration": 19,
    "start_time": "2023-05-10T19:27:14.748Z"
   },
   {
    "duration": 55,
    "start_time": "2023-05-10T19:27:14.770Z"
   },
   {
    "duration": 65,
    "start_time": "2023-05-10T19:27:14.826Z"
   },
   {
    "duration": 47,
    "start_time": "2023-05-10T19:27:14.893Z"
   },
   {
    "duration": 10,
    "start_time": "2023-05-10T19:27:14.942Z"
   },
   {
    "duration": 11,
    "start_time": "2023-05-10T19:27:14.984Z"
   },
   {
    "duration": 53,
    "start_time": "2023-05-10T19:27:14.996Z"
   },
   {
    "duration": 1145,
    "start_time": "2023-05-11T04:33:30.777Z"
   },
   {
    "duration": 390,
    "start_time": "2023-05-11T04:33:31.924Z"
   },
   {
    "duration": 19,
    "start_time": "2023-05-11T04:33:32.315Z"
   },
   {
    "duration": 133,
    "start_time": "2023-05-11T04:33:32.336Z"
   },
   {
    "duration": 64,
    "start_time": "2023-05-11T04:33:32.471Z"
   },
   {
    "duration": 62,
    "start_time": "2023-05-11T04:33:32.536Z"
   },
   {
    "duration": 63,
    "start_time": "2023-05-11T04:33:32.604Z"
   },
   {
    "duration": 6,
    "start_time": "2023-05-11T04:33:32.669Z"
   },
   {
    "duration": 28,
    "start_time": "2023-05-11T04:33:32.676Z"
   },
   {
    "duration": 13,
    "start_time": "2023-05-11T04:33:32.717Z"
   },
   {
    "duration": 307,
    "start_time": "2023-05-11T04:33:32.731Z"
   },
   {
    "duration": 20,
    "start_time": "2023-05-11T04:33:33.040Z"
   },
   {
    "duration": 21,
    "start_time": "2023-05-11T04:33:33.062Z"
   },
   {
    "duration": 11,
    "start_time": "2023-05-11T04:33:33.100Z"
   },
   {
    "duration": 28,
    "start_time": "2023-05-11T04:33:33.112Z"
   },
   {
    "duration": 29,
    "start_time": "2023-05-11T04:33:33.142Z"
   },
   {
    "duration": 53,
    "start_time": "2023-05-11T04:33:33.172Z"
   },
   {
    "duration": 37,
    "start_time": "2023-05-11T04:33:33.227Z"
   },
   {
    "duration": 121,
    "start_time": "2023-05-11T04:33:33.266Z"
   },
   {
    "duration": 53,
    "start_time": "2023-05-11T04:33:33.397Z"
   },
   {
    "duration": 30,
    "start_time": "2023-05-11T04:33:33.452Z"
   },
   {
    "duration": 30,
    "start_time": "2023-05-11T04:33:33.484Z"
   },
   {
    "duration": 29,
    "start_time": "2023-05-11T04:33:33.516Z"
   },
   {
    "duration": 123,
    "start_time": "2023-05-11T04:33:33.547Z"
   },
   {
    "duration": 195,
    "start_time": "2023-05-11T04:33:33.672Z"
   },
   {
    "duration": 9,
    "start_time": "2023-05-11T04:33:33.869Z"
   },
   {
    "duration": 32,
    "start_time": "2023-05-11T04:33:33.879Z"
   },
   {
    "duration": 63,
    "start_time": "2023-05-11T04:33:33.914Z"
   },
   {
    "duration": 55,
    "start_time": "2023-05-11T04:33:33.978Z"
   },
   {
    "duration": 49,
    "start_time": "2023-05-11T04:33:34.034Z"
   },
   {
    "duration": 26,
    "start_time": "2023-05-11T04:33:34.085Z"
   },
   {
    "duration": 10,
    "start_time": "2023-05-11T04:33:34.114Z"
   },
   {
    "duration": 53,
    "start_time": "2023-05-11T04:33:34.126Z"
   },
   {
    "duration": 14,
    "start_time": "2023-05-11T04:45:02.210Z"
   },
   {
    "duration": 1231,
    "start_time": "2023-05-11T10:00:39.940Z"
   },
   {
    "duration": 436,
    "start_time": "2023-05-11T10:02:14.790Z"
   },
   {
    "duration": 15,
    "start_time": "2023-05-11T10:02:20.240Z"
   },
   {
    "duration": 466,
    "start_time": "2023-05-11T10:02:29.809Z"
   },
   {
    "duration": 1138,
    "start_time": "2023-05-11T10:02:39.230Z"
   },
   {
    "duration": 405,
    "start_time": "2023-05-11T10:02:51.722Z"
   },
   {
    "duration": 14,
    "start_time": "2023-05-11T10:05:37.371Z"
   },
   {
    "duration": 3,
    "start_time": "2023-05-11T10:06:13.474Z"
   },
   {
    "duration": 391,
    "start_time": "2023-05-11T10:06:13.480Z"
   },
   {
    "duration": 10,
    "start_time": "2023-05-11T10:06:13.872Z"
   },
   {
    "duration": 34,
    "start_time": "2023-05-11T10:06:13.883Z"
   },
   {
    "duration": 104,
    "start_time": "2023-05-11T10:06:13.919Z"
   },
   {
    "duration": 62,
    "start_time": "2023-05-11T10:06:14.025Z"
   },
   {
    "duration": 74,
    "start_time": "2023-05-11T10:06:14.089Z"
   },
   {
    "duration": 69,
    "start_time": "2023-05-11T10:06:14.165Z"
   },
   {
    "duration": 8,
    "start_time": "2023-05-11T10:48:36.765Z"
   },
   {
    "duration": 15,
    "start_time": "2023-05-11T10:48:38.838Z"
   },
   {
    "duration": 14,
    "start_time": "2023-05-11T10:50:03.901Z"
   },
   {
    "duration": 147,
    "start_time": "2023-05-11T10:51:05.579Z"
   },
   {
    "duration": 111,
    "start_time": "2023-05-11T10:52:16.428Z"
   },
   {
    "duration": 335,
    "start_time": "2023-05-11T10:52:36.982Z"
   },
   {
    "duration": 130,
    "start_time": "2023-05-11T10:53:19.226Z"
   },
   {
    "duration": 131,
    "start_time": "2023-05-11T10:53:21.426Z"
   },
   {
    "duration": 20,
    "start_time": "2023-05-11T10:53:34.297Z"
   },
   {
    "duration": 18,
    "start_time": "2023-05-11T10:59:44.942Z"
   },
   {
    "duration": 153,
    "start_time": "2023-05-11T11:05:41.846Z"
   },
   {
    "duration": 184,
    "start_time": "2023-05-11T11:15:07.134Z"
   },
   {
    "duration": 8,
    "start_time": "2023-05-11T11:15:45.758Z"
   },
   {
    "duration": 9,
    "start_time": "2023-05-11T11:15:53.038Z"
   },
   {
    "duration": 10013,
    "start_time": "2023-05-11T11:16:08.434Z"
   },
   {
    "duration": 163,
    "start_time": "2023-05-11T11:17:26.547Z"
   },
   {
    "duration": 306,
    "start_time": "2023-05-11T11:17:32.458Z"
   },
   {
    "duration": 30,
    "start_time": "2023-05-11T11:18:17.638Z"
   },
   {
    "duration": 13,
    "start_time": "2023-05-11T11:18:27.102Z"
   },
   {
    "duration": 147,
    "start_time": "2023-05-11T11:18:34.176Z"
   },
   {
    "duration": 170,
    "start_time": "2023-05-11T11:18:48.758Z"
   },
   {
    "duration": 10,
    "start_time": "2023-05-11T11:18:53.168Z"
   },
   {
    "duration": 20,
    "start_time": "2023-05-11T11:19:12.871Z"
   },
   {
    "duration": 1155,
    "start_time": "2023-05-11T11:22:16.445Z"
   },
   {
    "duration": 557,
    "start_time": "2023-05-11T11:22:17.602Z"
   },
   {
    "duration": 16,
    "start_time": "2023-05-11T11:22:18.162Z"
   },
   {
    "duration": 50,
    "start_time": "2023-05-11T11:22:18.180Z"
   },
   {
    "duration": 157,
    "start_time": "2023-05-11T11:22:18.232Z"
   },
   {
    "duration": 73,
    "start_time": "2023-05-11T11:22:18.391Z"
   },
   {
    "duration": 82,
    "start_time": "2023-05-11T11:22:18.465Z"
   },
   {
    "duration": 88,
    "start_time": "2023-05-11T11:22:18.549Z"
   },
   {
    "duration": 6,
    "start_time": "2023-05-11T11:22:18.639Z"
   },
   {
    "duration": 20,
    "start_time": "2023-05-11T11:22:18.647Z"
   },
   {
    "duration": 50,
    "start_time": "2023-05-11T11:22:40.011Z"
   },
   {
    "duration": 11,
    "start_time": "2023-05-11T11:22:47.202Z"
   },
   {
    "duration": 15,
    "start_time": "2023-05-11T11:23:13.184Z"
   },
   {
    "duration": 180,
    "start_time": "2023-05-11T11:23:20.167Z"
   },
   {
    "duration": 149,
    "start_time": "2023-05-11T11:23:47.791Z"
   },
   {
    "duration": 12,
    "start_time": "2023-05-11T11:24:07.095Z"
   },
   {
    "duration": 161,
    "start_time": "2023-05-11T11:24:33.655Z"
   },
   {
    "duration": 243,
    "start_time": "2023-05-11T11:27:25.763Z"
   },
   {
    "duration": 11,
    "start_time": "2023-05-11T11:27:39.646Z"
   },
   {
    "duration": 20,
    "start_time": "2023-05-11T11:30:52.171Z"
   },
   {
    "duration": 11,
    "start_time": "2023-05-11T11:31:57.850Z"
   },
   {
    "duration": 107,
    "start_time": "2023-05-11T11:32:11.699Z"
   },
   {
    "duration": 9,
    "start_time": "2023-05-11T11:32:18.202Z"
   },
   {
    "duration": 12,
    "start_time": "2023-05-11T11:32:31.675Z"
   },
   {
    "duration": 9,
    "start_time": "2023-05-11T11:32:33.990Z"
   },
   {
    "duration": 9,
    "start_time": "2023-05-11T11:32:37.745Z"
   },
   {
    "duration": 10,
    "start_time": "2023-05-11T11:32:44.106Z"
   },
   {
    "duration": 13,
    "start_time": "2023-05-11T11:33:02.218Z"
   },
   {
    "duration": 6,
    "start_time": "2023-05-11T11:33:14.273Z"
   },
   {
    "duration": 11,
    "start_time": "2023-05-11T11:33:33.464Z"
   },
   {
    "duration": 9,
    "start_time": "2023-05-11T11:33:37.946Z"
   },
   {
    "duration": 123,
    "start_time": "2023-05-11T11:33:51.131Z"
   },
   {
    "duration": 14,
    "start_time": "2023-05-11T11:34:01.678Z"
   },
   {
    "duration": 13,
    "start_time": "2023-05-11T11:34:07.049Z"
   },
   {
    "duration": 10,
    "start_time": "2023-05-11T11:34:26.662Z"
   },
   {
    "duration": 15,
    "start_time": "2023-05-11T11:35:30.943Z"
   },
   {
    "duration": 16,
    "start_time": "2023-05-11T11:35:49.099Z"
   },
   {
    "duration": 17,
    "start_time": "2023-05-11T11:35:52.486Z"
   },
   {
    "duration": 20,
    "start_time": "2023-05-11T11:36:19.235Z"
   },
   {
    "duration": 19,
    "start_time": "2023-05-11T11:36:23.690Z"
   },
   {
    "duration": 17,
    "start_time": "2023-05-11T11:36:29.842Z"
   },
   {
    "duration": 16,
    "start_time": "2023-05-11T11:36:32.396Z"
   },
   {
    "duration": 12,
    "start_time": "2023-05-11T11:36:41.172Z"
   },
   {
    "duration": 798,
    "start_time": "2023-05-11T11:37:11.371Z"
   },
   {
    "duration": 145,
    "start_time": "2023-05-11T11:37:16.145Z"
   },
   {
    "duration": 129,
    "start_time": "2023-05-11T11:37:21.626Z"
   },
   {
    "duration": 9,
    "start_time": "2023-05-11T11:37:33.595Z"
   },
   {
    "duration": 135,
    "start_time": "2023-05-11T11:37:54.129Z"
   },
   {
    "duration": 373,
    "start_time": "2023-05-11T11:38:18.792Z"
   },
   {
    "duration": 168,
    "start_time": "2023-05-11T11:38:28.313Z"
   },
   {
    "duration": 350,
    "start_time": "2023-05-11T11:38:35.889Z"
   },
   {
    "duration": 215,
    "start_time": "2023-05-11T11:41:12.035Z"
   },
   {
    "duration": 630,
    "start_time": "2023-05-11T11:41:22.514Z"
   },
   {
    "duration": 1133,
    "start_time": "2023-05-11T11:41:38.016Z"
   },
   {
    "duration": 396,
    "start_time": "2023-05-11T11:41:39.152Z"
   },
   {
    "duration": 12,
    "start_time": "2023-05-11T11:41:39.550Z"
   },
   {
    "duration": 27,
    "start_time": "2023-05-11T11:41:39.564Z"
   },
   {
    "duration": 129,
    "start_time": "2023-05-11T11:41:39.593Z"
   },
   {
    "duration": 57,
    "start_time": "2023-05-11T11:41:39.724Z"
   },
   {
    "duration": 82,
    "start_time": "2023-05-11T11:41:39.783Z"
   },
   {
    "duration": 84,
    "start_time": "2023-05-11T11:41:39.868Z"
   },
   {
    "duration": 8,
    "start_time": "2023-05-11T11:41:39.953Z"
   },
   {
    "duration": 15,
    "start_time": "2023-05-11T11:41:41.587Z"
   },
   {
    "duration": 630,
    "start_time": "2023-05-11T11:41:45.281Z"
   },
   {
    "duration": 214,
    "start_time": "2023-05-11T11:42:48.225Z"
   },
   {
    "duration": 262,
    "start_time": "2023-05-11T11:43:05.640Z"
   },
   {
    "duration": 245,
    "start_time": "2023-05-11T11:43:15.921Z"
   },
   {
    "duration": 210,
    "start_time": "2023-05-11T11:43:22.360Z"
   },
   {
    "duration": 222,
    "start_time": "2023-05-11T11:44:10.798Z"
   },
   {
    "duration": 200,
    "start_time": "2023-05-11T11:44:22.039Z"
   },
   {
    "duration": 180,
    "start_time": "2023-05-11T11:44:49.158Z"
   },
   {
    "duration": 190,
    "start_time": "2023-05-11T11:44:54.373Z"
   },
   {
    "duration": 328,
    "start_time": "2023-05-11T11:45:15.182Z"
   },
   {
    "duration": 152,
    "start_time": "2023-05-11T11:46:43.219Z"
   },
   {
    "duration": 10,
    "start_time": "2023-05-11T11:46:59.021Z"
   },
   {
    "duration": 220,
    "start_time": "2023-05-11T11:47:11.217Z"
   },
   {
    "duration": 162,
    "start_time": "2023-05-11T11:47:52.913Z"
   },
   {
    "duration": 27,
    "start_time": "2023-05-11T11:48:10.854Z"
   },
   {
    "duration": 11,
    "start_time": "2023-05-11T11:48:20.256Z"
   },
   {
    "duration": 40,
    "start_time": "2023-05-11T11:48:30.856Z"
   },
   {
    "duration": 10,
    "start_time": "2023-05-11T11:48:54.583Z"
   },
   {
    "duration": 20,
    "start_time": "2023-05-11T11:49:00.565Z"
   },
   {
    "duration": 14,
    "start_time": "2023-05-11T11:49:05.494Z"
   },
   {
    "duration": 9,
    "start_time": "2023-05-11T11:49:26.439Z"
   },
   {
    "duration": 142,
    "start_time": "2023-05-11T11:49:34.445Z"
   },
   {
    "duration": 119,
    "start_time": "2023-05-11T11:49:48.133Z"
   },
   {
    "duration": 207,
    "start_time": "2023-05-11T11:50:56.636Z"
   },
   {
    "duration": 225,
    "start_time": "2023-05-11T11:53:09.186Z"
   },
   {
    "duration": 334,
    "start_time": "2023-05-11T11:53:28.106Z"
   },
   {
    "duration": 343,
    "start_time": "2023-05-11T11:53:39.193Z"
   },
   {
    "duration": 223,
    "start_time": "2023-05-11T11:53:41.945Z"
   },
   {
    "duration": 29,
    "start_time": "2023-05-11T11:53:59.343Z"
   },
   {
    "duration": 269,
    "start_time": "2023-05-11T11:54:02.745Z"
   },
   {
    "duration": 246,
    "start_time": "2023-05-11T11:54:08.111Z"
   },
   {
    "duration": 367,
    "start_time": "2023-05-11T11:55:34.317Z"
   },
   {
    "duration": 120,
    "start_time": "2023-05-11T11:57:16.578Z"
   },
   {
    "duration": 17,
    "start_time": "2023-05-11T11:57:23.609Z"
   },
   {
    "duration": 19,
    "start_time": "2023-05-11T11:57:39.618Z"
   },
   {
    "duration": 552,
    "start_time": "2023-05-11T11:57:43.451Z"
   },
   {
    "duration": 300,
    "start_time": "2023-05-11T11:58:13.545Z"
   },
   {
    "duration": 12,
    "start_time": "2023-05-11T11:58:29.417Z"
   },
   {
    "duration": 16,
    "start_time": "2023-05-11T11:58:44.039Z"
   },
   {
    "duration": 9,
    "start_time": "2023-05-11T11:59:32.255Z"
   },
   {
    "duration": 322,
    "start_time": "2023-05-11T11:59:38.533Z"
   },
   {
    "duration": 441,
    "start_time": "2023-05-11T12:03:16.281Z"
   },
   {
    "duration": 487,
    "start_time": "2023-05-11T12:03:27.070Z"
   },
   {
    "duration": 25,
    "start_time": "2023-05-11T12:03:48.993Z"
   },
   {
    "duration": 17,
    "start_time": "2023-05-11T12:04:35.396Z"
   },
   {
    "duration": 23,
    "start_time": "2023-05-11T12:04:49.958Z"
   },
   {
    "duration": 593,
    "start_time": "2023-05-11T12:04:55.158Z"
   },
   {
    "duration": 28,
    "start_time": "2023-05-11T12:05:34.652Z"
   },
   {
    "duration": 18,
    "start_time": "2023-05-11T12:05:40.309Z"
   },
   {
    "duration": 27,
    "start_time": "2023-05-11T12:05:51.947Z"
   },
   {
    "duration": 21,
    "start_time": "2023-05-11T12:06:02.524Z"
   },
   {
    "duration": 20,
    "start_time": "2023-05-11T12:06:06.742Z"
   },
   {
    "duration": 21,
    "start_time": "2023-05-11T12:06:58.002Z"
   },
   {
    "duration": 23,
    "start_time": "2023-05-11T12:07:04.904Z"
   },
   {
    "duration": 22,
    "start_time": "2023-05-11T12:07:13.436Z"
   },
   {
    "duration": 23,
    "start_time": "2023-05-11T12:07:20.620Z"
   },
   {
    "duration": 36,
    "start_time": "2023-05-11T12:08:35.819Z"
   },
   {
    "duration": 27,
    "start_time": "2023-05-11T12:09:03.591Z"
   },
   {
    "duration": 299,
    "start_time": "2023-05-11T12:10:24.644Z"
   },
   {
    "duration": 436,
    "start_time": "2023-05-11T12:10:28.350Z"
   },
   {
    "duration": 348,
    "start_time": "2023-05-11T12:12:12.834Z"
   },
   {
    "duration": 512,
    "start_time": "2023-05-11T12:12:17.667Z"
   },
   {
    "duration": 34,
    "start_time": "2023-05-11T12:12:49.690Z"
   },
   {
    "duration": 33,
    "start_time": "2023-05-11T12:13:02.601Z"
   },
   {
    "duration": 22,
    "start_time": "2023-05-11T12:13:09.953Z"
   },
   {
    "duration": 28,
    "start_time": "2023-05-11T12:13:22.768Z"
   },
   {
    "duration": 23,
    "start_time": "2023-05-11T12:13:33.881Z"
   },
   {
    "duration": 451,
    "start_time": "2023-05-11T12:13:44.960Z"
   },
   {
    "duration": 369,
    "start_time": "2023-05-11T12:14:00.814Z"
   },
   {
    "duration": 199,
    "start_time": "2023-05-11T12:14:24.950Z"
   },
   {
    "duration": 328,
    "start_time": "2023-05-11T12:14:59.118Z"
   },
   {
    "duration": 336,
    "start_time": "2023-05-11T12:20:53.219Z"
   },
   {
    "duration": 337,
    "start_time": "2023-05-11T12:20:56.467Z"
   },
   {
    "duration": 416,
    "start_time": "2023-05-11T12:23:10.658Z"
   },
   {
    "duration": 481,
    "start_time": "2023-05-11T12:23:21.008Z"
   },
   {
    "duration": 323,
    "start_time": "2023-05-11T12:23:42.536Z"
   },
   {
    "duration": 323,
    "start_time": "2023-05-11T12:24:04.166Z"
   },
   {
    "duration": 11,
    "start_time": "2023-05-11T12:25:30.615Z"
   },
   {
    "duration": 12,
    "start_time": "2023-05-11T12:25:41.316Z"
   },
   {
    "duration": 9,
    "start_time": "2023-05-11T12:25:59.036Z"
   },
   {
    "duration": 12,
    "start_time": "2023-05-11T12:26:34.139Z"
   },
   {
    "duration": 12,
    "start_time": "2023-05-11T12:26:43.734Z"
   },
   {
    "duration": 243,
    "start_time": "2023-05-11T12:27:06.746Z"
   },
   {
    "duration": 17,
    "start_time": "2023-05-11T12:27:09.001Z"
   },
   {
    "duration": 139,
    "start_time": "2023-05-11T12:27:27.477Z"
   },
   {
    "duration": 128,
    "start_time": "2023-05-11T12:27:50.514Z"
   },
   {
    "duration": 114,
    "start_time": "2023-05-11T12:28:23.583Z"
   },
   {
    "duration": 25,
    "start_time": "2023-05-11T12:33:42.744Z"
   },
   {
    "duration": 43,
    "start_time": "2023-05-11T12:33:54.415Z"
   },
   {
    "duration": 26,
    "start_time": "2023-05-11T12:34:08.159Z"
   },
   {
    "duration": 4,
    "start_time": "2023-05-11T12:34:24.957Z"
   },
   {
    "duration": 114,
    "start_time": "2023-05-11T12:34:27.935Z"
   },
   {
    "duration": 155,
    "start_time": "2023-05-11T12:34:42.317Z"
   },
   {
    "duration": 436,
    "start_time": "2023-05-11T12:35:49.717Z"
   },
   {
    "duration": 134,
    "start_time": "2023-05-11T12:35:55.237Z"
   },
   {
    "duration": 145,
    "start_time": "2023-05-11T12:36:21.643Z"
   },
   {
    "duration": 133,
    "start_time": "2023-05-11T12:36:25.797Z"
   },
   {
    "duration": 1308,
    "start_time": "2023-05-11T13:19:34.655Z"
   },
   {
    "duration": 483,
    "start_time": "2023-05-11T13:19:35.966Z"
   },
   {
    "duration": 12,
    "start_time": "2023-05-11T13:19:36.451Z"
   },
   {
    "duration": 19,
    "start_time": "2023-05-11T13:19:36.465Z"
   },
   {
    "duration": 151,
    "start_time": "2023-05-11T13:19:36.487Z"
   },
   {
    "duration": 64,
    "start_time": "2023-05-11T13:19:36.639Z"
   },
   {
    "duration": 78,
    "start_time": "2023-05-11T13:19:36.705Z"
   },
   {
    "duration": 98,
    "start_time": "2023-05-11T13:19:36.785Z"
   },
   {
    "duration": 6,
    "start_time": "2023-05-11T13:19:36.885Z"
   },
   {
    "duration": 56,
    "start_time": "2023-05-11T13:19:36.893Z"
   },
   {
    "duration": 235,
    "start_time": "2023-05-11T13:19:36.951Z"
   },
   {
    "duration": 166,
    "start_time": "2023-05-11T13:19:37.187Z"
   },
   {
    "duration": 335,
    "start_time": "2023-05-11T13:19:37.355Z"
   },
   {
    "duration": 19,
    "start_time": "2023-05-11T13:19:39.916Z"
   },
   {
    "duration": 7,
    "start_time": "2023-05-11T13:19:43.788Z"
   },
   {
    "duration": 20,
    "start_time": "2023-05-11T13:21:08.595Z"
   },
   {
    "duration": 534,
    "start_time": "2023-05-11T13:23:20.448Z"
   },
   {
    "duration": 182,
    "start_time": "2023-05-11T13:25:41.735Z"
   },
   {
    "duration": 173,
    "start_time": "2023-05-11T13:28:49.577Z"
   },
   {
    "duration": 205,
    "start_time": "2023-05-11T13:29:11.865Z"
   },
   {
    "duration": 247,
    "start_time": "2023-05-11T13:29:24.654Z"
   },
   {
    "duration": 218,
    "start_time": "2023-05-11T13:29:55.837Z"
   },
   {
    "duration": 281,
    "start_time": "2023-05-11T13:30:29.589Z"
   },
   {
    "duration": 225,
    "start_time": "2023-05-11T13:30:50.252Z"
   },
   {
    "duration": 219,
    "start_time": "2023-05-11T13:31:22.339Z"
   },
   {
    "duration": 342,
    "start_time": "2023-05-11T13:31:25.146Z"
   },
   {
    "duration": 568,
    "start_time": "2023-05-11T13:31:28.154Z"
   },
   {
    "duration": 22,
    "start_time": "2023-05-11T13:35:58.251Z"
   },
   {
    "duration": 9,
    "start_time": "2023-05-11T13:36:00.458Z"
   },
   {
    "duration": 20,
    "start_time": "2023-05-11T13:36:02.961Z"
   },
   {
    "duration": 28,
    "start_time": "2023-05-11T13:36:05.522Z"
   },
   {
    "duration": 55,
    "start_time": "2023-05-11T13:36:08.003Z"
   },
   {
    "duration": 39,
    "start_time": "2023-05-11T13:36:11.170Z"
   },
   {
    "duration": 105,
    "start_time": "2023-05-11T13:36:20.486Z"
   },
   {
    "duration": 13,
    "start_time": "2023-05-11T13:39:16.683Z"
   },
   {
    "duration": 33,
    "start_time": "2023-05-11T13:40:25.747Z"
   },
   {
    "duration": 26,
    "start_time": "2023-05-11T13:41:09.245Z"
   },
   {
    "duration": 104,
    "start_time": "2023-05-11T13:45:45.165Z"
   },
   {
    "duration": 89,
    "start_time": "2023-05-11T13:45:49.651Z"
   },
   {
    "duration": 76,
    "start_time": "2023-05-11T13:45:55.459Z"
   },
   {
    "duration": 259,
    "start_time": "2023-05-11T15:42:12.202Z"
   },
   {
    "duration": 84,
    "start_time": "2023-05-11T15:42:15.600Z"
   },
   {
    "duration": 2097,
    "start_time": "2023-05-11T15:43:51.109Z"
   },
   {
    "duration": 85,
    "start_time": "2023-05-11T15:43:58.205Z"
   },
   {
    "duration": 94,
    "start_time": "2023-05-11T15:45:33.763Z"
   },
   {
    "duration": 91,
    "start_time": "2023-05-11T15:45:37.083Z"
   },
   {
    "duration": 84,
    "start_time": "2023-05-11T15:47:05.802Z"
   },
   {
    "duration": 92,
    "start_time": "2023-05-11T15:47:12.696Z"
   },
   {
    "duration": 77,
    "start_time": "2023-05-11T15:47:59.497Z"
   },
   {
    "duration": 2285,
    "start_time": "2023-05-11T15:49:08.813Z"
   },
   {
    "duration": 1255,
    "start_time": "2023-05-11T15:50:05.808Z"
   },
   {
    "duration": 416,
    "start_time": "2023-05-11T15:50:07.065Z"
   },
   {
    "duration": 12,
    "start_time": "2023-05-11T15:50:07.482Z"
   },
   {
    "duration": 30,
    "start_time": "2023-05-11T15:50:07.496Z"
   },
   {
    "duration": 127,
    "start_time": "2023-05-11T15:50:07.528Z"
   },
   {
    "duration": 63,
    "start_time": "2023-05-11T15:50:07.656Z"
   },
   {
    "duration": 59,
    "start_time": "2023-05-11T15:50:07.721Z"
   },
   {
    "duration": 80,
    "start_time": "2023-05-11T15:50:07.781Z"
   },
   {
    "duration": 6,
    "start_time": "2023-05-11T15:50:07.863Z"
   },
   {
    "duration": 28,
    "start_time": "2023-05-11T15:50:07.871Z"
   },
   {
    "duration": 225,
    "start_time": "2023-05-11T15:50:07.900Z"
   },
   {
    "duration": 151,
    "start_time": "2023-05-11T15:50:08.127Z"
   },
   {
    "duration": 313,
    "start_time": "2023-05-11T15:50:08.279Z"
   },
   {
    "duration": 21,
    "start_time": "2023-05-11T15:50:08.597Z"
   },
   {
    "duration": 8,
    "start_time": "2023-05-11T15:50:08.620Z"
   },
   {
    "duration": 259,
    "start_time": "2023-05-11T15:50:08.630Z"
   },
   {
    "duration": 38,
    "start_time": "2023-05-11T15:50:08.891Z"
   },
   {
    "duration": 11,
    "start_time": "2023-05-11T15:50:08.931Z"
   },
   {
    "duration": 28,
    "start_time": "2023-05-11T15:50:08.944Z"
   },
   {
    "duration": 45,
    "start_time": "2023-05-11T15:50:08.974Z"
   },
   {
    "duration": 52,
    "start_time": "2023-05-11T15:50:09.021Z"
   },
   {
    "duration": 60,
    "start_time": "2023-05-11T15:50:09.075Z"
   },
   {
    "duration": 121,
    "start_time": "2023-05-11T15:50:09.136Z"
   },
   {
    "duration": 38,
    "start_time": "2023-05-11T15:50:09.258Z"
   },
   {
    "duration": 29,
    "start_time": "2023-05-11T15:50:09.297Z"
   },
   {
    "duration": 34,
    "start_time": "2023-05-11T15:50:09.328Z"
   },
   {
    "duration": 15,
    "start_time": "2023-05-11T15:50:09.364Z"
   },
   {
    "duration": 40,
    "start_time": "2023-05-11T15:50:09.380Z"
   },
   {
    "duration": 134,
    "start_time": "2023-05-11T15:50:09.421Z"
   },
   {
    "duration": 198,
    "start_time": "2023-05-11T15:50:09.557Z"
   },
   {
    "duration": 9,
    "start_time": "2023-05-11T15:50:09.756Z"
   },
   {
    "duration": 19,
    "start_time": "2023-05-11T15:50:09.767Z"
   },
   {
    "duration": 84,
    "start_time": "2023-05-11T15:50:09.788Z"
   },
   {
    "duration": 66,
    "start_time": "2023-05-11T15:50:09.874Z"
   },
   {
    "duration": 50,
    "start_time": "2023-05-11T15:50:09.941Z"
   },
   {
    "duration": 32,
    "start_time": "2023-05-11T15:50:09.993Z"
   },
   {
    "duration": 33,
    "start_time": "2023-05-11T15:50:10.026Z"
   },
   {
    "duration": 74,
    "start_time": "2023-05-11T15:50:10.060Z"
   },
   {
    "duration": 78,
    "start_time": "2023-05-11T15:52:06.481Z"
   },
   {
    "duration": 79,
    "start_time": "2023-05-11T15:52:37.580Z"
   },
   {
    "duration": 2479,
    "start_time": "2023-05-11T15:55:05.554Z"
   },
   {
    "duration": 80,
    "start_time": "2023-05-11T15:55:31.804Z"
   },
   {
    "duration": 1248,
    "start_time": "2023-05-11T15:55:45.723Z"
   },
   {
    "duration": 83,
    "start_time": "2023-05-11T15:56:14.120Z"
   },
   {
    "duration": 5,
    "start_time": "2023-05-11T15:56:20.388Z"
   },
   {
    "duration": 9,
    "start_time": "2023-05-11T15:56:28.305Z"
   },
   {
    "duration": 10,
    "start_time": "2023-05-11T15:56:41.085Z"
   },
   {
    "duration": 9,
    "start_time": "2023-05-11T15:57:02.505Z"
   },
   {
    "duration": 4,
    "start_time": "2023-05-11T15:57:26.939Z"
   },
   {
    "duration": 11,
    "start_time": "2023-05-11T15:57:31.310Z"
   },
   {
    "duration": 448,
    "start_time": "2023-05-11T15:57:42.185Z"
   },
   {
    "duration": 9,
    "start_time": "2023-05-11T15:58:06.951Z"
   },
   {
    "duration": 96,
    "start_time": "2023-05-11T15:59:02.637Z"
   },
   {
    "duration": 91,
    "start_time": "2023-05-11T15:59:05.789Z"
   },
   {
    "duration": 1382,
    "start_time": "2023-05-11T18:10:20.163Z"
   },
   {
    "duration": 524,
    "start_time": "2023-05-11T18:10:21.547Z"
   },
   {
    "duration": 35,
    "start_time": "2023-05-11T18:10:22.073Z"
   },
   {
    "duration": 18,
    "start_time": "2023-05-11T18:10:22.112Z"
   },
   {
    "duration": 123,
    "start_time": "2023-05-11T18:10:22.131Z"
   },
   {
    "duration": 75,
    "start_time": "2023-05-11T18:10:22.256Z"
   },
   {
    "duration": 77,
    "start_time": "2023-05-11T18:10:22.333Z"
   },
   {
    "duration": 66,
    "start_time": "2023-05-11T18:10:22.412Z"
   },
   {
    "duration": 34,
    "start_time": "2023-05-11T18:10:22.480Z"
   },
   {
    "duration": 42,
    "start_time": "2023-05-11T18:10:22.519Z"
   },
   {
    "duration": 254,
    "start_time": "2023-05-11T18:10:22.563Z"
   },
   {
    "duration": 158,
    "start_time": "2023-05-11T18:10:22.819Z"
   },
   {
    "duration": 331,
    "start_time": "2023-05-11T18:10:22.979Z"
   },
   {
    "duration": 9,
    "start_time": "2023-05-11T18:10:23.314Z"
   },
   {
    "duration": 11,
    "start_time": "2023-05-11T18:10:23.325Z"
   },
   {
    "duration": 275,
    "start_time": "2023-05-11T18:10:23.338Z"
   },
   {
    "duration": 29,
    "start_time": "2023-05-11T18:10:23.616Z"
   },
   {
    "duration": 10,
    "start_time": "2023-05-11T18:10:23.647Z"
   },
   {
    "duration": 24,
    "start_time": "2023-05-11T18:10:23.659Z"
   },
   {
    "duration": 36,
    "start_time": "2023-05-11T18:10:23.697Z"
   },
   {
    "duration": 76,
    "start_time": "2023-05-11T18:10:23.734Z"
   },
   {
    "duration": 47,
    "start_time": "2023-05-11T18:10:23.816Z"
   },
   {
    "duration": 111,
    "start_time": "2023-05-11T18:10:23.864Z"
   },
   {
    "duration": 51,
    "start_time": "2023-05-11T18:10:23.977Z"
   },
   {
    "duration": 95,
    "start_time": "2023-05-11T18:10:28.611Z"
   },
   {
    "duration": 88,
    "start_time": "2023-05-11T18:11:24.639Z"
   },
   {
    "duration": 243,
    "start_time": "2023-05-11T18:11:51.957Z"
   },
   {
    "duration": 88,
    "start_time": "2023-05-11T18:12:30.265Z"
   },
   {
    "duration": 1570,
    "start_time": "2023-05-11T18:33:22.184Z"
   },
   {
    "duration": 119,
    "start_time": "2023-05-11T18:33:30.414Z"
   },
   {
    "duration": 127,
    "start_time": "2023-05-11T18:40:59.379Z"
   },
   {
    "duration": 102,
    "start_time": "2023-05-11T18:41:05.167Z"
   },
   {
    "duration": 99,
    "start_time": "2023-05-11T18:42:23.318Z"
   },
   {
    "duration": 80,
    "start_time": "2023-05-11T18:42:37.318Z"
   },
   {
    "duration": 94,
    "start_time": "2023-05-11T18:42:41.406Z"
   },
   {
    "duration": 99,
    "start_time": "2023-05-11T18:42:48.079Z"
   },
   {
    "duration": 92,
    "start_time": "2023-05-11T18:42:56.008Z"
   },
   {
    "duration": 101,
    "start_time": "2023-05-11T18:43:41.966Z"
   },
   {
    "duration": 95,
    "start_time": "2023-05-11T18:43:55.371Z"
   },
   {
    "duration": 1665,
    "start_time": "2023-05-11T18:44:01.805Z"
   },
   {
    "duration": 89,
    "start_time": "2023-05-11T18:44:19.916Z"
   },
   {
    "duration": 128,
    "start_time": "2023-05-11T18:45:01.715Z"
   },
   {
    "duration": 103,
    "start_time": "2023-05-11T18:45:50.007Z"
   },
   {
    "duration": 106,
    "start_time": "2023-05-11T18:45:56.309Z"
   },
   {
    "duration": 105,
    "start_time": "2023-05-11T18:46:06.117Z"
   },
   {
    "duration": 95,
    "start_time": "2023-05-11T18:46:14.039Z"
   },
   {
    "duration": 106,
    "start_time": "2023-05-11T18:46:39.011Z"
   },
   {
    "duration": 94,
    "start_time": "2023-05-11T18:47:25.638Z"
   },
   {
    "duration": 92,
    "start_time": "2023-05-11T18:49:39.976Z"
   },
   {
    "duration": 90,
    "start_time": "2023-05-11T18:49:57.980Z"
   },
   {
    "duration": 79,
    "start_time": "2023-05-11T18:50:02.301Z"
   },
   {
    "duration": 9,
    "start_time": "2023-05-11T18:50:44.128Z"
   },
   {
    "duration": 98,
    "start_time": "2023-05-11T18:50:51.751Z"
   },
   {
    "duration": 122,
    "start_time": "2023-05-11T18:51:16.180Z"
   },
   {
    "duration": 99,
    "start_time": "2023-05-11T18:51:23.824Z"
   },
   {
    "duration": 83,
    "start_time": "2023-05-11T18:51:31.225Z"
   },
   {
    "duration": 91,
    "start_time": "2023-05-11T18:51:34.405Z"
   },
   {
    "duration": 7,
    "start_time": "2023-05-11T18:53:03.726Z"
   },
   {
    "duration": 79,
    "start_time": "2023-05-11T18:53:16.814Z"
   },
   {
    "duration": 134,
    "start_time": "2023-05-11T18:58:16.564Z"
   },
   {
    "duration": 105,
    "start_time": "2023-05-11T19:02:10.814Z"
   },
   {
    "duration": 1105,
    "start_time": "2023-05-11T19:06:20.019Z"
   },
   {
    "duration": 591,
    "start_time": "2023-05-11T19:06:21.126Z"
   },
   {
    "duration": 16,
    "start_time": "2023-05-11T19:06:21.718Z"
   },
   {
    "duration": 18,
    "start_time": "2023-05-11T19:06:21.736Z"
   },
   {
    "duration": 172,
    "start_time": "2023-05-11T19:06:21.756Z"
   },
   {
    "duration": 86,
    "start_time": "2023-05-11T19:06:21.930Z"
   },
   {
    "duration": 104,
    "start_time": "2023-05-11T19:06:22.018Z"
   },
   {
    "duration": 82,
    "start_time": "2023-05-11T19:06:22.124Z"
   },
   {
    "duration": 7,
    "start_time": "2023-05-11T19:06:22.208Z"
   },
   {
    "duration": 37,
    "start_time": "2023-05-11T19:06:22.216Z"
   },
   {
    "duration": 228,
    "start_time": "2023-05-11T19:06:22.254Z"
   },
   {
    "duration": 157,
    "start_time": "2023-05-11T19:06:22.488Z"
   },
   {
    "duration": 392,
    "start_time": "2023-05-11T19:06:22.646Z"
   },
   {
    "duration": 10,
    "start_time": "2023-05-11T19:06:23.041Z"
   },
   {
    "duration": 11,
    "start_time": "2023-05-11T19:06:23.052Z"
   },
   {
    "duration": 313,
    "start_time": "2023-05-11T19:06:23.064Z"
   },
   {
    "duration": 27,
    "start_time": "2023-05-11T19:06:23.379Z"
   },
   {
    "duration": 23,
    "start_time": "2023-05-11T19:06:23.407Z"
   },
   {
    "duration": 21,
    "start_time": "2023-05-11T19:06:23.432Z"
   },
   {
    "duration": 52,
    "start_time": "2023-05-11T19:06:23.454Z"
   },
   {
    "duration": 68,
    "start_time": "2023-05-11T19:06:23.508Z"
   },
   {
    "duration": 59,
    "start_time": "2023-05-11T19:06:23.578Z"
   },
   {
    "duration": 111,
    "start_time": "2023-05-11T19:06:23.639Z"
   },
   {
    "duration": 71,
    "start_time": "2023-05-11T19:06:23.751Z"
   },
   {
    "duration": 108,
    "start_time": "2023-05-11T19:06:23.824Z"
   },
   {
    "duration": 39,
    "start_time": "2023-05-11T19:06:23.934Z"
   },
   {
    "duration": 48,
    "start_time": "2023-05-11T19:06:23.974Z"
   },
   {
    "duration": 74,
    "start_time": "2023-05-11T19:06:24.024Z"
   },
   {
    "duration": 179,
    "start_time": "2023-05-11T19:06:24.099Z"
   },
   {
    "duration": 252,
    "start_time": "2023-05-11T19:06:24.279Z"
   },
   {
    "duration": 12,
    "start_time": "2023-05-11T19:06:24.534Z"
   },
   {
    "duration": 9,
    "start_time": "2023-05-11T19:06:24.548Z"
   },
   {
    "duration": 87,
    "start_time": "2023-05-11T19:06:24.559Z"
   },
   {
    "duration": 66,
    "start_time": "2023-05-11T19:06:24.648Z"
   },
   {
    "duration": 55,
    "start_time": "2023-05-11T19:06:24.716Z"
   },
   {
    "duration": 34,
    "start_time": "2023-05-11T19:06:24.772Z"
   },
   {
    "duration": 20,
    "start_time": "2023-05-11T19:06:24.810Z"
   },
   {
    "duration": 87,
    "start_time": "2023-05-11T19:06:24.831Z"
   },
   {
    "duration": 1224,
    "start_time": "2023-05-12T06:55:28.526Z"
   },
   {
    "duration": 398,
    "start_time": "2023-05-12T06:55:29.754Z"
   },
   {
    "duration": 13,
    "start_time": "2023-05-12T06:55:30.153Z"
   },
   {
    "duration": 18,
    "start_time": "2023-05-12T06:55:30.179Z"
   },
   {
    "duration": 150,
    "start_time": "2023-05-12T06:55:30.199Z"
   },
   {
    "duration": 61,
    "start_time": "2023-05-12T06:55:30.350Z"
   },
   {
    "duration": 67,
    "start_time": "2023-05-12T06:55:30.413Z"
   },
   {
    "duration": 64,
    "start_time": "2023-05-12T06:55:30.482Z"
   },
   {
    "duration": 7,
    "start_time": "2023-05-12T06:55:30.547Z"
   },
   {
    "duration": 33,
    "start_time": "2023-05-12T06:55:30.556Z"
   },
   {
    "duration": 242,
    "start_time": "2023-05-12T06:55:30.590Z"
   },
   {
    "duration": 139,
    "start_time": "2023-05-12T06:55:30.834Z"
   },
   {
    "duration": 330,
    "start_time": "2023-05-12T06:55:30.978Z"
   },
   {
    "duration": 9,
    "start_time": "2023-05-12T06:55:31.310Z"
   },
   {
    "duration": 39,
    "start_time": "2023-05-12T06:55:31.321Z"
   },
   {
    "duration": 291,
    "start_time": "2023-05-12T06:55:31.362Z"
   },
   {
    "duration": 37,
    "start_time": "2023-05-12T06:55:31.655Z"
   },
   {
    "duration": 11,
    "start_time": "2023-05-12T06:55:31.694Z"
   },
   {
    "duration": 64,
    "start_time": "2023-05-12T06:55:31.707Z"
   },
   {
    "duration": 54,
    "start_time": "2023-05-12T06:55:31.773Z"
   },
   {
    "duration": 63,
    "start_time": "2023-05-12T06:55:31.830Z"
   },
   {
    "duration": 43,
    "start_time": "2023-05-12T06:55:31.895Z"
   },
   {
    "duration": 148,
    "start_time": "2023-05-12T06:55:31.940Z"
   },
   {
    "duration": 39,
    "start_time": "2023-05-12T06:55:32.090Z"
   },
   {
    "duration": 112,
    "start_time": "2023-05-12T06:55:32.131Z"
   },
   {
    "duration": 50,
    "start_time": "2023-05-12T06:55:32.245Z"
   },
   {
    "duration": 16,
    "start_time": "2023-05-12T06:55:32.298Z"
   },
   {
    "duration": 18,
    "start_time": "2023-05-12T06:55:35.834Z"
   },
   {
    "duration": 1155,
    "start_time": "2023-05-12T07:15:31.515Z"
   },
   {
    "duration": 646,
    "start_time": "2023-05-12T07:15:32.673Z"
   },
   {
    "duration": 16,
    "start_time": "2023-05-12T07:15:33.321Z"
   },
   {
    "duration": 55,
    "start_time": "2023-05-12T07:15:33.339Z"
   },
   {
    "duration": 141,
    "start_time": "2023-05-12T07:15:33.397Z"
   },
   {
    "duration": 75,
    "start_time": "2023-05-12T07:15:33.539Z"
   },
   {
    "duration": 79,
    "start_time": "2023-05-12T07:15:33.616Z"
   },
   {
    "duration": 90,
    "start_time": "2023-05-12T07:15:33.697Z"
   },
   {
    "duration": 9,
    "start_time": "2023-05-12T07:15:33.789Z"
   },
   {
    "duration": 25,
    "start_time": "2023-05-12T07:15:33.800Z"
   },
   {
    "duration": 247,
    "start_time": "2023-05-12T07:15:33.827Z"
   },
   {
    "duration": 158,
    "start_time": "2023-05-12T07:15:34.075Z"
   },
   {
    "duration": 384,
    "start_time": "2023-05-12T07:15:34.235Z"
   },
   {
    "duration": 9,
    "start_time": "2023-05-12T07:15:34.623Z"
   },
   {
    "duration": 15,
    "start_time": "2023-05-12T07:15:34.634Z"
   },
   {
    "duration": 299,
    "start_time": "2023-05-12T07:15:34.651Z"
   },
   {
    "duration": 40,
    "start_time": "2023-05-12T07:15:34.952Z"
   },
   {
    "duration": 10,
    "start_time": "2023-05-12T07:15:34.994Z"
   },
   {
    "duration": 18,
    "start_time": "2023-05-12T07:15:35.005Z"
   },
   {
    "duration": 62,
    "start_time": "2023-05-12T07:15:35.025Z"
   },
   {
    "duration": 60,
    "start_time": "2023-05-12T07:15:35.089Z"
   },
   {
    "duration": 67,
    "start_time": "2023-05-12T07:15:35.151Z"
   },
   {
    "duration": 127,
    "start_time": "2023-05-12T07:15:35.219Z"
   },
   {
    "duration": 51,
    "start_time": "2023-05-12T07:15:35.347Z"
   },
   {
    "duration": 123,
    "start_time": "2023-05-12T07:15:35.400Z"
   },
   {
    "duration": 54,
    "start_time": "2023-05-12T07:15:35.525Z"
   },
   {
    "duration": 19,
    "start_time": "2023-05-12T07:15:35.581Z"
   },
   {
    "duration": 30,
    "start_time": "2023-05-12T07:15:35.601Z"
   },
   {
    "duration": 249,
    "start_time": "2023-05-12T07:15:35.633Z"
   },
   {
    "duration": 12,
    "start_time": "2023-05-12T07:15:35.884Z"
   },
   {
    "duration": 55,
    "start_time": "2023-05-12T07:15:35.898Z"
   },
   {
    "duration": 101,
    "start_time": "2023-05-12T07:15:35.955Z"
   },
   {
    "duration": 58,
    "start_time": "2023-05-12T07:15:36.059Z"
   },
   {
    "duration": 82,
    "start_time": "2023-05-12T07:15:36.119Z"
   },
   {
    "duration": 11,
    "start_time": "2023-05-12T07:15:36.203Z"
   },
   {
    "duration": 22,
    "start_time": "2023-05-12T07:15:36.215Z"
   },
   {
    "duration": 95,
    "start_time": "2023-05-12T07:15:36.239Z"
   },
   {
    "duration": 1175,
    "start_time": "2023-05-12T12:40:55.990Z"
   },
   {
    "duration": 516,
    "start_time": "2023-05-12T12:40:57.167Z"
   },
   {
    "duration": 18,
    "start_time": "2023-05-12T12:40:57.687Z"
   },
   {
    "duration": 24,
    "start_time": "2023-05-12T12:40:57.707Z"
   },
   {
    "duration": 206,
    "start_time": "2023-05-12T12:40:57.734Z"
   },
   {
    "duration": 79,
    "start_time": "2023-05-12T12:40:57.942Z"
   },
   {
    "duration": 72,
    "start_time": "2023-05-12T12:40:58.022Z"
   },
   {
    "duration": 71,
    "start_time": "2023-05-12T12:40:58.095Z"
   },
   {
    "duration": 13,
    "start_time": "2023-05-12T12:40:58.179Z"
   },
   {
    "duration": 16,
    "start_time": "2023-05-12T12:40:58.195Z"
   },
   {
    "duration": 248,
    "start_time": "2023-05-12T12:40:58.213Z"
   },
   {
    "duration": 166,
    "start_time": "2023-05-12T12:40:58.463Z"
   },
   {
    "duration": 349,
    "start_time": "2023-05-12T12:40:58.631Z"
   },
   {
    "duration": 10,
    "start_time": "2023-05-12T12:40:58.984Z"
   },
   {
    "duration": 22,
    "start_time": "2023-05-12T12:40:58.996Z"
   },
   {
    "duration": 260,
    "start_time": "2023-05-12T12:40:59.020Z"
   },
   {
    "duration": 22,
    "start_time": "2023-05-12T12:40:59.283Z"
   },
   {
    "duration": 11,
    "start_time": "2023-05-12T12:40:59.306Z"
   },
   {
    "duration": 14,
    "start_time": "2023-05-12T12:40:59.319Z"
   },
   {
    "duration": 59,
    "start_time": "2023-05-12T12:40:59.335Z"
   },
   {
    "duration": 59,
    "start_time": "2023-05-12T12:40:59.396Z"
   },
   {
    "duration": 52,
    "start_time": "2023-05-12T12:40:59.457Z"
   },
   {
    "duration": 131,
    "start_time": "2023-05-12T12:40:59.510Z"
   },
   {
    "duration": 49,
    "start_time": "2023-05-12T12:40:59.642Z"
   },
   {
    "duration": 109,
    "start_time": "2023-05-12T12:40:59.693Z"
   },
   {
    "duration": 35,
    "start_time": "2023-05-12T12:40:59.804Z"
   },
   {
    "duration": 14,
    "start_time": "2023-05-12T12:40:59.841Z"
   },
   {
    "duration": 32,
    "start_time": "2023-05-12T12:40:59.857Z"
   },
   {
    "duration": 217,
    "start_time": "2023-05-12T12:40:59.890Z"
   },
   {
    "duration": 10,
    "start_time": "2023-05-12T12:41:00.110Z"
   },
   {
    "duration": 29,
    "start_time": "2023-05-12T12:41:00.122Z"
   },
   {
    "duration": 82,
    "start_time": "2023-05-12T12:41:00.152Z"
   },
   {
    "duration": 72,
    "start_time": "2023-05-12T12:41:00.235Z"
   },
   {
    "duration": 70,
    "start_time": "2023-05-12T12:41:00.309Z"
   },
   {
    "duration": 11,
    "start_time": "2023-05-12T12:41:00.380Z"
   },
   {
    "duration": 34,
    "start_time": "2023-05-12T12:41:00.393Z"
   },
   {
    "duration": 102,
    "start_time": "2023-05-12T12:41:00.429Z"
   },
   {
    "duration": 3,
    "start_time": "2023-05-12T16:09:38.311Z"
   },
   {
    "duration": 442,
    "start_time": "2023-05-12T16:09:38.315Z"
   },
   {
    "duration": 9,
    "start_time": "2023-05-12T16:09:38.758Z"
   },
   {
    "duration": 30,
    "start_time": "2023-05-12T16:09:38.769Z"
   },
   {
    "duration": 119,
    "start_time": "2023-05-12T16:09:38.800Z"
   },
   {
    "duration": 57,
    "start_time": "2023-05-12T16:09:38.922Z"
   },
   {
    "duration": 69,
    "start_time": "2023-05-12T16:09:38.981Z"
   },
   {
    "duration": 59,
    "start_time": "2023-05-12T16:09:39.056Z"
   },
   {
    "duration": 7,
    "start_time": "2023-05-12T16:09:39.116Z"
   },
   {
    "duration": 31,
    "start_time": "2023-05-12T16:09:39.125Z"
   },
   {
    "duration": 227,
    "start_time": "2023-05-12T16:09:39.158Z"
   },
   {
    "duration": 140,
    "start_time": "2023-05-12T16:09:39.387Z"
   },
   {
    "duration": 327,
    "start_time": "2023-05-12T16:09:39.529Z"
   },
   {
    "duration": 9,
    "start_time": "2023-05-12T16:09:39.858Z"
   },
   {
    "duration": 6,
    "start_time": "2023-05-12T16:09:39.869Z"
   },
   {
    "duration": 238,
    "start_time": "2023-05-12T16:09:39.877Z"
   },
   {
    "duration": 20,
    "start_time": "2023-05-12T16:09:40.118Z"
   },
   {
    "duration": 18,
    "start_time": "2023-05-12T16:09:40.140Z"
   },
   {
    "duration": 15,
    "start_time": "2023-05-12T16:09:40.160Z"
   },
   {
    "duration": 26,
    "start_time": "2023-05-12T16:09:40.177Z"
   },
   {
    "duration": 81,
    "start_time": "2023-05-12T16:09:40.204Z"
   },
   {
    "duration": 36,
    "start_time": "2023-05-12T16:09:40.287Z"
   },
   {
    "duration": 106,
    "start_time": "2023-05-12T16:09:40.325Z"
   },
   {
    "duration": 50,
    "start_time": "2023-05-12T16:09:40.433Z"
   },
   {
    "duration": 103,
    "start_time": "2023-05-12T16:09:40.484Z"
   },
   {
    "duration": 33,
    "start_time": "2023-05-12T16:09:40.588Z"
   },
   {
    "duration": 30,
    "start_time": "2023-05-12T16:09:40.622Z"
   },
   {
    "duration": 14,
    "start_time": "2023-05-12T16:09:40.654Z"
   },
   {
    "duration": 195,
    "start_time": "2023-05-12T16:09:40.669Z"
   },
   {
    "duration": 11,
    "start_time": "2023-05-12T16:09:40.866Z"
   },
   {
    "duration": 16,
    "start_time": "2023-05-12T16:09:40.880Z"
   },
   {
    "duration": 58,
    "start_time": "2023-05-12T16:09:40.898Z"
   },
   {
    "duration": 49,
    "start_time": "2023-05-12T16:09:40.958Z"
   },
   {
    "duration": 65,
    "start_time": "2023-05-12T16:09:41.008Z"
   },
   {
    "duration": 9,
    "start_time": "2023-05-12T16:09:41.075Z"
   },
   {
    "duration": 14,
    "start_time": "2023-05-12T16:09:41.086Z"
   },
   {
    "duration": 71,
    "start_time": "2023-05-12T16:09:41.101Z"
   },
   {
    "duration": 2157,
    "start_time": "2023-05-13T06:26:38.113Z"
   },
   {
    "duration": 1547,
    "start_time": "2023-05-13T06:26:40.272Z"
   },
   {
    "duration": 39,
    "start_time": "2023-05-13T06:26:41.825Z"
   },
   {
    "duration": 180,
    "start_time": "2023-05-13T06:26:41.869Z"
   },
   {
    "duration": 362,
    "start_time": "2023-05-13T06:26:42.056Z"
   },
   {
    "duration": 128,
    "start_time": "2023-05-13T06:26:42.422Z"
   },
   {
    "duration": 146,
    "start_time": "2023-05-13T06:26:42.556Z"
   },
   {
    "duration": 134,
    "start_time": "2023-05-13T06:26:42.710Z"
   },
   {
    "duration": 14,
    "start_time": "2023-05-13T06:26:42.848Z"
   },
   {
    "duration": 147,
    "start_time": "2023-05-13T06:26:42.867Z"
   },
   {
    "duration": 582,
    "start_time": "2023-05-13T06:26:43.019Z"
   },
   {
    "duration": 209,
    "start_time": "2023-05-13T06:26:43.605Z"
   },
   {
    "duration": 589,
    "start_time": "2023-05-13T06:26:43.821Z"
   },
   {
    "duration": 15,
    "start_time": "2023-05-13T06:26:44.415Z"
   },
   {
    "duration": 171,
    "start_time": "2023-05-13T06:26:44.435Z"
   },
   {
    "duration": 595,
    "start_time": "2023-05-13T06:26:44.611Z"
   },
   {
    "duration": 49,
    "start_time": "2023-05-13T06:26:45.215Z"
   },
   {
    "duration": 110,
    "start_time": "2023-05-13T06:26:45.275Z"
   },
   {
    "duration": 131,
    "start_time": "2023-05-13T06:26:45.391Z"
   },
   {
    "duration": 170,
    "start_time": "2023-05-13T06:26:45.536Z"
   },
   {
    "duration": 186,
    "start_time": "2023-05-13T06:26:45.722Z"
   },
   {
    "duration": 229,
    "start_time": "2023-05-13T06:26:45.914Z"
   },
   {
    "duration": 259,
    "start_time": "2023-05-13T06:26:46.147Z"
   },
   {
    "duration": 79,
    "start_time": "2023-05-13T06:26:46.411Z"
   },
   {
    "duration": 313,
    "start_time": "2023-05-13T06:26:46.501Z"
   },
   {
    "duration": 176,
    "start_time": "2023-05-13T06:26:46.818Z"
   },
   {
    "duration": 140,
    "start_time": "2023-05-13T06:26:47.006Z"
   },
   {
    "duration": 198,
    "start_time": "2023-05-13T06:26:47.152Z"
   },
   {
    "duration": 527,
    "start_time": "2023-05-13T06:26:47.355Z"
   },
   {
    "duration": 15,
    "start_time": "2023-05-13T06:26:47.891Z"
   },
   {
    "duration": 202,
    "start_time": "2023-05-13T06:26:47.916Z"
   },
   {
    "duration": 303,
    "start_time": "2023-05-13T06:26:48.123Z"
   },
   {
    "duration": 158,
    "start_time": "2023-05-13T06:26:48.430Z"
   },
   {
    "duration": 172,
    "start_time": "2023-05-13T06:26:48.592Z"
   },
   {
    "duration": 104,
    "start_time": "2023-05-13T06:26:48.770Z"
   },
   {
    "duration": 195,
    "start_time": "2023-05-13T06:26:48.883Z"
   },
   {
    "duration": 288,
    "start_time": "2023-05-13T06:26:49.090Z"
   },
   {
    "duration": 1201,
    "start_time": "2023-07-08T15:49:34.895Z"
   },
   {
    "duration": 516,
    "start_time": "2023-07-08T15:49:36.098Z"
   },
   {
    "duration": 13,
    "start_time": "2023-07-08T15:49:36.615Z"
   },
   {
    "duration": 19,
    "start_time": "2023-07-08T15:49:36.630Z"
   },
   {
    "duration": 156,
    "start_time": "2023-07-08T15:49:36.651Z"
   },
   {
    "duration": 57,
    "start_time": "2023-07-08T15:49:36.809Z"
   },
   {
    "duration": 78,
    "start_time": "2023-07-08T15:49:36.875Z"
   },
   {
    "duration": 72,
    "start_time": "2023-07-08T15:49:36.955Z"
   },
   {
    "duration": 7,
    "start_time": "2023-07-08T15:49:37.028Z"
   },
   {
    "duration": 18,
    "start_time": "2023-07-08T15:49:37.037Z"
   },
   {
    "duration": 261,
    "start_time": "2023-07-08T15:49:37.056Z"
   },
   {
    "duration": 163,
    "start_time": "2023-07-08T15:49:37.319Z"
   },
   {
    "duration": 333,
    "start_time": "2023-07-08T15:49:37.488Z"
   },
   {
    "duration": 7,
    "start_time": "2023-07-08T15:49:37.824Z"
   },
   {
    "duration": 11,
    "start_time": "2023-07-08T15:49:37.833Z"
   },
   {
    "duration": 266,
    "start_time": "2023-07-08T15:49:37.845Z"
   },
   {
    "duration": 22,
    "start_time": "2023-07-08T15:49:38.112Z"
   },
   {
    "duration": 7,
    "start_time": "2023-07-08T15:49:38.136Z"
   },
   {
    "duration": 41,
    "start_time": "2023-07-08T15:49:38.145Z"
   },
   {
    "duration": 52,
    "start_time": "2023-07-08T15:49:38.187Z"
   },
   {
    "duration": 62,
    "start_time": "2023-07-08T15:49:38.241Z"
   },
   {
    "duration": 36,
    "start_time": "2023-07-08T15:49:38.305Z"
   },
   {
    "duration": 128,
    "start_time": "2023-07-08T15:49:38.343Z"
   },
   {
    "duration": 61,
    "start_time": "2023-07-08T15:49:38.474Z"
   },
   {
    "duration": 108,
    "start_time": "2023-07-08T15:49:38.537Z"
   },
   {
    "duration": 37,
    "start_time": "2023-07-08T15:49:38.647Z"
   },
   {
    "duration": 54,
    "start_time": "2023-07-08T15:49:38.689Z"
   },
   {
    "duration": 27,
    "start_time": "2023-07-08T15:49:38.745Z"
   },
   {
    "duration": 206,
    "start_time": "2023-07-08T15:49:38.778Z"
   },
   {
    "duration": 14,
    "start_time": "2023-07-08T15:49:38.988Z"
   },
   {
    "duration": 33,
    "start_time": "2023-07-08T15:49:39.004Z"
   },
   {
    "duration": 85,
    "start_time": "2023-07-08T15:49:39.039Z"
   },
   {
    "duration": 72,
    "start_time": "2023-07-08T15:49:39.126Z"
   },
   {
    "duration": 58,
    "start_time": "2023-07-08T15:49:39.199Z"
   },
   {
    "duration": 33,
    "start_time": "2023-07-08T15:49:39.259Z"
   },
   {
    "duration": 21,
    "start_time": "2023-07-08T15:49:39.294Z"
   },
   {
    "duration": 53,
    "start_time": "2023-07-08T15:49:39.317Z"
   },
   {
    "duration": 13,
    "start_time": "2023-07-08T15:49:45.079Z"
   },
   {
    "duration": 9,
    "start_time": "2023-07-08T15:49:56.636Z"
   },
   {
    "duration": 6,
    "start_time": "2023-07-08T17:41:45.200Z"
   }
  ],
  "kernelspec": {
   "display_name": "Python 3 (ipykernel)",
   "language": "python",
   "name": "python3"
  },
  "language_info": {
   "codemirror_mode": {
    "name": "ipython",
    "version": 3
   },
   "file_extension": ".py",
   "mimetype": "text/x-python",
   "name": "python",
   "nbconvert_exporter": "python",
   "pygments_lexer": "ipython3",
   "version": "3.9.13"
  },
  "toc": {
   "base_numbering": 1,
   "nav_menu": {},
   "number_sections": true,
   "sideBar": true,
   "skip_h1_title": true,
   "title_cell": "Table of Contents",
   "title_sidebar": "Contents",
   "toc_cell": false,
   "toc_position": {
    "height": "calc(100% - 180px)",
    "left": "10px",
    "top": "150px",
    "width": "328.528px"
   },
   "toc_section_display": true,
   "toc_window_display": true
  }
 },
 "nbformat": 4,
 "nbformat_minor": 2
}
